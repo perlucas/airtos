{
 "cells": [
  {
   "cell_type": "code",
   "execution_count": 1,
   "id": "b841b354-efc8-4cab-8e67-4a0b2543e27d",
   "metadata": {},
   "outputs": [
    {
     "name": "stdout",
     "output_type": "stream",
     "text": [
      "Found existing installation: stock-indicators 1.0.1\n",
      "Uninstalling stock-indicators-1.0.1:\n",
      "  Successfully uninstalled stock-indicators-1.0.1\n",
      "Note: you may need to restart the kernel to use updated packages.\n"
     ]
    }
   ],
   "source": [
    "pip uninstall stock-indicators -y"
   ]
  },
  {
   "cell_type": "code",
   "execution_count": 2,
   "id": "7dbbfe06-fbae-4974-b25d-75303ffc3d49",
   "metadata": {},
   "outputs": [
    {
     "ename": "ModuleNotFoundError",
     "evalue": "No module named 'stock_indicators'",
     "output_type": "error",
     "traceback": [
      "\u001b[0;31m---------------------------------------------------------------------------\u001b[0m",
      "\u001b[0;31mModuleNotFoundError\u001b[0m                       Traceback (most recent call last)",
      "Cell \u001b[0;32mIn[2], line 3\u001b[0m\n\u001b[1;32m      1\u001b[0m \u001b[38;5;28;01mimport\u001b[39;00m \u001b[38;5;21;01mpandas\u001b[39;00m \u001b[38;5;28;01mas\u001b[39;00m \u001b[38;5;21;01mpd\u001b[39;00m\n\u001b[1;32m      2\u001b[0m \u001b[38;5;28;01mimport\u001b[39;00m \u001b[38;5;21;01mnumpy\u001b[39;00m \u001b[38;5;28;01mas\u001b[39;00m \u001b[38;5;21;01mnp\u001b[39;00m\n\u001b[0;32m----> 3\u001b[0m \u001b[38;5;28;01mfrom\u001b[39;00m \u001b[38;5;21;01mstock_indicators\u001b[39;00m \u001b[38;5;28;01mimport\u001b[39;00m indicators\n\u001b[1;32m      5\u001b[0m \u001b[38;5;28;01mdef\u001b[39;00m \u001b[38;5;21mload_dataset\u001b[39m(name, index_name\u001b[38;5;241m=\u001b[39m\u001b[38;5;124m'\u001b[39m\u001b[38;5;124mDate\u001b[39m\u001b[38;5;124m'\u001b[39m):\n\u001b[1;32m      6\u001b[0m     \u001b[38;5;66;03m# base_dir = os.path.dirname(os.path.abspath(__file__))\u001b[39;00m\n\u001b[1;32m      7\u001b[0m     \u001b[38;5;66;03m# path = os.path.join(base_dir, 'data', name + '.csv')\u001b[39;00m\n\u001b[1;32m      8\u001b[0m     df \u001b[38;5;241m=\u001b[39m pd\u001b[38;5;241m.\u001b[39mread_csv(name, parse_dates\u001b[38;5;241m=\u001b[39m\u001b[38;5;28;01mTrue\u001b[39;00m, index_col\u001b[38;5;241m=\u001b[39mindex_name)\n",
      "\u001b[0;31mModuleNotFoundError\u001b[0m: No module named 'stock_indicators'"
     ]
    }
   ],
   "source": [
    "import pandas as pd\n",
    "import numpy as np\n",
    "\n",
    "def load_dataset(name, index_name='Date'):\n",
    "    # base_dir = os.path.dirname(os.path.abspath(__file__))\n",
    "    # path = os.path.join(base_dir, 'data', name + '.csv')\n",
    "    df = pd.read_csv(name, parse_dates=True, index_col=index_name)\n",
    "    return df"
   ]
  },
  {
   "cell_type": "code",
   "execution_count": null,
   "id": "851a307c-174d-4fdf-a4d6-4f60288343a9",
   "metadata": {},
   "outputs": [],
   "source": [
    "df = load_dataset('./AMZN.csv')"
   ]
  },
  {
   "cell_type": "code",
   "execution_count": null,
   "id": "dca4949d-5903-43fb-962b-081a47fa6633",
   "metadata": {},
   "outputs": [],
   "source": [
    "prices =df.loc[:, 'Close'].to_numpy()"
   ]
  },
  {
   "cell_type": "code",
   "execution_count": null,
   "id": "1106fed2-becf-4404-80f2-48f43e194590",
   "metadata": {},
   "outputs": [],
   "source": [
    "indicators.get_bollinger_bands(prices, 20, 2)"
   ]
  }
 ],
 "metadata": {
  "kernelspec": {
   "display_name": "Python 3 (ipykernel)",
   "language": "python",
   "name": "python3"
  },
  "language_info": {
   "codemirror_mode": {
    "name": "ipython",
    "version": 3
   },
   "file_extension": ".py",
   "mimetype": "text/x-python",
   "name": "python",
   "nbconvert_exporter": "python",
   "pygments_lexer": "ipython3",
   "version": "3.11.5"
  }
 },
 "nbformat": 4,
 "nbformat_minor": 5
}
