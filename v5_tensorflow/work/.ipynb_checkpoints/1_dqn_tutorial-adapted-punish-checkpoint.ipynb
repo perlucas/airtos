{
 "cells": [
  {
   "cell_type": "markdown",
   "metadata": {
    "id": "klGNgWREsvQv"
   },
   "source": [
    "##### Copyright 2023 The TF-Agents Authors."
   ]
  },
  {
   "cell_type": "code",
   "execution_count": 1,
   "metadata": {
    "cellView": "form",
    "id": "nQnmcm0oI1Q-"
   },
   "outputs": [],
   "source": [
    "#@title Licensed under the Apache License, Version 2.0 (the \"License\");\n",
    "# you may not use this file except in compliance with the License.\n",
    "# You may obtain a copy of the License at\n",
    "#\n",
    "# https://www.apache.org/licenses/LICENSE-2.0\n",
    "#\n",
    "# Unless required by applicable law or agreed to in writing, software\n",
    "# distributed under the License is distributed on an \"AS IS\" BASIS,\n",
    "# WITHOUT WARRANTIES OR CONDITIONS OF ANY KIND, either express or implied.\n",
    "# See the License for the specific language governing permissions and\n",
    "# limitations under the License."
   ]
  },
  {
   "cell_type": "markdown",
   "metadata": {
    "id": "pmDI-h7cI0tI"
   },
   "source": [
    "# Train a Deep Q Network with TF-Agents\n",
    "\n",
    "<table class=\"tfo-notebook-buttons\" align=\"left\">\n",
    "  <td>\n",
    "    <a target=\"_blank\" href=\"https://www.tensorflow.org/agents/tutorials/1_dqn_tutorial\">\n",
    "    <img src=\"https://www.tensorflow.org/images/tf_logo_32px.png\" />\n",
    "    View on TensorFlow.org</a>\n",
    "  </td>\n",
    "  <td>\n",
    "    <a target=\"_blank\" href=\"https://colab.research.google.com/github/tensorflow/agents/blob/master/docs/tutorials/1_dqn_tutorial.ipynb\">\n",
    "    <img src=\"https://www.tensorflow.org/images/colab_logo_32px.png\" />\n",
    "    Run in Google Colab</a>\n",
    "  </td>\n",
    "  <td>\n",
    "    <a target=\"_blank\" href=\"https://github.com/tensorflow/agents/blob/master/docs/tutorials/1_dqn_tutorial.ipynb\">\n",
    "    <img src=\"https://www.tensorflow.org/images/GitHub-Mark-32px.png\" />\n",
    "    View source on GitHub</a>\n",
    "  </td>\n",
    "  <td>\n",
    "    <a href=\"https://storage.googleapis.com/tensorflow_docs/agents/docs/tutorials/1_dqn_tutorial.ipynb\"><img src=\"https://www.tensorflow.org/images/download_logo_32px.png\" />Download notebook</a>\n",
    "  </td>\n",
    "</table>"
   ]
  },
  {
   "cell_type": "markdown",
   "metadata": {
    "id": "lsaQlK8fFQqH"
   },
   "source": [
    "## Introduction\n"
   ]
  },
  {
   "cell_type": "markdown",
   "metadata": {
    "id": "cKOCZlhUgXVK"
   },
   "source": [
    "This example shows how to train a [DQN (Deep Q Networks)](https://storage.googleapis.com/deepmind-media/dqn/DQNNaturePaper.pdf)  agent on the Cartpole environment using the TF-Agents library.\n",
    "\n",
    "![Cartpole environment](https://raw.githubusercontent.com/tensorflow/agents/master/docs/tutorials/images/cartpole.png)\n",
    "\n",
    "It will walk you through all the components in a Reinforcement Learning (RL) pipeline for training, evaluation and data collection.\n",
    "\n",
    "\n",
    "To run this code live, click the 'Run in Google Colab' link above.\n"
   ]
  },
  {
   "cell_type": "markdown",
   "metadata": {
    "id": "1u9QVVsShC9X"
   },
   "source": [
    "## Setup"
   ]
  },
  {
   "cell_type": "markdown",
   "metadata": {
    "id": "kNrNXKI7bINP"
   },
   "source": [
    "If you haven't installed the following dependencies, run:"
   ]
  },
  {
   "cell_type": "code",
   "execution_count": 2,
   "metadata": {
    "id": "KEHR2Ui-lo8O"
   },
   "outputs": [
    {
     "name": "stdout",
     "output_type": "stream",
     "text": [
      "Hit:1 http://archive.ubuntu.com/ubuntu jammy InRelease\n",
      "Hit:2 http://security.ubuntu.com/ubuntu jammy-security InRelease\n",
      "Hit:3 http://archive.ubuntu.com/ubuntu jammy-updates InRelease\n",
      "Hit:4 http://archive.ubuntu.com/ubuntu jammy-backports InRelease\n",
      "Reading package lists... Done\n",
      "Requirement already satisfied: tf-agents[reverb] in /opt/conda/lib/python3.11/site-packages (0.17.0)\n",
      "Requirement already satisfied: absl-py>=0.6.1 in /opt/conda/lib/python3.11/site-packages (from tf-agents[reverb]) (1.4.0)\n",
      "Requirement already satisfied: cloudpickle>=1.3 in /opt/conda/lib/python3.11/site-packages (from tf-agents[reverb]) (2.2.1)\n",
      "Requirement already satisfied: gin-config>=0.4.0 in /opt/conda/lib/python3.11/site-packages (from tf-agents[reverb]) (0.5.0)\n",
      "Requirement already satisfied: gym<=0.23.0,>=0.17.0 in /opt/conda/lib/python3.11/site-packages (from tf-agents[reverb]) (0.23.0)\n",
      "Requirement already satisfied: numpy>=1.19.0 in /opt/conda/lib/python3.11/site-packages (from tf-agents[reverb]) (1.24.3)\n",
      "Requirement already satisfied: pillow in /opt/conda/lib/python3.11/site-packages (from tf-agents[reverb]) (10.0.0)\n",
      "Requirement already satisfied: six>=1.10.0 in /opt/conda/lib/python3.11/site-packages (from tf-agents[reverb]) (1.16.0)\n",
      "Requirement already satisfied: protobuf>=3.11.3 in /opt/conda/lib/python3.11/site-packages (from tf-agents[reverb]) (4.23.3)\n",
      "Requirement already satisfied: wrapt>=1.11.1 in /opt/conda/lib/python3.11/site-packages (from tf-agents[reverb]) (1.15.0)\n",
      "Requirement already satisfied: typing-extensions<4.6.0,>=3.7.4.3 in /opt/conda/lib/python3.11/site-packages (from tf-agents[reverb]) (4.5.0)\n",
      "Requirement already satisfied: pygame==2.1.3 in /opt/conda/lib/python3.11/site-packages (from tf-agents[reverb]) (2.1.3)\n",
      "Requirement already satisfied: tensorflow-probability~=0.20.1 in /opt/conda/lib/python3.11/site-packages (from tf-agents[reverb]) (0.20.1)\n",
      "Requirement already satisfied: rlds in /opt/conda/lib/python3.11/site-packages (from tf-agents[reverb]) (0.1.8)\n",
      "Requirement already satisfied: dm-reverb~=0.12.0 in /opt/conda/lib/python3.11/site-packages (from tf-agents[reverb]) (0.12.0)\n",
      "Requirement already satisfied: tensorflow~=2.13.0 in /opt/conda/lib/python3.11/site-packages (from tf-agents[reverb]) (2.13.0)\n",
      "Requirement already satisfied: dm-tree in /opt/conda/lib/python3.11/site-packages (from dm-reverb~=0.12.0->tf-agents[reverb]) (0.1.8)\n",
      "Requirement already satisfied: portpicker in /opt/conda/lib/python3.11/site-packages (from dm-reverb~=0.12.0->tf-agents[reverb]) (1.6.0)\n",
      "Requirement already satisfied: gym-notices>=0.0.4 in /opt/conda/lib/python3.11/site-packages (from gym<=0.23.0,>=0.17.0->tf-agents[reverb]) (0.0.8)\n",
      "Requirement already satisfied: astunparse>=1.6.0 in /opt/conda/lib/python3.11/site-packages (from tensorflow~=2.13.0->tf-agents[reverb]) (1.6.3)\n",
      "Requirement already satisfied: flatbuffers>=23.1.21 in /opt/conda/lib/python3.11/site-packages (from tensorflow~=2.13.0->tf-agents[reverb]) (23.5.26)\n",
      "Requirement already satisfied: gast<=0.4.0,>=0.2.1 in /opt/conda/lib/python3.11/site-packages (from tensorflow~=2.13.0->tf-agents[reverb]) (0.4.0)\n",
      "Requirement already satisfied: google-pasta>=0.1.1 in /opt/conda/lib/python3.11/site-packages (from tensorflow~=2.13.0->tf-agents[reverb]) (0.2.0)\n",
      "Requirement already satisfied: grpcio<2.0,>=1.24.3 in /opt/conda/lib/python3.11/site-packages (from tensorflow~=2.13.0->tf-agents[reverb]) (1.58.0)\n",
      "Requirement already satisfied: h5py>=2.9.0 in /opt/conda/lib/python3.11/site-packages (from tensorflow~=2.13.0->tf-agents[reverb]) (3.9.0)\n",
      "Requirement already satisfied: keras<2.14,>=2.13.1 in /opt/conda/lib/python3.11/site-packages (from tensorflow~=2.13.0->tf-agents[reverb]) (2.13.1)\n",
      "Requirement already satisfied: libclang>=13.0.0 in /opt/conda/lib/python3.11/site-packages (from tensorflow~=2.13.0->tf-agents[reverb]) (16.0.6)\n",
      "Requirement already satisfied: opt-einsum>=2.3.2 in /opt/conda/lib/python3.11/site-packages (from tensorflow~=2.13.0->tf-agents[reverb]) (3.3.0)\n",
      "Requirement already satisfied: packaging in /opt/conda/lib/python3.11/site-packages (from tensorflow~=2.13.0->tf-agents[reverb]) (23.1)\n",
      "Requirement already satisfied: setuptools in /opt/conda/lib/python3.11/site-packages (from tensorflow~=2.13.0->tf-agents[reverb]) (68.1.2)\n",
      "Requirement already satisfied: tensorboard<2.14,>=2.13 in /opt/conda/lib/python3.11/site-packages (from tensorflow~=2.13.0->tf-agents[reverb]) (2.13.0)\n",
      "Requirement already satisfied: tensorflow-estimator<2.14,>=2.13.0 in /opt/conda/lib/python3.11/site-packages (from tensorflow~=2.13.0->tf-agents[reverb]) (2.13.0)\n",
      "Requirement already satisfied: termcolor>=1.1.0 in /opt/conda/lib/python3.11/site-packages (from tensorflow~=2.13.0->tf-agents[reverb]) (2.3.0)\n",
      "Requirement already satisfied: tensorflow-io-gcs-filesystem>=0.23.1 in /opt/conda/lib/python3.11/site-packages (from tensorflow~=2.13.0->tf-agents[reverb]) (0.34.0)\n",
      "Requirement already satisfied: decorator in /opt/conda/lib/python3.11/site-packages (from tensorflow-probability~=0.20.1->tf-agents[reverb]) (5.1.1)\n",
      "Requirement already satisfied: wheel<1.0,>=0.23.0 in /opt/conda/lib/python3.11/site-packages (from astunparse>=1.6.0->tensorflow~=2.13.0->tf-agents[reverb]) (0.41.2)\n",
      "Requirement already satisfied: google-auth<3,>=1.6.3 in /opt/conda/lib/python3.11/site-packages (from tensorboard<2.14,>=2.13->tensorflow~=2.13.0->tf-agents[reverb]) (2.22.0)\n",
      "Requirement already satisfied: google-auth-oauthlib<1.1,>=0.5 in /opt/conda/lib/python3.11/site-packages (from tensorboard<2.14,>=2.13->tensorflow~=2.13.0->tf-agents[reverb]) (1.0.0)\n",
      "Requirement already satisfied: markdown>=2.6.8 in /opt/conda/lib/python3.11/site-packages (from tensorboard<2.14,>=2.13->tensorflow~=2.13.0->tf-agents[reverb]) (3.4.4)\n",
      "Requirement already satisfied: requests<3,>=2.21.0 in /opt/conda/lib/python3.11/site-packages (from tensorboard<2.14,>=2.13->tensorflow~=2.13.0->tf-agents[reverb]) (2.31.0)\n",
      "Requirement already satisfied: tensorboard-data-server<0.8.0,>=0.7.0 in /opt/conda/lib/python3.11/site-packages (from tensorboard<2.14,>=2.13->tensorflow~=2.13.0->tf-agents[reverb]) (0.7.1)\n",
      "Requirement already satisfied: werkzeug>=1.0.1 in /opt/conda/lib/python3.11/site-packages (from tensorboard<2.14,>=2.13->tensorflow~=2.13.0->tf-agents[reverb]) (2.3.7)\n",
      "Requirement already satisfied: psutil in /opt/conda/lib/python3.11/site-packages (from portpicker->dm-reverb~=0.12.0->tf-agents[reverb]) (5.9.5)\n",
      "Requirement already satisfied: cachetools<6.0,>=2.0.0 in /opt/conda/lib/python3.11/site-packages (from google-auth<3,>=1.6.3->tensorboard<2.14,>=2.13->tensorflow~=2.13.0->tf-agents[reverb]) (5.3.1)\n",
      "Requirement already satisfied: pyasn1-modules>=0.2.1 in /opt/conda/lib/python3.11/site-packages (from google-auth<3,>=1.6.3->tensorboard<2.14,>=2.13->tensorflow~=2.13.0->tf-agents[reverb]) (0.3.0)\n",
      "Requirement already satisfied: rsa<5,>=3.1.4 in /opt/conda/lib/python3.11/site-packages (from google-auth<3,>=1.6.3->tensorboard<2.14,>=2.13->tensorflow~=2.13.0->tf-agents[reverb]) (4.9)\n",
      "Requirement already satisfied: urllib3<2.0 in /opt/conda/lib/python3.11/site-packages (from google-auth<3,>=1.6.3->tensorboard<2.14,>=2.13->tensorflow~=2.13.0->tf-agents[reverb]) (1.26.16)\n",
      "Requirement already satisfied: requests-oauthlib>=0.7.0 in /opt/conda/lib/python3.11/site-packages (from google-auth-oauthlib<1.1,>=0.5->tensorboard<2.14,>=2.13->tensorflow~=2.13.0->tf-agents[reverb]) (1.3.1)\n",
      "Requirement already satisfied: charset-normalizer<4,>=2 in /opt/conda/lib/python3.11/site-packages (from requests<3,>=2.21.0->tensorboard<2.14,>=2.13->tensorflow~=2.13.0->tf-agents[reverb]) (3.2.0)\n",
      "Requirement already satisfied: idna<4,>=2.5 in /opt/conda/lib/python3.11/site-packages (from requests<3,>=2.21.0->tensorboard<2.14,>=2.13->tensorflow~=2.13.0->tf-agents[reverb]) (3.4)\n",
      "Requirement already satisfied: certifi>=2017.4.17 in /opt/conda/lib/python3.11/site-packages (from requests<3,>=2.21.0->tensorboard<2.14,>=2.13->tensorflow~=2.13.0->tf-agents[reverb]) (2023.7.22)\n",
      "Requirement already satisfied: MarkupSafe>=2.1.1 in /opt/conda/lib/python3.11/site-packages (from werkzeug>=1.0.1->tensorboard<2.14,>=2.13->tensorflow~=2.13.0->tf-agents[reverb]) (2.1.3)\n",
      "Requirement already satisfied: pyasn1<0.6.0,>=0.4.6 in /opt/conda/lib/python3.11/site-packages (from pyasn1-modules>=0.2.1->google-auth<3,>=1.6.3->tensorboard<2.14,>=2.13->tensorflow~=2.13.0->tf-agents[reverb]) (0.5.0)\n",
      "Requirement already satisfied: oauthlib>=3.0.0 in /opt/conda/lib/python3.11/site-packages (from requests-oauthlib>=0.7.0->google-auth-oauthlib<1.1,>=0.5->tensorboard<2.14,>=2.13->tensorflow~=2.13.0->tf-agents[reverb]) (3.2.2)\n",
      "Requirement already satisfied: pyglet in /opt/conda/lib/python3.11/site-packages (2.0.9)\n"
     ]
    }
   ],
   "source": [
    "!sudo apt-get update\n",
    "#!sudo apt-get install -y xvfb ffmpeg freeglut3-dev\n",
    "#!pip install 'imageio==2.4.0'\n",
    "#!pip install pyvirtualdisplay\n",
    "!pip install tf-agents[reverb]\n",
    "!pip install pyglet"
   ]
  },
  {
   "cell_type": "code",
   "execution_count": 3,
   "metadata": {
    "id": "sMitx5qSgJk1"
   },
   "outputs": [
    {
     "name": "stderr",
     "output_type": "stream",
     "text": [
      "2023-09-19 15:28:36.361699: I tensorflow/tsl/cuda/cudart_stub.cc:28] Could not find cuda drivers on your machine, GPU will not be used.\n",
      "2023-09-19 15:28:36.405609: I tensorflow/tsl/cuda/cudart_stub.cc:28] Could not find cuda drivers on your machine, GPU will not be used.\n",
      "2023-09-19 15:28:36.406536: I tensorflow/core/platform/cpu_feature_guard.cc:182] This TensorFlow binary is optimized to use available CPU instructions in performance-critical operations.\n",
      "To enable the following instructions: AVX2 FMA, in other operations, rebuild TensorFlow with the appropriate compiler flags.\n",
      "2023-09-19 15:28:37.700584: W tensorflow/compiler/tf2tensorrt/utils/py_utils.cc:38] TF-TRT Warning: Could not find TensorRT\n"
     ]
    }
   ],
   "source": [
    "from __future__ import absolute_import, division, print_function\n",
    "\n",
    "import base64\n",
    "import imageio\n",
    "import IPython\n",
    "import matplotlib\n",
    "import matplotlib.pyplot as plt\n",
    "import numpy as np\n",
    "import PIL.Image\n",
    "#import pyvirtualdisplay\n",
    "import reverb\n",
    "\n",
    "import tensorflow as tf\n",
    "\n",
    "from tf_agents.agents.dqn import dqn_agent\n",
    "from tf_agents.drivers import py_driver\n",
    "from tf_agents.environments import suite_gym\n",
    "from tf_agents.environments import tf_py_environment\n",
    "from tf_agents.eval import metric_utils\n",
    "from tf_agents.metrics import tf_metrics\n",
    "from tf_agents.networks import sequential\n",
    "from tf_agents.policies import py_tf_eager_policy\n",
    "from tf_agents.policies import random_tf_policy\n",
    "from tf_agents.replay_buffers import reverb_replay_buffer\n",
    "from tf_agents.replay_buffers import reverb_utils\n",
    "from tf_agents.trajectories import trajectory\n",
    "from tf_agents.specs import tensor_spec\n",
    "from tf_agents.utils import common\n",
    "\n",
    "from envs.trading_env_ext import TradingEnv\n",
    "from utils import load_dataset"
   ]
  },
  {
   "cell_type": "code",
   "execution_count": 4,
   "metadata": {
    "id": "J6HsdS5GbSjd"
   },
   "outputs": [],
   "source": [
    "# Set up a virtual display for rendering OpenAI gym environments.\n",
    "#display = pyvirtualdisplay.Display(visible=0, size=(1400, 900)).start()"
   ]
  },
  {
   "cell_type": "code",
   "execution_count": 5,
   "metadata": {
    "id": "NspmzG4nP3b9"
   },
   "outputs": [
    {
     "data": {
      "text/plain": [
       "'2.13.0'"
      ]
     },
     "execution_count": 5,
     "metadata": {},
     "output_type": "execute_result"
    }
   ],
   "source": [
    "tf.version.VERSION"
   ]
  },
  {
   "cell_type": "markdown",
   "metadata": {
    "id": "LmC0NDhdLIKY"
   },
   "source": [
    "## Hyperparameters"
   ]
  },
  {
   "cell_type": "code",
   "execution_count": 6,
   "metadata": {
    "id": "HC1kNrOsLSIZ"
   },
   "outputs": [],
   "source": [
    "num_iterations = 300000 # @param {type:\"integer\"}\n",
    "\n",
    "initial_collect_steps = 1000  # @param {type:\"integer\"}\n",
    "collect_steps_per_iteration = 5 # @param {type:\"integer\"}\n",
    "replay_buffer_max_length = 100000  # @param {type:\"integer\"}\n",
    "\n",
    "batch_size = 64  # @param {type:\"integer\"}\n",
    "learning_rate = 0.003  # @param {type:\"number\"}\n",
    "log_interval = 1000  # @param {type:\"integer\"}\n",
    "\n",
    "num_eval_episodes = 10  # @param {type:\"integer\"}\n",
    "eval_interval = 10000  # @param {type:\"integer\"}\n",
    "\n",
    "WINDOW_SIZE =10"
   ]
  },
  {
   "cell_type": "markdown",
   "metadata": {
    "id": "VMsJC3DEgI0x"
   },
   "source": [
    "## Environment\n",
    "\n",
    "In Reinforcement Learning (RL), an environment represents the task or problem to be solved. Standard environments can be created in TF-Agents using `tf_agents.environments` suites. TF-Agents has suites for loading environments from sources such as the OpenAI Gym, Atari, and DM Control.\n",
    "\n",
    "Load the CartPole environment from the OpenAI Gym suite. "
   ]
  },
  {
   "cell_type": "code",
   "execution_count": 7,
   "metadata": {
    "id": "pYEz-S9gEv2-"
   },
   "outputs": [
    {
     "name": "stderr",
     "output_type": "stream",
     "text": [
      "/opt/conda/lib/python3.11/site-packages/tf_agents/specs/array_spec.py:335: RuntimeWarning: invalid value encountered in cast\n",
      "  self._minimum[self._minimum == -np.inf] = low\n",
      "/opt/conda/lib/python3.11/site-packages/tf_agents/specs/array_spec.py:336: RuntimeWarning: invalid value encountered in cast\n",
      "  self._minimum[self._minimum == np.inf] = high\n",
      "/opt/conda/lib/python3.11/site-packages/tf_agents/specs/array_spec.py:338: RuntimeWarning: invalid value encountered in cast\n",
      "  self._maximum[self._maximum == -np.inf] = low\n",
      "/opt/conda/lib/python3.11/site-packages/tf_agents/specs/array_spec.py:339: RuntimeWarning: invalid value encountered in cast\n",
      "  self._maximum[self._maximum == np.inf] = high\n"
     ]
    }
   ],
   "source": [
    "#env_name = 'CartPole-v0'\n",
    "#env = suite_gym.load(env_name)\n",
    "\n",
    "df = load_dataset('./KO.csv')\n",
    "env = TradingEnv(df=df, window_size=WINDOW_SIZE, frame_bound=(WINDOW_SIZE, 1500))"
   ]
  },
  {
   "cell_type": "markdown",
   "metadata": {
    "id": "IIHYVBkuvPNw"
   },
   "source": [
    "You can render this environment to see how it looks. A free-swinging pole is attached to a cart.  The goal is to move the cart right or left in order to keep the pole pointing up."
   ]
  },
  {
   "cell_type": "code",
   "execution_count": 8,
   "metadata": {
    "id": "RlO7WIQHu_7D"
   },
   "outputs": [],
   "source": [
    "#@test {\"skip\": true}\n",
    "#env.reset()\n",
    "#PIL.Image.fromarray(env.render())"
   ]
  },
  {
   "cell_type": "markdown",
   "metadata": {
    "id": "B9_lskPOey18"
   },
   "source": [
    "The `environment.step` method takes an `action` in the environment and returns a `TimeStep` tuple containing the next observation of the environment and the reward for the action.\n",
    "\n",
    "The `time_step_spec()` method returns the specification for the `TimeStep` tuple. Its `observation` attribute shows the shape of observations, the data types, and the ranges of allowed values. The `reward` attribute shows the same details for the reward.\n"
   ]
  },
  {
   "cell_type": "code",
   "execution_count": 9,
   "metadata": {
    "id": "exDv57iHfwQV"
   },
   "outputs": [
    {
     "name": "stdout",
     "output_type": "stream",
     "text": [
      "Observation Spec:\n",
      "BoundedArraySpec(shape=(30,), dtype=dtype('float32'), name='observation', minimum=[-1000. -1000. -1000. -1000. -1000. -1000. -1000. -1000. -1000. -1000.\n",
      " -1000. -1000. -1000. -1000. -1000. -1000. -1000. -1000. -1000. -1000.\n",
      " -1000. -1000. -1000. -1000. -1000. -1000. -1000. -1000. -1000. -1000.], maximum=[1000. 1000. 1000. 1000. 1000. 1000. 1000. 1000. 1000. 1000. 1000. 1000.\n",
      " 1000. 1000. 1000. 1000. 1000. 1000. 1000. 1000. 1000. 1000. 1000. 1000.\n",
      " 1000. 1000. 1000. 1000. 1000. 1000.])\n"
     ]
    }
   ],
   "source": [
    "print('Observation Spec:')\n",
    "print(env.time_step_spec().observation)"
   ]
  },
  {
   "cell_type": "code",
   "execution_count": 10,
   "metadata": {
    "id": "UxiSyCbBUQPi"
   },
   "outputs": [
    {
     "name": "stdout",
     "output_type": "stream",
     "text": [
      "Reward Spec:\n",
      "ArraySpec(shape=(), dtype=dtype('float32'), name='reward')\n"
     ]
    }
   ],
   "source": [
    "print('Reward Spec:')\n",
    "print(env.time_step_spec().reward)"
   ]
  },
  {
   "cell_type": "markdown",
   "metadata": {
    "id": "b_lHcIcqUaqB"
   },
   "source": [
    "The `action_spec()` method returns the shape, data types, and allowed values of valid actions."
   ]
  },
  {
   "cell_type": "code",
   "execution_count": 11,
   "metadata": {
    "id": "bttJ4uxZUQBr"
   },
   "outputs": [
    {
     "name": "stdout",
     "output_type": "stream",
     "text": [
      "Action Spec:\n",
      "BoundedArraySpec(shape=(), dtype=dtype('int32'), name='action', minimum=0, maximum=6)\n"
     ]
    }
   ],
   "source": [
    "print('Action Spec:')\n",
    "print(env.action_spec())"
   ]
  },
  {
   "cell_type": "markdown",
   "metadata": {
    "id": "eJCgJnx3g0yY"
   },
   "source": [
    "In the Cartpole environment:\n",
    "\n",
    "-   `observation` is an array of 4 floats: \n",
    "    -   the position and velocity of the cart\n",
    "    -   the angular position and velocity of the pole \n",
    "-   `reward` is a scalar float value\n",
    "-   `action` is a scalar integer with only two possible values:\n",
    "    -   `0` — \"move left\"\n",
    "    -   `1` — \"move right\"\n"
   ]
  },
  {
   "cell_type": "code",
   "execution_count": 12,
   "metadata": {
    "id": "V2UGR5t_iZX-"
   },
   "outputs": [
    {
     "name": "stdout",
     "output_type": "stream",
     "text": [
      "Time step:\n",
      "TimeStep(\n",
      "{'discount': array(1., dtype=float32),\n",
      " 'observation': array([-0.00716884,  0.0459003 , -0.05306914, -0.04301991,  0.02152431,\n",
      "       -0.06454422, -0.07491679, -0.0049915 , -0.06992529, -0.07686639,\n",
      "       -0.00818897, -0.06867742, -0.08129127, -0.0146611 , -0.06663018,\n",
      "       -0.10713844, -0.04417353, -0.0629649 , -0.09784317, -0.04592165,\n",
      "       -0.05192152, -0.08761039, -0.04716929, -0.04044111, -0.09363896,\n",
      "       -0.06499018, -0.02864878, -0.07451703, -0.0621158 , -0.01240124],\n",
      "      dtype=float32),\n",
      " 'reward': array(0., dtype=float32),\n",
      " 'step_type': array(0, dtype=int32)})\n",
      "Next time step:\n",
      "TimeStep(\n",
      "{'discount': array(1., dtype=float32),\n",
      " 'observation': array([-0.04301991,  0.02152431, -0.06454422, -0.07491679, -0.0049915 ,\n",
      "       -0.06992529, -0.07686639, -0.00818897, -0.06867742, -0.08129127,\n",
      "       -0.0146611 , -0.06663018, -0.10713844, -0.04417353, -0.0629649 ,\n",
      "       -0.09784317, -0.04592165, -0.05192152, -0.08761039, -0.04716929,\n",
      "       -0.04044111, -0.09363896, -0.06499018, -0.02864878, -0.07451703,\n",
      "       -0.0621158 , -0.01240124, -0.05717207, -0.06029978,  0.00312771],\n",
      "      dtype=float32),\n",
      " 'reward': array(2.7499962, dtype=float32),\n",
      " 'step_type': array(1, dtype=int32)})\n"
     ]
    }
   ],
   "source": [
    "time_step = env.reset()\n",
    "print('Time step:')\n",
    "print(time_step)\n",
    "\n",
    "action = np.array(1, dtype=np.int32)\n",
    "\n",
    "next_time_step = env.step(action)\n",
    "print('Next time step:')\n",
    "print(next_time_step)"
   ]
  },
  {
   "cell_type": "markdown",
   "metadata": {
    "id": "4JSc9GviWUBK"
   },
   "source": [
    "Usually two environments are instantiated: one for training and one for evaluation. "
   ]
  },
  {
   "cell_type": "code",
   "execution_count": 13,
   "metadata": {
    "id": "N7brXNIGWXjC"
   },
   "outputs": [
    {
     "name": "stderr",
     "output_type": "stream",
     "text": [
      "/opt/conda/lib/python3.11/site-packages/tf_agents/specs/array_spec.py:335: RuntimeWarning: invalid value encountered in cast\n",
      "  self._minimum[self._minimum == -np.inf] = low\n",
      "/opt/conda/lib/python3.11/site-packages/tf_agents/specs/array_spec.py:336: RuntimeWarning: invalid value encountered in cast\n",
      "  self._minimum[self._minimum == np.inf] = high\n",
      "/opt/conda/lib/python3.11/site-packages/tf_agents/specs/array_spec.py:338: RuntimeWarning: invalid value encountered in cast\n",
      "  self._maximum[self._maximum == -np.inf] = low\n",
      "/opt/conda/lib/python3.11/site-packages/tf_agents/specs/array_spec.py:339: RuntimeWarning: invalid value encountered in cast\n",
      "  self._maximum[self._maximum == np.inf] = high\n",
      "/opt/conda/lib/python3.11/site-packages/tf_agents/specs/array_spec.py:335: RuntimeWarning: invalid value encountered in cast\n",
      "  self._minimum[self._minimum == -np.inf] = low\n",
      "/opt/conda/lib/python3.11/site-packages/tf_agents/specs/array_spec.py:336: RuntimeWarning: invalid value encountered in cast\n",
      "  self._minimum[self._minimum == np.inf] = high\n",
      "/opt/conda/lib/python3.11/site-packages/tf_agents/specs/array_spec.py:338: RuntimeWarning: invalid value encountered in cast\n",
      "  self._maximum[self._maximum == -np.inf] = low\n",
      "/opt/conda/lib/python3.11/site-packages/tf_agents/specs/array_spec.py:339: RuntimeWarning: invalid value encountered in cast\n",
      "  self._maximum[self._maximum == np.inf] = high\n"
     ]
    }
   ],
   "source": [
    "train_py_env = TradingEnv(df=df, window_size=WINDOW_SIZE, frame_bound=(WINDOW_SIZE, 1500))\n",
    "eval_py_env = TradingEnv(df=df, window_size=WINDOW_SIZE, frame_bound=(1600, 2500))"
   ]
  },
  {
   "cell_type": "markdown",
   "metadata": {
    "id": "zuUqXAVmecTU"
   },
   "source": [
    "The Cartpole environment, like most environments, is written in pure Python. This is converted to TensorFlow using the `TFPyEnvironment` wrapper.\n",
    "\n",
    "The original environment's API uses Numpy arrays. The `TFPyEnvironment` converts these to `Tensors` to make it compatible with Tensorflow agents and policies.\n"
   ]
  },
  {
   "cell_type": "code",
   "execution_count": 14,
   "metadata": {
    "id": "Xp-Y4mD6eDhF"
   },
   "outputs": [],
   "source": [
    "train_env = tf_py_environment.TFPyEnvironment(train_py_env)\n",
    "eval_env = tf_py_environment.TFPyEnvironment(eval_py_env)"
   ]
  },
  {
   "cell_type": "markdown",
   "metadata": {
    "id": "E9lW_OZYFR8A"
   },
   "source": [
    "## Agent\n",
    "\n",
    "The algorithm used to solve an RL problem is represented by an `Agent`. TF-Agents provides standard implementations of a variety of `Agents`, including:\n",
    "\n",
    "-   [DQN](https://storage.googleapis.com/deepmind-media/dqn/DQNNaturePaper.pdf) (used in this tutorial)\n",
    "-   [REINFORCE](https://www-anw.cs.umass.edu/~barto/courses/cs687/williams92simple.pdf)\n",
    "-   [DDPG](https://arxiv.org/pdf/1509.02971.pdf)\n",
    "-   [TD3](https://arxiv.org/pdf/1802.09477.pdf)\n",
    "-   [PPO](https://arxiv.org/abs/1707.06347)\n",
    "-   [SAC](https://arxiv.org/abs/1801.01290)\n",
    "\n",
    "The DQN agent can be used in any environment which has a discrete action space.\n",
    "\n",
    "At the heart of a DQN Agent is a `QNetwork`, a neural network model that can learn to predict `QValues` (expected returns) for all actions, given an observation from the environment.\n",
    "\n",
    "We will use `tf_agents.networks.` to create a `QNetwork`. The network will consist of a sequence of `tf.keras.layers.Dense` layers, where the final layer will have 1 output for each possible action."
   ]
  },
  {
   "cell_type": "code",
   "execution_count": 15,
   "metadata": {
    "id": "TgkdEPg_muzV"
   },
   "outputs": [
    {
     "data": {
      "text/plain": [
       "TimeStep(\n",
       "{'discount': BoundedTensorSpec(shape=(), dtype=tf.float32, name='discount', minimum=array(0., dtype=float32), maximum=array(1., dtype=float32)),\n",
       " 'observation': BoundedTensorSpec(shape=(30,), dtype=tf.float32, name='observation', minimum=array([-1000., -1000., -1000., -1000., -1000., -1000., -1000., -1000.,\n",
       "       -1000., -1000., -1000., -1000., -1000., -1000., -1000., -1000.,\n",
       "       -1000., -1000., -1000., -1000., -1000., -1000., -1000., -1000.,\n",
       "       -1000., -1000., -1000., -1000., -1000., -1000.], dtype=float32), maximum=array([1000., 1000., 1000., 1000., 1000., 1000., 1000., 1000., 1000.,\n",
       "       1000., 1000., 1000., 1000., 1000., 1000., 1000., 1000., 1000.,\n",
       "       1000., 1000., 1000., 1000., 1000., 1000., 1000., 1000., 1000.,\n",
       "       1000., 1000., 1000.], dtype=float32)),\n",
       " 'reward': TensorSpec(shape=(), dtype=tf.float32, name='reward'),\n",
       " 'step_type': TensorSpec(shape=(), dtype=tf.int32, name='step_type')})"
      ]
     },
     "execution_count": 15,
     "metadata": {},
     "output_type": "execute_result"
    }
   ],
   "source": [
    "fc_layer_params = (100, 50)\n",
    "action_tensor_spec = tensor_spec.from_spec(env.action_spec())\n",
    "num_actions = action_tensor_spec.maximum - action_tensor_spec.minimum + 1\n",
    "\n",
    "# Define a helper function to create Dense layers configured with the right\n",
    "# activation and kernel initializer.\n",
    "def dense_layer(num_units):\n",
    "  return tf.keras.layers.Dense(\n",
    "      num_units,\n",
    "      activation=tf.keras.activations.relu,\n",
    "      kernel_initializer=tf.keras.initializers.VarianceScaling(\n",
    "          scale=2.0, mode='fan_in', distribution='truncated_normal'))\n",
    "\n",
    "# QNetwork consists of a sequence of Dense layers followed by a dense layer\n",
    "# with `num_actions` units to generate one q_value per available action as\n",
    "# its output.\n",
    "dense_layers = [dense_layer(num_units) for num_units in fc_layer_params]\n",
    "q_values_layer = tf.keras.layers.Dense(\n",
    "    num_actions,\n",
    "    activation=None,\n",
    "    kernel_initializer=tf.keras.initializers.RandomUniform(\n",
    "        minval=-0.03, maxval=0.03),\n",
    "    bias_initializer=tf.keras.initializers.Constant(-0.2))\n",
    "q_net = sequential.Sequential(dense_layers + [q_values_layer])\n",
    "train_env.time_step_spec()"
   ]
  },
  {
   "cell_type": "markdown",
   "metadata": {
    "id": "z62u55hSmviJ"
   },
   "source": [
    "Now use `tf_agents.agents.dqn.dqn_agent` to instantiate a `DqnAgent`. In addition to the `time_step_spec`, `action_spec` and the QNetwork, the agent constructor also requires an optimizer (in this case, `AdamOptimizer`), a loss function, and an integer step counter."
   ]
  },
  {
   "cell_type": "code",
   "execution_count": 2,
   "metadata": {
    "id": "jbY4yrjTEyc9"
   },
   "outputs": [
    {
     "ename": "NameError",
     "evalue": "name 'tf' is not defined",
     "output_type": "error",
     "traceback": [
      "\u001b[0;31m---------------------------------------------------------------------------\u001b[0m",
      "\u001b[0;31mNameError\u001b[0m                                 Traceback (most recent call last)",
      "Cell \u001b[0;32mIn[2], line 1\u001b[0m\n\u001b[0;32m----> 1\u001b[0m optimizer \u001b[38;5;241m=\u001b[39m \u001b[43mtf\u001b[49m\u001b[38;5;241m.\u001b[39mkeras\u001b[38;5;241m.\u001b[39moptimizers\u001b[38;5;241m.\u001b[39mAdam(learning_rate\u001b[38;5;241m=\u001b[39mlearning_rate)\n\u001b[1;32m      3\u001b[0m train_step_counter \u001b[38;5;241m=\u001b[39m tf\u001b[38;5;241m.\u001b[39mVariable(\u001b[38;5;241m0\u001b[39m)\n\u001b[1;32m      5\u001b[0m agent \u001b[38;5;241m=\u001b[39m dqn_agent\u001b[38;5;241m.\u001b[39mDqnAgent(\n\u001b[1;32m      6\u001b[0m     train_env\u001b[38;5;241m.\u001b[39mtime_step_spec(),\n\u001b[1;32m      7\u001b[0m     train_env\u001b[38;5;241m.\u001b[39maction_spec(),\n\u001b[0;32m   (...)\u001b[0m\n\u001b[1;32m     10\u001b[0m     td_errors_loss_fn\u001b[38;5;241m=\u001b[39mcommon\u001b[38;5;241m.\u001b[39melement_wise_squared_loss,\n\u001b[1;32m     11\u001b[0m     train_step_counter\u001b[38;5;241m=\u001b[39mtrain_step_counter)\n",
      "\u001b[0;31mNameError\u001b[0m: name 'tf' is not defined"
     ]
    }
   ],
   "source": [
    "optimizer = tf.keras.optimizers.Adam(learning_rate=learning_rate)\n",
    "\n",
    "train_step_counter = tf.Variable(0)\n",
    "\n",
    "agent = dqn_agent.DqnAgent(\n",
    "    train_env.time_step_spec(),\n",
    "    train_env.action_spec(),\n",
    "    q_network=q_net,\n",
    "    optimizer=optimizer,\n",
    "    td_errors_loss_fn=common.element_wise_squared_loss,\n",
    "    train_step_counter=train_step_counter)\n",
    "\n",
    "agent.initialize()"
   ]
  },
  {
   "cell_type": "markdown",
   "metadata": {
    "id": "I0KLrEPwkn5x"
   },
   "source": [
    "## Policies\n",
    "\n",
    "A policy defines the way an agent acts in an environment. Typically, the goal of reinforcement learning is to train the underlying model until the policy produces the desired outcome.\n",
    "\n",
    "In this tutorial:\n",
    "\n",
    "-   The desired outcome is keeping the pole balanced upright over the cart.\n",
    "-   The policy returns an action (left or right) for each `time_step` observation.\n",
    "\n",
    "Agents contain two policies: \n",
    "\n",
    "-   `agent.policy` — The main policy that is used for evaluation and deployment.\n",
    "-   `agent.collect_policy` — A second policy that is used for data collection.\n"
   ]
  },
  {
   "cell_type": "code",
   "execution_count": 17,
   "metadata": {
    "id": "BwY7StuMkuV4"
   },
   "outputs": [],
   "source": [
    "eval_policy = agent.policy\n",
    "collect_policy = agent.collect_policy"
   ]
  },
  {
   "cell_type": "markdown",
   "metadata": {
    "id": "2Qs1Fl3dV0ae"
   },
   "source": [
    "Policies can be created independently of agents. For example, use `tf_agents.policies.random_tf_policy` to create a policy which will randomly select an action for each `time_step`."
   ]
  },
  {
   "cell_type": "code",
   "execution_count": 18,
   "metadata": {
    "id": "HE37-UCIrE69"
   },
   "outputs": [],
   "source": [
    "random_policy = random_tf_policy.RandomTFPolicy(train_env.time_step_spec(),\n",
    "                                                train_env.action_spec())"
   ]
  },
  {
   "cell_type": "markdown",
   "metadata": {
    "id": "dOlnlRRsUbxP"
   },
   "source": [
    "To get an action from a policy, call the `policy.action(time_step)` method. The `time_step` contains the observation from the environment. This method returns a `PolicyStep`, which is a named tuple with three components:\n",
    "\n",
    "-   `action` — the action to be taken (in this case, `0` or `1`)\n",
    "-   `state` — used for stateful (that is, RNN-based) policies\n",
    "-   `info` — auxiliary data, such as log probabilities of actions"
   ]
  },
  {
   "cell_type": "code",
   "execution_count": 19,
   "metadata": {
    "id": "5gCcpXswVAxk"
   },
   "outputs": [],
   "source": [
    "example_environment = tf_py_environment.TFPyEnvironment(env)"
   ]
  },
  {
   "cell_type": "code",
   "execution_count": 20,
   "metadata": {
    "id": "D4DHZtq3Ndis"
   },
   "outputs": [],
   "source": [
    "time_step = example_environment.reset()"
   ]
  },
  {
   "cell_type": "code",
   "execution_count": 21,
   "metadata": {
    "id": "PRFqAUzpNaAW"
   },
   "outputs": [
    {
     "data": {
      "text/plain": [
       "PolicyStep(action=<tf.Tensor: shape=(1,), dtype=int32, numpy=array([3], dtype=int32)>, state=(), info=())"
      ]
     },
     "execution_count": 21,
     "metadata": {},
     "output_type": "execute_result"
    }
   ],
   "source": [
    "random_policy.action(time_step)"
   ]
  },
  {
   "cell_type": "markdown",
   "metadata": {
    "id": "94rCXQtbUbXv"
   },
   "source": [
    "## Metrics and Evaluation\n",
    "\n",
    "The most common metric used to evaluate a policy is the average return. The return is the sum of rewards obtained while running a policy in an environment for an episode. Several episodes are run, creating an average return.\n",
    "\n",
    "The following function computes the average return of a policy, given the policy, environment, and a number of episodes.\n"
   ]
  },
  {
   "cell_type": "code",
   "execution_count": 22,
   "metadata": {
    "id": "bitzHo5_UbXy"
   },
   "outputs": [],
   "source": [
    "#@test {\"skip\": true}\n",
    "def compute_avg_return(environment, policy, num_episodes=10):\n",
    "\n",
    "  total_return = 0.0\n",
    "  for _ in range(num_episodes):\n",
    "\n",
    "    time_step = environment.reset()\n",
    "    episode_return = 0.0\n",
    "\n",
    "    while not time_step.is_last():\n",
    "      action_step = policy.action(time_step)\n",
    "      time_step = environment.step(action_step.action)\n",
    "      episode_return += time_step.reward\n",
    "    total_return += episode_return\n",
    "\n",
    "  avg_return = total_return / num_episodes\n",
    "  return avg_return.numpy()[0]\n",
    "\n",
    "\n",
    "# See also the metrics module for standard implementations of different metrics.\n",
    "# https://github.com/tensorflow/agents/tree/master/tf_agents/metrics"
   ]
  },
  {
   "cell_type": "markdown",
   "metadata": {
    "id": "_snCVvq5Z8lJ"
   },
   "source": [
    "Running this computation on the `random_policy` shows a baseline performance in the environment."
   ]
  },
  {
   "cell_type": "code",
   "execution_count": 23,
   "metadata": {
    "id": "9bgU6Q6BZ8Bp"
   },
   "outputs": [
    {
     "data": {
      "text/plain": [
       "11.228048"
      ]
     },
     "execution_count": 23,
     "metadata": {},
     "output_type": "execute_result"
    }
   ],
   "source": [
    "compute_avg_return(eval_env, random_policy, num_eval_episodes)"
   ]
  },
  {
   "cell_type": "markdown",
   "metadata": {
    "id": "NLva6g2jdWgr"
   },
   "source": [
    "## Replay Buffer\n",
    "\n",
    "In order to keep track of the data collected from the environment, we will use [Reverb](https://deepmind.com/research/open-source/Reverb), an efficient, extensible, and easy-to-use replay system by Deepmind. It stores experience data when we collect trajectories and is consumed during training.\n",
    "\n",
    "This replay buffer is constructed using specs describing the tensors that are to be stored, which can be obtained from the agent using agent.collect_data_spec.\n"
   ]
  },
  {
   "cell_type": "code",
   "execution_count": 24,
   "metadata": {
    "id": "vX2zGUWJGWAl"
   },
   "outputs": [
    {
     "name": "stderr",
     "output_type": "stream",
     "text": [
      "[reverb/cc/platform/tfrecord_checkpointer.cc:162]  Initializing TFRecordCheckpointer in /tmp/tmpfxyci_gr.\n",
      "[reverb/cc/platform/tfrecord_checkpointer.cc:567] Loading latest checkpoint from /tmp/tmpfxyci_gr\n",
      "[reverb/cc/platform/default/server.cc:71] Started replay server on port 43233\n"
     ]
    }
   ],
   "source": [
    "table_name = 'uniform_table'\n",
    "replay_buffer_signature = tensor_spec.from_spec(\n",
    "      agent.collect_data_spec)\n",
    "replay_buffer_signature = tensor_spec.add_outer_dim(\n",
    "    replay_buffer_signature)\n",
    "\n",
    "table = reverb.Table(\n",
    "    table_name,\n",
    "    max_size=replay_buffer_max_length,\n",
    "    sampler=reverb.selectors.Uniform(),\n",
    "    remover=reverb.selectors.Fifo(),\n",
    "    rate_limiter=reverb.rate_limiters.MinSize(1),\n",
    "    signature=replay_buffer_signature)\n",
    "\n",
    "reverb_server = reverb.Server([table])\n",
    "\n",
    "replay_buffer = reverb_replay_buffer.ReverbReplayBuffer(\n",
    "    agent.collect_data_spec,\n",
    "    table_name=table_name,\n",
    "    sequence_length=2,\n",
    "    local_server=reverb_server)\n",
    "\n",
    "rb_observer = reverb_utils.ReverbAddTrajectoryObserver(\n",
    "  replay_buffer.py_client,\n",
    "  table_name,\n",
    "  sequence_length=2)"
   ]
  },
  {
   "cell_type": "markdown",
   "metadata": {
    "id": "ZGNTDJpZs4NN"
   },
   "source": [
    "For most agents, `collect_data_spec` is a named tuple called `Trajectory`, containing the specs for observations, actions, rewards, and other items."
   ]
  },
  {
   "cell_type": "code",
   "execution_count": 25,
   "metadata": {
    "id": "_IZ-3HcqgE1z"
   },
   "outputs": [
    {
     "data": {
      "text/plain": [
       "Trajectory(\n",
       "{'action': BoundedTensorSpec(shape=(), dtype=tf.int32, name='action', minimum=array(0, dtype=int32), maximum=array(6, dtype=int32)),\n",
       " 'discount': BoundedTensorSpec(shape=(), dtype=tf.float32, name='discount', minimum=array(0., dtype=float32), maximum=array(1., dtype=float32)),\n",
       " 'next_step_type': TensorSpec(shape=(), dtype=tf.int32, name='step_type'),\n",
       " 'observation': BoundedTensorSpec(shape=(30,), dtype=tf.float32, name='observation', minimum=array([-1000., -1000., -1000., -1000., -1000., -1000., -1000., -1000.,\n",
       "       -1000., -1000., -1000., -1000., -1000., -1000., -1000., -1000.,\n",
       "       -1000., -1000., -1000., -1000., -1000., -1000., -1000., -1000.,\n",
       "       -1000., -1000., -1000., -1000., -1000., -1000.], dtype=float32), maximum=array([1000., 1000., 1000., 1000., 1000., 1000., 1000., 1000., 1000.,\n",
       "       1000., 1000., 1000., 1000., 1000., 1000., 1000., 1000., 1000.,\n",
       "       1000., 1000., 1000., 1000., 1000., 1000., 1000., 1000., 1000.,\n",
       "       1000., 1000., 1000.], dtype=float32)),\n",
       " 'policy_info': (),\n",
       " 'reward': TensorSpec(shape=(), dtype=tf.float32, name='reward'),\n",
       " 'step_type': TensorSpec(shape=(), dtype=tf.int32, name='step_type')})"
      ]
     },
     "execution_count": 25,
     "metadata": {},
     "output_type": "execute_result"
    }
   ],
   "source": [
    "agent.collect_data_spec"
   ]
  },
  {
   "cell_type": "code",
   "execution_count": 26,
   "metadata": {
    "id": "sy6g1tGcfRlw"
   },
   "outputs": [
    {
     "data": {
      "text/plain": [
       "('step_type',\n",
       " 'observation',\n",
       " 'action',\n",
       " 'policy_info',\n",
       " 'next_step_type',\n",
       " 'reward',\n",
       " 'discount')"
      ]
     },
     "execution_count": 26,
     "metadata": {},
     "output_type": "execute_result"
    }
   ],
   "source": [
    "agent.collect_data_spec._fields"
   ]
  },
  {
   "cell_type": "markdown",
   "metadata": {
    "id": "rVD5nQ9ZGo8_"
   },
   "source": [
    "## Data Collection\n",
    "\n",
    "Now execute the random policy in the environment for a few steps, recording the data in the replay buffer.\n",
    "\n",
    "Here we are using 'PyDriver' to run the experience collecting loop. You can learn more about TF Agents driver in our [drivers tutorial](https://www.tensorflow.org/agents/tutorials/4_drivers_tutorial)."
   ]
  },
  {
   "cell_type": "code",
   "execution_count": 27,
   "metadata": {
    "id": "wr1KSAEGG4h9"
   },
   "outputs": [
    {
     "data": {
      "text/plain": [
       "(TimeStep(\n",
       " {'discount': array(1., dtype=float32),\n",
       "  'observation': array([0.49748975, 0.08366694, 0.4138228 , 0.48489767, 0.09199161,\n",
       "        0.39290607, 0.44955438, 0.07964621, 0.36990815, 0.4437227 ,\n",
       "        0.09372608, 0.3499966 , 0.451207  , 0.12464193, 0.3265651 ,\n",
       "        0.41346943, 0.11806484, 0.2954046 , 0.42037937, 0.15449099,\n",
       "        0.2658884 , 0.40679348, 0.17952782, 0.22726564, 0.37640864,\n",
       "        0.19402494, 0.18238369, 0.3372424 , 0.20336494, 0.13387746],\n",
       "       dtype=float32),\n",
       "  'reward': array(-17.81979, dtype=float32),\n",
       "  'step_type': array(1, dtype=int32)}),\n",
       " ())"
      ]
     },
     "execution_count": 27,
     "metadata": {},
     "output_type": "execute_result"
    }
   ],
   "source": [
    "#@test {\"skip\": true}\n",
    "py_driver.PyDriver(\n",
    "    env,\n",
    "    py_tf_eager_policy.PyTFEagerPolicy(\n",
    "      random_policy, use_tf_function=True),\n",
    "    [rb_observer],\n",
    "    max_steps=initial_collect_steps).run(train_py_env.reset())"
   ]
  },
  {
   "cell_type": "markdown",
   "metadata": {
    "id": "84z5pQJdoKxo"
   },
   "source": [
    "The replay buffer is now a collection of Trajectories."
   ]
  },
  {
   "cell_type": "code",
   "execution_count": 28,
   "metadata": {
    "id": "4wZnLu2ViO4E"
   },
   "outputs": [],
   "source": [
    "# For the curious:\n",
    "# Uncomment to peel one of these off and inspect it.\n",
    "# iter(replay_buffer.as_dataset()).next()"
   ]
  },
  {
   "cell_type": "markdown",
   "metadata": {
    "id": "TujU-PMUsKjS"
   },
   "source": [
    "The agent needs access to the replay buffer. This is provided by creating an iterable `tf.data.Dataset` pipeline which will feed data to the agent.\n",
    "\n",
    "Each row of the replay buffer only stores a single observation step. But since the DQN Agent needs both the current and next observation to compute the loss, the dataset pipeline will sample two adjacent rows for each item in the batch (`num_steps=2`).\n",
    "\n",
    "This dataset is also optimized by running parallel calls and prefetching data."
   ]
  },
  {
   "cell_type": "code",
   "execution_count": 29,
   "metadata": {
    "id": "ba7bilizt_qW"
   },
   "outputs": [
    {
     "data": {
      "text/plain": [
       "<_PrefetchDataset element_spec=(Trajectory(\n",
       "{'action': TensorSpec(shape=(64, 2), dtype=tf.int32, name=None),\n",
       " 'discount': TensorSpec(shape=(64, 2), dtype=tf.float32, name=None),\n",
       " 'next_step_type': TensorSpec(shape=(64, 2), dtype=tf.int32, name=None),\n",
       " 'observation': TensorSpec(shape=(64, 2, 30), dtype=tf.float32, name=None),\n",
       " 'policy_info': (),\n",
       " 'reward': TensorSpec(shape=(64, 2), dtype=tf.float32, name=None),\n",
       " 'step_type': TensorSpec(shape=(64, 2), dtype=tf.int32, name=None)}), SampleInfo(key=TensorSpec(shape=(64, 2), dtype=tf.uint64, name=None), probability=TensorSpec(shape=(64, 2), dtype=tf.float64, name=None), table_size=TensorSpec(shape=(64, 2), dtype=tf.int64, name=None), priority=TensorSpec(shape=(64, 2), dtype=tf.float64, name=None), times_sampled=TensorSpec(shape=(64, 2), dtype=tf.int32, name=None)))>"
      ]
     },
     "execution_count": 29,
     "metadata": {},
     "output_type": "execute_result"
    }
   ],
   "source": [
    "# Dataset generates trajectories with shape [Bx2x...]\n",
    "dataset = replay_buffer.as_dataset(\n",
    "    num_parallel_calls=3,\n",
    "    sample_batch_size=batch_size,\n",
    "    num_steps=2).prefetch(3)\n",
    "\n",
    "dataset"
   ]
  },
  {
   "cell_type": "code",
   "execution_count": 30,
   "metadata": {
    "id": "K13AST-2ppOq"
   },
   "outputs": [
    {
     "name": "stdout",
     "output_type": "stream",
     "text": [
      "<tensorflow.python.data.ops.iterator_ops.OwnedIterator object at 0x7f35e86d2e90>\n"
     ]
    }
   ],
   "source": [
    "iterator = iter(dataset)\n",
    "print(iterator)"
   ]
  },
  {
   "cell_type": "code",
   "execution_count": 31,
   "metadata": {
    "id": "Th5w5Sff0b16"
   },
   "outputs": [],
   "source": [
    "# For the curious:\n",
    "# Uncomment to see what the dataset iterator is feeding to the agent.\n",
    "# Compare this representation of replay data \n",
    "# to the collection of individual trajectories shown earlier.\n",
    "\n",
    "# iterator.next()"
   ]
  },
  {
   "cell_type": "markdown",
   "metadata": {
    "id": "hBc9lj9VWWtZ"
   },
   "source": [
    "## Training the agent\n",
    "\n",
    "Two things must happen during the training loop:\n",
    "\n",
    "-   collect data from the environment\n",
    "-   use that data to train the agent's neural network(s)\n",
    "\n",
    "This example also periodicially evaluates the policy and prints the current score.\n",
    "\n",
    "The following will take ~5 minutes to run."
   ]
  },
  {
   "cell_type": "code",
   "execution_count": 32,
   "metadata": {
    "id": "0pTbJ3PeyF-u"
   },
   "outputs": [
    {
     "name": "stderr",
     "output_type": "stream",
     "text": [
      "[reverb/cc/client.cc:165] Sampler and server are owned by the same process (3412) so Table uniform_table is accessed directly without gRPC.\n",
      "[reverb/cc/client.cc:165] Sampler and server are owned by the same process (3412) so Table uniform_table is accessed directly without gRPC.\n",
      "[reverb/cc/client.cc:165] Sampler and server are owned by the same process (3412) so Table uniform_table is accessed directly without gRPC.\n",
      "[reverb/cc/client.cc:165] Sampler and server are owned by the same process (3412) so Table uniform_table is accessed directly without gRPC.\n",
      "[reverb/cc/client.cc:165] Sampler and server are owned by the same process (3412) so Table uniform_table is accessed directly without gRPC.\n",
      "[reverb/cc/client.cc:165] Sampler and server are owned by the same process (3412) so Table uniform_table is accessed directly without gRPC.\n"
     ]
    },
    {
     "name": "stdout",
     "output_type": "stream",
     "text": [
      "WARNING:tensorflow:From /opt/conda/lib/python3.11/site-packages/tensorflow/python/util/dispatch.py:1176: calling foldr_v2 (from tensorflow.python.ops.functional_ops) with back_prop=False is deprecated and will be removed in a future version.\n",
      "Instructions for updating:\n",
      "back_prop=False is deprecated. Consider using tf.stop_gradient instead.\n",
      "Instead of:\n",
      "results = tf.foldr(fn, elems, back_prop=False)\n",
      "Use:\n",
      "results = tf.nest.map_structure(tf.stop_gradient, tf.foldr(fn, elems))\n",
      "step = 1000: loss = 12970108.0\n",
      "step = 2000: loss = 129093248.0\n",
      "step = 3000: loss = 2669122560.0\n",
      "step = 4000: loss = 89431580672.0\n",
      "step = 5000: loss = 114634915840.0\n",
      "step = 6000: loss = 389269913600.0\n",
      "step = 7000: loss = 619819958272.0\n",
      "step = 8000: loss = 19955621888.0\n",
      "step = 9000: loss = 90446757888.0\n",
      "step = 10000: loss = 36996800512.0\n",
      "step = 10000: Average Return = 18.25994300842285\n",
      "step = 11000: loss = 3459778347008.0\n",
      "step = 12000: loss = 6490427490304.0\n",
      "step = 13000: loss = 356098277376.0\n",
      "step = 14000: loss = 88826789888.0\n",
      "step = 15000: loss = 13843040305152.0\n",
      "step = 16000: loss = 598269296640.0\n",
      "step = 17000: loss = 846575501312.0\n",
      "step = 18000: loss = 505979174912.0\n",
      "step = 19000: loss = 726813114368.0\n",
      "step = 20000: loss = 348358180864.0\n",
      "step = 20000: Average Return = 0.0\n",
      "step = 21000: loss = 34846132928512.0\n",
      "step = 22000: loss = 94074650624.0\n",
      "step = 23000: loss = 1813773287424.0\n",
      "step = 24000: loss = 269052477440.0\n",
      "step = 25000: loss = 869533220864.0\n",
      "step = 26000: loss = 1973821112320.0\n",
      "step = 27000: loss = 1074654216192.0\n",
      "step = 28000: loss = 72703100846080.0\n",
      "step = 29000: loss = 1759874252800.0\n",
      "step = 30000: loss = 2541274267648.0\n",
      "step = 30000: Average Return = 0.0\n",
      "step = 31000: loss = 923370913792.0\n",
      "step = 32000: loss = 279996596224.0\n",
      "step = 33000: loss = 112250589282304.0\n",
      "step = 34000: loss = 246336258048.0\n",
      "step = 35000: loss = 332366413824.0\n",
      "step = 36000: loss = 145038131200.0\n",
      "step = 37000: loss = 791550492672.0\n",
      "step = 38000: loss = 1208526962688.0\n",
      "step = 39000: loss = 1004986433536.0\n",
      "step = 40000: loss = 822187786240.0\n",
      "step = 40000: Average Return = 0.0\n",
      "step = 41000: loss = 373083766784.0\n",
      "step = 42000: loss = 306828083200.0\n",
      "step = 43000: loss = 300040650752.0\n",
      "step = 44000: loss = 331428167680.0\n",
      "step = 45000: loss = 311482712064.0\n",
      "step = 46000: loss = 536651005952.0\n",
      "step = 47000: loss = 1304543100928.0\n",
      "step = 48000: loss = 543050694656.0\n",
      "step = 49000: loss = 514894888960.0\n",
      "step = 50000: loss = 676579901440.0\n",
      "step = 50000: Average Return = 47.5499267578125\n",
      "step = 51000: loss = 693118173184.0\n",
      "step = 52000: loss = 205893887066112.0\n",
      "step = 53000: loss = 708843405312.0\n",
      "step = 54000: loss = 1146068271104.0\n",
      "step = 55000: loss = 230959047770112.0\n",
      "step = 56000: loss = 385760231424.0\n",
      "step = 57000: loss = 290392801280.0\n",
      "step = 58000: loss = 971453235200.0\n",
      "step = 59000: loss = 1430787981312.0\n",
      "step = 60000: loss = 1268797407232.0\n",
      "step = 60000: Average Return = 0.0\n",
      "step = 61000: loss = 391053180928.0\n",
      "step = 62000: loss = 1940442316800.0\n",
      "step = 63000: loss = 289464152752128.0\n",
      "step = 64000: loss = 701652795392.0\n",
      "step = 65000: loss = 888522801152.0\n",
      "step = 66000: loss = 382217879552.0\n",
      "step = 67000: loss = 795093958656.0\n",
      "step = 68000: loss = 405771747328.0\n",
      "step = 69000: loss = 403141165056.0\n",
      "step = 70000: loss = 572861194436608.0\n",
      "step = 70000: Average Return = 0.0\n",
      "step = 71000: loss = 404435402752.0\n",
      "step = 72000: loss = 683450040320.0\n",
      "step = 73000: loss = 551278608384.0\n",
      "step = 74000: loss = 975094415360.0\n",
      "step = 75000: loss = 757206482944.0\n",
      "step = 76000: loss = 1485480132608.0\n",
      "step = 77000: loss = 1818098925568.0\n",
      "step = 78000: loss = 1582947893248.0\n",
      "step = 79000: loss = 1859730407424.0\n",
      "step = 80000: loss = 397916472606720.0\n",
      "step = 80000: Average Return = 0.0\n",
      "step = 81000: loss = 572538093568.0\n",
      "step = 82000: loss = 1003023761408.0\n",
      "step = 83000: loss = 806661324800.0\n",
      "step = 84000: loss = 2080621068288.0\n",
      "step = 85000: loss = 717033308160.0\n",
      "step = 86000: loss = 1351526907904.0\n",
      "step = 87000: loss = 552344813568.0\n",
      "step = 88000: loss = 1058877079552.0\n",
      "step = 89000: loss = 601322225664.0\n",
      "step = 90000: loss = 345364695613440.0\n",
      "step = 90000: Average Return = 0.0\n",
      "step = 91000: loss = 1488097378304.0\n",
      "step = 92000: loss = 365017224445952.0\n",
      "step = 93000: loss = 727284842496.0\n",
      "step = 94000: loss = 2929423548416.0\n",
      "step = 95000: loss = 2109188079616.0\n",
      "step = 96000: loss = 4131258105856.0\n",
      "step = 97000: loss = 5944744345600.0\n",
      "step = 98000: loss = 2258194923520.0\n",
      "step = 99000: loss = 421364170752.0\n",
      "step = 100000: loss = 924377350144.0\n",
      "step = 100000: Average Return = 0.0\n",
      "step = 101000: loss = 739867295744.0\n",
      "step = 102000: loss = 719817736192.0\n",
      "step = 103000: loss = 423062801481728.0\n",
      "step = 104000: loss = 438845046784.0\n",
      "step = 105000: loss = 5584485089280.0\n",
      "step = 106000: loss = 5385637330944.0\n",
      "step = 107000: loss = 5780805779456.0\n",
      "step = 108000: loss = 542212063232.0\n",
      "step = 109000: loss = 3110659424256.0\n",
      "step = 110000: loss = 5043081707520.0\n",
      "step = 110000: Average Return = 0.0\n",
      "step = 111000: loss = 1215076237312.0\n",
      "step = 112000: loss = 1051280343040.0\n",
      "step = 113000: loss = 2962534170624.0\n",
      "step = 114000: loss = 2285366935552.0\n",
      "step = 115000: loss = 1530342408192.0\n",
      "step = 116000: loss = 2341234802688.0\n",
      "step = 117000: loss = 1487547531264.0\n",
      "step = 118000: loss = 825471008768.0\n",
      "step = 119000: loss = 1852561424384.0\n",
      "step = 120000: loss = 1323655102464.0\n",
      "step = 120000: Average Return = 0.0\n",
      "step = 121000: loss = 2573417840640.0\n",
      "step = 122000: loss = 1160805613568.0\n",
      "step = 123000: loss = 1539715104768.0\n",
      "step = 124000: loss = 543231087476736.0\n",
      "step = 125000: loss = 1080346673152.0\n",
      "step = 126000: loss = 1179436580864.0\n",
      "step = 127000: loss = 1850352074752.0\n",
      "step = 128000: loss = 2842225541120.0\n",
      "step = 129000: loss = 965275942912.0\n",
      "step = 130000: loss = 586228676165632.0\n",
      "step = 130000: Average Return = 0.0\n",
      "step = 131000: loss = 575077733105664.0\n",
      "step = 132000: loss = 2382171209728.0\n",
      "step = 133000: loss = 945897275392.0\n",
      "step = 134000: loss = 2727934951424.0\n",
      "step = 135000: loss = 2996358873088.0\n",
      "step = 136000: loss = 4680849555456.0\n",
      "step = 137000: loss = 2839597285376.0\n",
      "step = 138000: loss = 3417691914240.0\n",
      "step = 139000: loss = 901200019456.0\n",
      "step = 140000: loss = 978604982272.0\n",
      "step = 140000: Average Return = 0.0\n",
      "step = 141000: loss = 4026064175104.0\n",
      "step = 142000: loss = 5319947190272.0\n",
      "step = 143000: loss = 1997120077824.0\n",
      "step = 144000: loss = 1371426258944.0\n",
      "step = 145000: loss = 3375953870848.0\n",
      "step = 146000: loss = 647303580876800.0\n",
      "step = 147000: loss = 1767988396032.0\n",
      "step = 148000: loss = 1181439229952.0\n",
      "step = 149000: loss = 1250517843968.0\n",
      "step = 150000: loss = 2534546341888.0\n",
      "step = 150000: Average Return = -331.72015380859375\n",
      "step = 151000: loss = 1944090574848.0\n",
      "step = 152000: loss = 3877173985280.0\n",
      "step = 153000: loss = 1295399911424.0\n",
      "step = 154000: loss = 803044720640.0\n",
      "step = 155000: loss = 5078408757248.0\n",
      "step = 156000: loss = 631705870270464.0\n",
      "step = 157000: loss = 4785515266048.0\n",
      "step = 158000: loss = 2159572942848.0\n",
      "step = 159000: loss = 10164432273408.0\n",
      "step = 160000: loss = 4819976192000.0\n",
      "step = 160000: Average Return = 0.0\n",
      "step = 161000: loss = 2005168422912.0\n",
      "step = 162000: loss = 1490751848448.0\n",
      "step = 163000: loss = 758944007979008.0\n",
      "step = 164000: loss = 1209142476800.0\n",
      "step = 165000: loss = 16168207253504.0\n",
      "step = 166000: loss = 16778354753536.0\n",
      "step = 167000: loss = 1392358981632.0\n",
      "step = 168000: loss = 1347149627392.0\n",
      "step = 169000: loss = 8392970600448.0\n",
      "step = 170000: loss = 1233733943296.0\n",
      "step = 170000: Average Return = 0.0\n",
      "step = 171000: loss = 2579162202112.0\n",
      "step = 172000: loss = 7820873826304.0\n",
      "step = 173000: loss = 2388368293888.0\n",
      "step = 174000: loss = 6034554880000.0\n",
      "step = 175000: loss = 1896508555264.0\n",
      "step = 176000: loss = 7390830788608.0\n",
      "step = 177000: loss = 5190359973888.0\n",
      "step = 178000: loss = 1243552153600.0\n",
      "step = 179000: loss = 1169849843712.0\n",
      "step = 180000: loss = 3764845543424.0\n",
      "step = 180000: Average Return = 0.0\n",
      "step = 181000: loss = 920596108017664.0\n",
      "step = 182000: loss = 3416462721024.0\n",
      "step = 183000: loss = 4318087086080.0\n",
      "step = 184000: loss = 4069091966976.0\n",
      "step = 185000: loss = 2815531941888.0\n",
      "step = 186000: loss = 2630379634688.0\n",
      "step = 187000: loss = 11510657056768.0\n",
      "step = 188000: loss = 919965687349248.0\n",
      "step = 189000: loss = 1172819069108224.0\n",
      "step = 190000: loss = 2495814565888.0\n",
      "step = 190000: Average Return = 0.0\n",
      "step = 191000: loss = 2655050006528.0\n",
      "step = 192000: loss = 9570939305984.0\n",
      "step = 193000: loss = 1059466761994240.0\n",
      "step = 194000: loss = 2509613563904.0\n",
      "step = 195000: loss = 10189563494400.0\n",
      "step = 196000: loss = 2653940088832.0\n",
      "step = 197000: loss = 3497227976704.0\n",
      "step = 198000: loss = 24044275499008.0\n",
      "step = 199000: loss = 9295307472896.0\n",
      "step = 200000: loss = 1254832677584896.0\n",
      "step = 200000: Average Return = 0.0\n",
      "step = 201000: loss = 2832122773504.0\n",
      "step = 202000: loss = 2802318573568.0\n",
      "step = 203000: loss = 17500527919104.0\n",
      "step = 204000: loss = 3267155197952.0\n",
      "step = 205000: loss = 2266666631168.0\n",
      "step = 206000: loss = 3756885278720.0\n",
      "step = 207000: loss = 2259358842880.0\n",
      "step = 208000: loss = 2531730653184.0\n",
      "step = 209000: loss = 3336010465280.0\n",
      "step = 210000: loss = 23126186393600.0\n",
      "step = 210000: Average Return = 0.0\n",
      "step = 211000: loss = 23324706996224.0\n",
      "step = 212000: loss = 1991426703360.0\n",
      "step = 213000: loss = 7733583020032.0\n",
      "step = 214000: loss = 12948262092800.0\n",
      "step = 215000: loss = 3814092439552.0\n",
      "step = 216000: loss = 3665535172608.0\n",
      "step = 217000: loss = 12244804960256.0\n",
      "step = 218000: loss = 2532493492224.0\n",
      "step = 219000: loss = 4829413900288.0\n",
      "step = 220000: loss = 8337636720640.0\n",
      "step = 220000: Average Return = -331.72015380859375\n",
      "step = 221000: loss = 3796987543552.0\n",
      "step = 222000: loss = 3627011276800.0\n",
      "step = 223000: loss = 10131096993792.0\n",
      "step = 224000: loss = 16813234585600.0\n",
      "step = 225000: loss = 4364239896576.0\n",
      "step = 226000: loss = 3719301693440.0\n",
      "step = 227000: loss = 4597511356416.0\n",
      "step = 228000: loss = 2202927628288.0\n",
      "step = 229000: loss = 3363169632256.0\n",
      "step = 230000: loss = 12002783133696.0\n",
      "step = 230000: Average Return = 0.0\n",
      "step = 231000: loss = 2940175908864.0\n",
      "step = 232000: loss = 5793247133696.0\n",
      "step = 233000: loss = 6606048722944.0\n",
      "step = 234000: loss = 5008741892096.0\n",
      "step = 235000: loss = 11815289356288.0\n",
      "step = 236000: loss = 7316201537536.0\n",
      "step = 237000: loss = 3061432713216.0\n",
      "step = 238000: loss = 7307165433856.0\n",
      "step = 239000: loss = 6368120012800.0\n",
      "step = 240000: loss = 11991634673664.0\n",
      "step = 240000: Average Return = 0.0\n",
      "step = 241000: loss = 15520166313984.0\n",
      "step = 242000: loss = 9765775212544.0\n",
      "step = 243000: loss = 1597702064308224.0\n",
      "step = 244000: loss = 1676195275997184.0\n",
      "step = 245000: loss = 4839616020480.0\n",
      "step = 246000: loss = 2630569951232.0\n",
      "step = 247000: loss = 3024039706624.0\n",
      "step = 248000: loss = 12685016039424.0\n",
      "step = 249000: loss = 3148281282560.0\n",
      "step = 250000: loss = 8616924938240.0\n",
      "step = 250000: Average Return = 0.0\n",
      "step = 251000: loss = 6461340516352.0\n",
      "step = 252000: loss = 13170975440896.0\n",
      "step = 253000: loss = 1854115369975808.0\n",
      "step = 254000: loss = 11712857112576.0\n",
      "step = 255000: loss = 4968532672512.0\n",
      "step = 256000: loss = 18506668048384.0\n",
      "step = 257000: loss = 12779089035264.0\n",
      "step = 258000: loss = 1580687819800576.0\n",
      "step = 259000: loss = 15257716129792.0\n",
      "step = 260000: loss = 1530318456619008.0\n",
      "step = 260000: Average Return = -331.72015380859375\n",
      "step = 261000: loss = 4100604821504.0\n",
      "step = 262000: loss = 23715035217920.0\n",
      "step = 263000: loss = 44410683260928.0\n",
      "step = 264000: loss = 4955347877888.0\n",
      "step = 265000: loss = 13099139596288.0\n",
      "step = 266000: loss = 14539579981824.0\n",
      "step = 267000: loss = 1931979905826816.0\n",
      "step = 268000: loss = 3238358679552.0\n",
      "step = 269000: loss = 29270497820672.0\n",
      "step = 270000: loss = 27499052400640.0\n",
      "step = 270000: Average Return = 0.0\n",
      "step = 271000: loss = 11831860002816.0\n",
      "step = 272000: loss = 2287193030656.0\n",
      "step = 273000: loss = 5262670823424.0\n",
      "step = 274000: loss = 13651472809984.0\n",
      "step = 275000: loss = 19504755113984.0\n",
      "step = 276000: loss = 23974840893440.0\n",
      "step = 277000: loss = 18566048907264.0\n",
      "step = 278000: loss = 2550594273280.0\n",
      "step = 279000: loss = 9658800537600.0\n",
      "step = 280000: loss = 2760891957248.0\n",
      "step = 280000: Average Return = 89.53990936279297\n",
      "step = 281000: loss = 9201311023104.0\n",
      "step = 282000: loss = 6809190400000.0\n",
      "step = 283000: loss = 1934898067668992.0\n",
      "step = 284000: loss = 8632410832896.0\n",
      "step = 285000: loss = 8290565095424.0\n",
      "step = 286000: loss = 3350580428800.0\n",
      "step = 287000: loss = 4874717626368.0\n",
      "step = 288000: loss = 7911073906688.0\n",
      "step = 289000: loss = 12722959810560.0\n",
      "step = 290000: loss = 9551662284800.0\n",
      "step = 290000: Average Return = 0.0\n",
      "step = 291000: loss = 7293348347904.0\n",
      "step = 292000: loss = 14603641683968.0\n",
      "step = 293000: loss = 11238524321792.0\n",
      "step = 294000: loss = 5624399134720.0\n",
      "step = 295000: loss = 12146301730816.0\n",
      "step = 296000: loss = 4598718791680.0\n",
      "step = 297000: loss = 9116640608256.0\n",
      "step = 298000: loss = 11179657265152.0\n",
      "step = 299000: loss = 7584949469184.0\n",
      "step = 300000: loss = 12095050481664.0\n",
      "step = 300000: Average Return = 0.0\n"
     ]
    }
   ],
   "source": [
    "#@test {\"skip\": true}\n",
    "try:\n",
    "  %%time\n",
    "except:\n",
    "  pass\n",
    "\n",
    "# (Optional) Optimize by wrapping some of the code in a graph using TF function.\n",
    "agent.train = common.function(agent.train)\n",
    "\n",
    "# Reset the train step.\n",
    "agent.train_step_counter.assign(0)\n",
    "\n",
    "# Evaluate the agent's policy once before training.\n",
    "avg_return = compute_avg_return(eval_env, agent.policy, num_eval_episodes)\n",
    "returns = [avg_return]\n",
    "\n",
    "# Reset the environment.\n",
    "time_step = train_py_env.reset()\n",
    "\n",
    "# Create a driver to collect experience.\n",
    "collect_driver = py_driver.PyDriver(\n",
    "    env,\n",
    "    py_tf_eager_policy.PyTFEagerPolicy(\n",
    "      agent.collect_policy, use_tf_function=True),\n",
    "    [rb_observer],\n",
    "    max_steps=collect_steps_per_iteration)\n",
    "\n",
    "for _ in range(num_iterations):\n",
    "\n",
    "  # Collect a few steps and save to the replay buffer.\n",
    "  time_step, _ = collect_driver.run(time_step)\n",
    "\n",
    "  # Sample a batch of data from the buffer and update the agent's network.\n",
    "  experience, unused_info = next(iterator)\n",
    "  train_loss = agent.train(experience).loss\n",
    "\n",
    "  step = agent.train_step_counter.numpy()\n",
    "\n",
    "  if step % log_interval == 0:\n",
    "    print('step = {0}: loss = {1}'.format(step, train_loss))\n",
    "\n",
    "  if step % eval_interval == 0:\n",
    "    avg_return = compute_avg_return(eval_env, agent.policy, num_eval_episodes)\n",
    "    print('step = {0}: Average Return = {1}'.format(step, avg_return))\n",
    "    returns.append(avg_return)"
   ]
  },
  {
   "cell_type": "markdown",
   "metadata": {
    "id": "68jNcA_TiJDq"
   },
   "source": [
    "## Visualization\n"
   ]
  },
  {
   "cell_type": "markdown",
   "metadata": {
    "id": "aO-LWCdbbOIC"
   },
   "source": [
    "### Plots\n",
    "\n",
    "Use `matplotlib.pyplot` to chart how the policy improved during training.\n",
    "\n",
    "One iteration of `Cartpole-v0` consists of 200 time steps. The environment gives a reward of `+1` for each step the pole stays up, so the maximum return for one episode is 200. The charts shows the return increasing towards that maximum each time it is evaluated during training. (It may be a little unstable and not increase monotonically each time.)"
   ]
  },
  {
   "cell_type": "code",
   "execution_count": 36,
   "metadata": {
    "id": "NxtL1mbOYCVO"
   },
   "outputs": [
    {
     "data": {
      "text/plain": [
       "(-352.7831569671631, 100.0)"
      ]
     },
     "execution_count": 36,
     "metadata": {},
     "output_type": "execute_result"
    },
    {
     "data": {
      "image/png": "[encoded data removed]",
      "text/plain": [
       "<Figure size 640x480 with 1 Axes>"
      ]
     },
     "metadata": {},
     "output_type": "display_data"
    }
   ],
   "source": [
    "#@test {\"skip\": true}\n",
    "\n",
    "iterations = range(0, num_iterations + 1, eval_interval)\n",
    "plt.plot(iterations, returns)\n",
    "plt.ylabel('Average Return')\n",
    "plt.xlabel('Iterations')\n",
    "plt.ylim(top=100)"
   ]
  },
  {
   "cell_type": "markdown",
   "metadata": {
    "id": "M7-XpPP99Cy7"
   },
   "source": [
    "### Videos"
   ]
  },
  {
   "cell_type": "markdown",
   "metadata": {
    "id": "9pGfGxSH32gn"
   },
   "source": [
    "Charts are nice. But more exciting is seeing an agent actually performing a task in an environment. \n",
    "\n",
    "First, create a function to embed videos in the notebook."
   ]
  },
  {
   "cell_type": "code",
   "execution_count": null,
   "metadata": {
    "id": "ULaGr8pvOKbl"
   },
   "outputs": [],
   "source": []
  },
  {
   "cell_type": "markdown",
   "metadata": {
    "id": "9c_PH-pX4Pr5"
   },
   "source": [
    "Now iterate through a few episodes of the Cartpole game with the agent. The underlying Python environment (the one \"inside\" the TensorFlow environment wrapper) provides a `render()` method, which outputs an image of the environment state. These can be collected into a video."
   ]
  },
  {
   "cell_type": "code",
   "execution_count": 40,
   "metadata": {
    "id": "owOVWB158NlF"
   },
   "outputs": [
    {
     "data": {
      "image/png": "[encoded data removed]",
      "text/plain": [
       "<Figure size 1500x800 with 1 Axes>"
      ]
     },
     "metadata": {},
     "output_type": "display_data"
    },
    {
     "data": {
      "text/plain": [
       "<Figure size 640x480 with 0 Axes>"
      ]
     },
     "metadata": {},
     "output_type": "display_data"
    }
   ],
   "source": [
    "\n",
    "def render_policy_eval(policy, filename):\n",
    "    time_step = eval_env.reset()\n",
    "    while not time_step.is_last():\n",
    "        action_step = policy.action(time_step)\n",
    "        time_step = eval_env.step(action_step.action)\n",
    "    eval_py_env.render('human')\n",
    "\n",
    "render_policy_eval(agent.policy, \"trained-agent\")"
   ]
  },
  {
   "cell_type": "markdown",
   "metadata": {
    "id": "povaAOcZygLw"
   },
   "source": [
    "For fun, compare the trained agent (above) to an agent moving randomly. (It does not do as well.)"
   ]
  },
  {
   "cell_type": "code",
   "execution_count": 35,
   "metadata": {
    "id": "pJZIdC37yNH4"
   },
   "outputs": [
    {
     "data": {
      "image/png": "[encoded data removed]",
      "text/plain": [
       "<Figure size 1500x800 with 1 Axes>"
      ]
     },
     "metadata": {},
     "output_type": "display_data"
    },
    {
     "data": {
      "text/plain": [
       "<Figure size 640x480 with 0 Axes>"
      ]
     },
     "metadata": {},
     "output_type": "display_data"
    }
   ],
   "source": [
    "render_policy_eval(random_policy, \"random-agent\")"
   ]
  }
 ],
 "metadata": {
  "colab": {
   "collapsed_sections": [],
   "name": "DQN Tutorial.ipynb",
   "private_outputs": true,
   "provenance": [],
   "toc_visible": true
  },
  "kernelspec": {
   "display_name": "Python 3 (ipykernel)",
   "language": "python",
   "name": "python3"
  },
  "language_info": {
   "codemirror_mode": {
    "name": "ipython",
    "version": 3
   },
   "file_extension": ".py",
   "mimetype": "text/x-python",
   "name": "python",
   "nbconvert_exporter": "python",
   "pygments_lexer": "ipython3",
   "version": "3.11.5"
  },
  "pycharm": {
   "stem_cell": {
    "cell_type": "raw",
    "metadata": {
     "collapsed": false
    },
    "source": []
   }
  }
 },
 "nbformat": 4,
 "nbformat_minor": 4
}
