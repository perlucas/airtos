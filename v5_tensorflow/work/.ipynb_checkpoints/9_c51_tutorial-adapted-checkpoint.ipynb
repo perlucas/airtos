{
 "cells": [
  {
   "cell_type": "markdown",
   "metadata": {
    "id": "klGNgWREsvQv"
   },
   "source": [
    "##### Copyright 2023 The TF-Agents Authors."
   ]
  },
  {
   "cell_type": "code",
   "execution_count": 1,
   "metadata": {
    "cellView": "form",
    "id": "nQnmcm0oI1Q-"
   },
   "outputs": [],
   "source": [
    "#@title Licensed under the Apache License, Version 2.0 (the \"License\");\n",
    "# you may not use this file except in compliance with the License.\n",
    "# You may obtain a copy of the License at\n",
    "#\n",
    "# https://www.apache.org/licenses/LICENSE-2.0\n",
    "#\n",
    "# Unless required by applicable law or agreed to in writing, software\n",
    "# distributed under the License is distributed on an \"AS IS\" BASIS,\n",
    "# WITHOUT WARRANTIES OR CONDITIONS OF ANY KIND, either express or implied.\n",
    "# See the License for the specific language governing permissions and\n",
    "# limitations under the License."
   ]
  },
  {
   "cell_type": "markdown",
   "metadata": {
    "id": "oMaGpi7TciQs"
   },
   "source": [
    "# DQN C51/Rainbow\n",
    "\n",
    "<table class=\"tfo-notebook-buttons\" align=\"left\">\n",
    "  <td>\n",
    "    <a target=\"_blank\" href=\"https://www.tensorflow.org/agents/tutorials/9_c51_tutorial\">\n",
    "    <img src=\"https://www.tensorflow.org/images/tf_logo_32px.png\" />\n",
    "    View on TensorFlow.org</a>\n",
    "  </td>\n",
    "  <td>\n",
    "    <a target=\"_blank\" href=\"https://colab.research.google.com/github/tensorflow/agents/blob/master/docs/tutorials/9_c51_tutorial.ipynb\">\n",
    "    <img src=\"https://www.tensorflow.org/images/colab_logo_32px.png\" />\n",
    "    Run in Google Colab</a>\n",
    "  </td>\n",
    "  <td>\n",
    "    <a target=\"_blank\" href=\"https://github.com/tensorflow/agents/blob/master/docs/tutorials/9_c51_tutorial.ipynb\">\n",
    "    <img src=\"https://www.tensorflow.org/images/GitHub-Mark-32px.png\" />\n",
    "    View source on GitHub</a>\n",
    "  </td>\n",
    "  <td>\n",
    "    <a href=\"https://storage.googleapis.com/tensorflow_docs/agents/docs/tutorials/9_c51_tutorial.ipynb\"><img src=\"https://www.tensorflow.org/images/download_logo_32px.png\" />Download notebook</a>\n",
    "  </td>\n",
    "</table>"
   ]
  },
  {
   "cell_type": "markdown",
   "metadata": {
    "id": "ZOUOQOrFs3zn"
   },
   "source": [
    "## Introduction"
   ]
  },
  {
   "cell_type": "markdown",
   "metadata": {
    "id": "cKOCZlhUgXVK"
   },
   "source": [
    "This example shows how to train a [Categorical DQN (C51)](https://arxiv.org/pdf/1707.06887.pdf) agent on the Cartpole environment using the TF-Agents library.\n",
    "\n",
    "![Cartpole environment](https://github.com/tensorflow/agents/blob/master/docs/tutorials/images/cartpole.png?raw=1)\n",
    "\n",
    "Make sure you take a look through the [DQN tutorial](https://github.com/tensorflow/agents/blob/master/docs/tutorials/1_dqn_tutorial.ipynb) as a prerequisite. This tutorial will assume familiarity with the DQN tutorial; it will mainly focus on the differences between DQN and C51.\n"
   ]
  },
  {
   "cell_type": "markdown",
   "metadata": {
    "id": "lsaQlK8fFQqH"
   },
   "source": [
    "## Setup\n"
   ]
  },
  {
   "cell_type": "markdown",
   "metadata": {
    "id": "-NzBsZzPcyBm"
   },
   "source": [
    "If you haven't installed tf-agents yet, run:"
   ]
  },
  {
   "cell_type": "code",
   "execution_count": 2,
   "metadata": {
    "id": "KEHR2Ui-lo8O"
   },
   "outputs": [
    {
     "name": "stdout",
     "output_type": "stream",
     "text": [
      "Get:1 http://security.ubuntu.com/ubuntu jammy-security InRelease [110 kB]\n",
      "Hit:2 http://archive.ubuntu.com/ubuntu jammy InRelease  \n",
      "Get:3 http://archive.ubuntu.com/ubuntu jammy-updates InRelease [119 kB]\n",
      "Get:4 http://security.ubuntu.com/ubuntu jammy-security/main amd64 Packages [1,014 kB]\n",
      "Get:5 http://archive.ubuntu.com/ubuntu jammy-backports InRelease [109 kB]\n",
      "Get:6 http://archive.ubuntu.com/ubuntu jammy-updates/universe amd64 Packages [1,259 kB]\n",
      "Get:7 http://archive.ubuntu.com/ubuntu jammy-updates/main amd64 Packages [1,282 kB]\n",
      "Fetched 3,893 kB in 4s (910 kB/s)                          \n",
      "Reading package lists... Done\n",
      "Requirement already satisfied: tf-agents in /opt/conda/lib/python3.11/site-packages (0.17.0)\n",
      "Requirement already satisfied: absl-py>=0.6.1 in /opt/conda/lib/python3.11/site-packages (from tf-agents) (1.4.0)\n",
      "Requirement already satisfied: cloudpickle>=1.3 in /opt/conda/lib/python3.11/site-packages (from tf-agents) (2.2.1)\n",
      "Requirement already satisfied: gin-config>=0.4.0 in /opt/conda/lib/python3.11/site-packages (from tf-agents) (0.5.0)\n",
      "Requirement already satisfied: gym<=0.23.0,>=0.17.0 in /opt/conda/lib/python3.11/site-packages (from tf-agents) (0.23.0)\n",
      "Requirement already satisfied: numpy>=1.19.0 in /opt/conda/lib/python3.11/site-packages (from tf-agents) (1.24.3)\n",
      "Requirement already satisfied: pillow in /opt/conda/lib/python3.11/site-packages (from tf-agents) (10.0.0)\n",
      "Requirement already satisfied: six>=1.10.0 in /opt/conda/lib/python3.11/site-packages (from tf-agents) (1.16.0)\n",
      "Requirement already satisfied: protobuf>=3.11.3 in /opt/conda/lib/python3.11/site-packages (from tf-agents) (4.23.3)\n",
      "Requirement already satisfied: wrapt>=1.11.1 in /opt/conda/lib/python3.11/site-packages (from tf-agents) (1.15.0)\n",
      "Requirement already satisfied: typing-extensions<4.6.0,>=3.7.4.3 in /opt/conda/lib/python3.11/site-packages (from tf-agents) (4.5.0)\n",
      "Requirement already satisfied: pygame==2.1.3 in /opt/conda/lib/python3.11/site-packages (from tf-agents) (2.1.3)\n",
      "Requirement already satisfied: tensorflow-probability~=0.20.1 in /opt/conda/lib/python3.11/site-packages (from tf-agents) (0.20.1)\n",
      "Requirement already satisfied: gym-notices>=0.0.4 in /opt/conda/lib/python3.11/site-packages (from gym<=0.23.0,>=0.17.0->tf-agents) (0.0.8)\n",
      "Requirement already satisfied: decorator in /opt/conda/lib/python3.11/site-packages (from tensorflow-probability~=0.20.1->tf-agents) (5.1.1)\n",
      "Requirement already satisfied: gast>=0.3.2 in /opt/conda/lib/python3.11/site-packages (from tensorflow-probability~=0.20.1->tf-agents) (0.4.0)\n",
      "Requirement already satisfied: dm-tree in /opt/conda/lib/python3.11/site-packages (from tensorflow-probability~=0.20.1->tf-agents) (0.1.8)\n",
      "Requirement already satisfied: pyglet in /opt/conda/lib/python3.11/site-packages (2.0.9)\n"
     ]
    }
   ],
   "source": [
    "!sudo apt-get update\n",
    "#!sudo apt-get install -y xvfb ffmpeg freeglut3-dev\n",
    "#!pip install 'imageio==2.4.0'\n",
    "#!pip install pyvirtualdisplay\n",
    "!pip install tf-agents\n",
    "!pip install pyglet"
   ]
  },
  {
   "cell_type": "code",
   "execution_count": 3,
   "metadata": {
    "id": "sMitx5qSgJk1"
   },
   "outputs": [
    {
     "name": "stderr",
     "output_type": "stream",
     "text": [
      "2023-09-20 14:20:50.386303: I tensorflow/tsl/cuda/cudart_stub.cc:28] Could not find cuda drivers on your machine, GPU will not be used.\n",
      "2023-09-20 14:20:51.142141: I tensorflow/tsl/cuda/cudart_stub.cc:28] Could not find cuda drivers on your machine, GPU will not be used.\n",
      "2023-09-20 14:20:51.146652: I tensorflow/core/platform/cpu_feature_guard.cc:182] This TensorFlow binary is optimized to use available CPU instructions in performance-critical operations.\n",
      "To enable the following instructions: AVX2 FMA, in other operations, rebuild TensorFlow with the appropriate compiler flags.\n",
      "2023-09-20 14:20:53.880589: W tensorflow/compiler/tf2tensorrt/utils/py_utils.cc:38] TF-TRT Warning: Could not find TensorRT\n"
     ]
    }
   ],
   "source": [
    "from __future__ import absolute_import\n",
    "from __future__ import division\n",
    "from __future__ import print_function\n",
    "\n",
    "import base64\n",
    "import imageio\n",
    "import IPython\n",
    "import matplotlib\n",
    "import matplotlib.pyplot as plt\n",
    "#import PIL.Image\n",
    "#import pyvirtualdisplay\n",
    "\n",
    "import tensorflow as tf\n",
    "\n",
    "from tf_agents.agents.categorical_dqn import categorical_dqn_agent\n",
    "from tf_agents.drivers import dynamic_step_driver\n",
    "from tf_agents.environments import suite_gym\n",
    "from tf_agents.environments import tf_py_environment\n",
    "from tf_agents.eval import metric_utils\n",
    "from tf_agents.metrics import tf_metrics\n",
    "from tf_agents.networks import categorical_q_network\n",
    "from tf_agents.policies import random_tf_policy\n",
    "from tf_agents.replay_buffers import tf_uniform_replay_buffer\n",
    "from tf_agents.trajectories import trajectory\n",
    "from tf_agents.utils import common\n",
    "\n",
    "from envs.trading_env_ext import TradingEnv\n",
    "from utils import load_dataset\n",
    "\n",
    "# Set up a virtual display for rendering OpenAI gym environments.\n",
    "#display = pyvirtualdisplay.Display(visible=0, size=(1400, 900)).start()"
   ]
  },
  {
   "cell_type": "markdown",
   "metadata": {
    "id": "LmC0NDhdLIKY"
   },
   "source": [
    "## Hyperparameters"
   ]
  },
  {
   "cell_type": "code",
   "execution_count": 4,
   "metadata": {
    "id": "HC1kNrOsLSIZ"
   },
   "outputs": [],
   "source": [
    "env_name = \"TradingEnv-v1\" # @param {type:\"string\"}\n",
    "num_iterations = 30000 # @param {type:\"integer\"}\n",
    "\n",
    "initial_collect_steps = 1000  # @param {type:\"integer\"} \n",
    "collect_steps_per_iteration = 3  # @param {type:\"integer\"}\n",
    "replay_buffer_capacity = 100000  # @param {type:\"integer\"}\n",
    "\n",
    "fc_layer_params = (100,)\n",
    "\n",
    "batch_size = 64  # @param {type:\"integer\"}\n",
    "learning_rate = 1e-3  # @param {type:\"number\"}\n",
    "gamma = 0.99\n",
    "log_interval = 1000  # @param {type:\"integer\"}\n",
    "\n",
    "num_atoms = 51  # @param {type:\"integer\"}\n",
    "min_q_value = -20  # @param {type:\"integer\"}\n",
    "max_q_value = 20  # @param {type:\"integer\"}\n",
    "n_step_update = 2  # @param {type:\"integer\"}\n",
    "\n",
    "num_eval_episodes = 10  # @param {type:\"integer\"}\n",
    "eval_interval = 6000  # @param {type:\"integer\"}\n",
    "\n",
    "WINDOW_SIZE=10"
   ]
  },
  {
   "cell_type": "markdown",
   "metadata": {
    "id": "VMsJC3DEgI0x"
   },
   "source": [
    "## Environment\n",
    "\n",
    "Load the environment as before, with one for training and one for evaluation. Here we use CartPole-v1 (vs. CartPole-v0 in the DQN tutorial), which has a larger max reward of 500 rather than 200."
   ]
  },
  {
   "cell_type": "code",
   "execution_count": 5,
   "metadata": {
    "id": "Xp-Y4mD6eDhF"
   },
   "outputs": [
    {
     "name": "stderr",
     "output_type": "stream",
     "text": [
      "/opt/conda/lib/python3.11/site-packages/tf_agents/specs/array_spec.py:335: RuntimeWarning: invalid value encountered in cast\n",
      "  self._minimum[self._minimum == -np.inf] = low\n",
      "/opt/conda/lib/python3.11/site-packages/tf_agents/specs/array_spec.py:336: RuntimeWarning: invalid value encountered in cast\n",
      "  self._minimum[self._minimum == np.inf] = high\n",
      "/opt/conda/lib/python3.11/site-packages/tf_agents/specs/array_spec.py:338: RuntimeWarning: invalid value encountered in cast\n",
      "  self._maximum[self._maximum == -np.inf] = low\n",
      "/opt/conda/lib/python3.11/site-packages/tf_agents/specs/array_spec.py:339: RuntimeWarning: invalid value encountered in cast\n",
      "  self._maximum[self._maximum == np.inf] = high\n",
      "/opt/conda/lib/python3.11/site-packages/tf_agents/specs/array_spec.py:335: RuntimeWarning: invalid value encountered in cast\n",
      "  self._minimum[self._minimum == -np.inf] = low\n",
      "/opt/conda/lib/python3.11/site-packages/tf_agents/specs/array_spec.py:336: RuntimeWarning: invalid value encountered in cast\n",
      "  self._minimum[self._minimum == np.inf] = high\n",
      "/opt/conda/lib/python3.11/site-packages/tf_agents/specs/array_spec.py:338: RuntimeWarning: invalid value encountered in cast\n",
      "  self._maximum[self._maximum == -np.inf] = low\n",
      "/opt/conda/lib/python3.11/site-packages/tf_agents/specs/array_spec.py:339: RuntimeWarning: invalid value encountered in cast\n",
      "  self._maximum[self._maximum == np.inf] = high\n"
     ]
    }
   ],
   "source": [
    "df = load_dataset('./KO.csv')\n",
    "train_py_env = TradingEnv(df=df, window_size=WINDOW_SIZE, frame_bound=(WINDOW_SIZE, 1500))\n",
    "eval_py_env = TradingEnv(df=df, window_size=WINDOW_SIZE, frame_bound=(1600, 2500))\n",
    "\n",
    "train_env = tf_py_environment.TFPyEnvironment(train_py_env)\n",
    "eval_env = tf_py_environment.TFPyEnvironment(eval_py_env)"
   ]
  },
  {
   "cell_type": "markdown",
   "metadata": {
    "id": "E9lW_OZYFR8A"
   },
   "source": [
    "## Agent\n",
    "\n",
    "C51 is a Q-learning algorithm based on DQN. Like DQN, it can be used on any environment with a discrete action space.\n",
    "\n",
    "The main difference between C51 and DQN is that rather than simply predicting the Q-value for each state-action pair, C51 predicts a histogram model for the probability distribution of the Q-value:\n",
    "\n",
    "![Example C51 Distribution](images/c51_distribution.png)\n",
    "\n",
    "By learning the distribution rather than simply the expected value, the algorithm is able to stay more stable during training, leading to improved final performance. This is particularly true in situations with bimodal or even multimodal value distributions, where a single average does not provide an accurate picture.\n",
    "\n",
    "In order to train on probability distributions rather than on values, C51 must perform some complex distributional computations in order to calculate its loss function. But don't worry, all of this is taken care of for you in TF-Agents!\n",
    "\n",
    "To create a C51 Agent, we first need to create a `CategoricalQNetwork`. The API of the `CategoricalQNetwork` is the same as that of the `QNetwork`, except that there is an additional argument `num_atoms`. This represents the number of support points in our probability distribution estimates. (The above image includes 10 support points, each represented by a vertical blue bar.) As you can tell from the name, the default number of atoms is 51.\n"
   ]
  },
  {
   "cell_type": "code",
   "execution_count": 6,
   "metadata": {
    "id": "TgkdEPg_muzV"
   },
   "outputs": [],
   "source": [
    "categorical_q_net = categorical_q_network.CategoricalQNetwork(\n",
    "    train_env.observation_spec(),\n",
    "    train_env.action_spec(),\n",
    "    num_atoms=num_atoms,\n",
    "    fc_layer_params=fc_layer_params)"
   ]
  },
  {
   "cell_type": "markdown",
   "metadata": {
    "id": "z62u55hSmviJ"
   },
   "source": [
    "We also need an `optimizer` to train the network we just created, and a `train_step_counter` variable to keep track of how many times the network was updated.\n",
    "\n",
    "Note that one other significant difference from vanilla `DqnAgent` is that we now need to specify `min_q_value` and `max_q_value` as arguments. These specify the most extreme values of the support (in other words, the most extreme of the 51 atoms on either side). Make sure to choose these appropriately for your particular environment. Here we use -20 and 20."
   ]
  },
  {
   "cell_type": "code",
   "execution_count": 7,
   "metadata": {
    "id": "jbY4yrjTEyc9"
   },
   "outputs": [],
   "source": [
    "optimizer = tf.compat.v1.train.AdamOptimizer(learning_rate=learning_rate)\n",
    "\n",
    "train_step_counter = tf.Variable(0)\n",
    "\n",
    "agent = categorical_dqn_agent.CategoricalDqnAgent(\n",
    "    train_env.time_step_spec(),\n",
    "    train_env.action_spec(),\n",
    "    categorical_q_network=categorical_q_net,\n",
    "    optimizer=optimizer,\n",
    "    min_q_value=min_q_value,\n",
    "    max_q_value=max_q_value,\n",
    "    n_step_update=n_step_update,\n",
    "    td_errors_loss_fn=common.element_wise_squared_loss,\n",
    "    gamma=gamma,\n",
    "    train_step_counter=train_step_counter)\n",
    "agent.initialize()"
   ]
  },
  {
   "cell_type": "markdown",
   "metadata": {
    "id": "L7O7F_HqiQ1G"
   },
   "source": [
    "One last thing to note is that we also added an argument to use n-step updates with $n$ = 2. In single-step Q-learning ($n$ = 1), we only compute the error between the Q-values at the current time step and the next time step using the single-step return (based on the Bellman optimality equation). The single-step return is defined as:\n",
    "\n",
    "$G_t = R_{t + 1} + \\gamma V(s_{t + 1})$\n",
    "\n",
    "where we define $V(s) = \\max_a{Q(s, a)}$.\n",
    "\n",
    "N-step updates involve expanding the standard single-step return function $n$ times:\n",
    "\n",
    "$G_t^n = R_{t + 1} + \\gamma R_{t + 2} + \\gamma^2 R_{t + 3} + \\dots + \\gamma^n V(s_{t + n})$\n",
    "\n",
    "N-step updates enable the agent to bootstrap from further in the future, and with the right value of $n$, this often leads to faster learning.\n",
    "\n",
    "Although C51 and n-step updates are often combined with prioritized replay to form the core of the [Rainbow agent](https://arxiv.org/pdf/1710.02298.pdf), we saw no measurable improvement from implementing prioritized replay. Moreover, we find that when combining our C51 agent with n-step updates alone, our agent performs as well as other Rainbow agents on the sample of Atari environments we've tested."
   ]
  },
  {
   "cell_type": "markdown",
   "metadata": {
    "id": "94rCXQtbUbXv"
   },
   "source": [
    "## Metrics and Evaluation\n",
    "\n",
    "The most common metric used to evaluate a policy is the average return. The return is the sum of rewards obtained while running a policy in an environment for an episode, and we usually average this over a few episodes. We can compute the average return metric as follows.\n"
   ]
  },
  {
   "cell_type": "code",
   "execution_count": 8,
   "metadata": {
    "id": "bitzHo5_UbXy"
   },
   "outputs": [
    {
     "data": {
      "text/plain": [
       "14.781965"
      ]
     },
     "execution_count": 8,
     "metadata": {},
     "output_type": "execute_result"
    }
   ],
   "source": [
    "#@test {\"skip\": true}\n",
    "def compute_avg_return(environment, policy, num_episodes=10):\n",
    "\n",
    "  total_return = 0.0\n",
    "  for _ in range(num_episodes):\n",
    "\n",
    "    time_step = environment.reset()\n",
    "    episode_return = 0.0\n",
    "\n",
    "    while not time_step.is_last():\n",
    "      action_step = policy.action(time_step)\n",
    "      time_step = environment.step(action_step.action)\n",
    "      episode_return += time_step.reward\n",
    "    total_return += episode_return\n",
    "\n",
    "  avg_return = total_return / num_episodes\n",
    "  return avg_return.numpy()[0]\n",
    "\n",
    "\n",
    "random_policy = random_tf_policy.RandomTFPolicy(train_env.time_step_spec(),\n",
    "                                                train_env.action_spec())\n",
    "\n",
    "compute_avg_return(eval_env, random_policy, num_eval_episodes)\n",
    "\n",
    "# Please also see the metrics module for standard implementations of different\n",
    "# metrics."
   ]
  },
  {
   "cell_type": "markdown",
   "metadata": {
    "id": "NLva6g2jdWgr"
   },
   "source": [
    "## Data Collection\n",
    "\n",
    "As in the DQN tutorial, set up the replay buffer and the initial data collection with the random policy."
   ]
  },
  {
   "cell_type": "code",
   "execution_count": 9,
   "metadata": {
    "id": "wr1KSAEGG4h9"
   },
   "outputs": [
    {
     "name": "stdout",
     "output_type": "stream",
     "text": [
      "WARNING:tensorflow:From /opt/conda/lib/python3.11/site-packages/tf_agents/replay_buffers/tf_uniform_replay_buffer.py:342: CounterV2 (from tensorflow.python.data.experimental.ops.counter) is deprecated and will be removed in a future version.\n",
      "Instructions for updating:\n",
      "Use `tf.data.Dataset.counter(...)` instead.\n",
      "WARNING:tensorflow:From /opt/conda/lib/python3.11/site-packages/tensorflow/python/autograph/impl/api.py:377: ReplayBuffer.get_next (from tf_agents.replay_buffers.replay_buffer) is deprecated and will be removed in a future version.\n",
      "Instructions for updating:\n",
      "Use `as_dataset(..., single_deterministic_pass=False) instead.\n"
     ]
    }
   ],
   "source": [
    "#@test {\"skip\": true}\n",
    "replay_buffer = tf_uniform_replay_buffer.TFUniformReplayBuffer(\n",
    "    data_spec=agent.collect_data_spec,\n",
    "    batch_size=train_env.batch_size,\n",
    "    max_length=replay_buffer_capacity)\n",
    "\n",
    "def collect_step(environment, policy):\n",
    "  time_step = environment.current_time_step()\n",
    "  action_step = policy.action(time_step)\n",
    "  next_time_step = environment.step(action_step.action)\n",
    "  traj = trajectory.from_transition(time_step, action_step, next_time_step)\n",
    "\n",
    "  # Add trajectory to the replay buffer\n",
    "  replay_buffer.add_batch(traj)\n",
    "\n",
    "for _ in range(initial_collect_steps):\n",
    "  collect_step(train_env, random_policy)\n",
    "\n",
    "# This loop is so common in RL, that we provide standard implementations of\n",
    "# these. For more details see the drivers module.\n",
    "\n",
    "# Dataset generates trajectories with shape [BxTx...] where\n",
    "# T = n_step_update + 1.\n",
    "dataset = replay_buffer.as_dataset(\n",
    "    num_parallel_calls=3, sample_batch_size=batch_size,\n",
    "    num_steps=n_step_update + 1).prefetch(3)\n",
    "\n",
    "iterator = iter(dataset)"
   ]
  },
  {
   "cell_type": "markdown",
   "metadata": {
    "id": "hBc9lj9VWWtZ"
   },
   "source": [
    "## Training the agent\n",
    "\n",
    "The training loop involves both collecting data from the environment and optimizing the agent's networks. Along the way, we will occasionally evaluate the agent's policy to see how we are doing.\n",
    "\n",
    "The following will take ~7 minutes to run."
   ]
  },
  {
   "cell_type": "code",
   "execution_count": null,
   "metadata": {
    "id": "0pTbJ3PeyF-u"
   },
   "outputs": [
    {
     "name": "stdout",
     "output_type": "stream",
     "text": [
      "WARNING:tensorflow:From /opt/conda/lib/python3.11/site-packages/tensorflow/python/util/dispatch.py:1176: calling foldr_v2 (from tensorflow.python.ops.functional_ops) with back_prop=False is deprecated and will be removed in a future version.\n",
      "Instructions for updating:\n",
      "back_prop=False is deprecated. Consider using tf.stop_gradient instead.\n",
      "Instead of:\n",
      "results = tf.foldr(fn, elems, back_prop=False)\n",
      "Use:\n",
      "results = tf.nest.map_structure(tf.stop_gradient, tf.foldr(fn, elems))\n",
      "step = 1000: loss = 2.862333297729492\n",
      "step = 2000: loss = 2.9182024002075195\n",
      "step = 3000: loss = 3.2053515911102295\n",
      "step = 4000: loss = 3.00283145904541\n",
      "step = 5000: loss = 3.1586203575134277\n",
      "step = 6000: loss = 2.8636598587036133\n",
      "step = 6000: Average Return = 50.04\n",
      "step = 7000: loss = 3.2474608421325684\n",
      "step = 8000: loss = 3.0588371753692627\n",
      "step = 9000: loss = 3.1504697799682617\n",
      "step = 10000: loss = 3.099196434020996\n",
      "step = 11000: loss = 3.3202860355377197\n",
      "step = 12000: loss = 3.0025928020477295\n",
      "step = 12000: Average Return = -96.89\n",
      "step = 13000: loss = 3.3127551078796387\n",
      "step = 14000: loss = 3.215045213699341\n",
      "step = 15000: loss = 3.363101005554199\n",
      "step = 16000: loss = 3.1849567890167236\n",
      "step = 17000: loss = 3.1849007606506348\n",
      "step = 18000: loss = 3.2340569496154785\n",
      "step = 18000: Average Return = -266.84\n",
      "step = 19000: loss = 3.245530128479004\n",
      "step = 20000: loss = 3.279146194458008\n",
      "step = 21000: loss = 3.025264263153076\n",
      "step = 22000: loss = 2.9870352745056152\n",
      "step = 23000: loss = 3.07080078125\n",
      "step = 24000: loss = 3.1328179836273193\n",
      "step = 24000: Average Return = -467.41\n",
      "step = 25000: loss = 3.159153699874878\n",
      "step = 26000: loss = 2.8913726806640625\n",
      "step = 27000: loss = 3.1521570682525635\n",
      "step = 28000: loss = 3.202449321746826\n",
      "step = 29000: loss = 3.0985302925109863\n",
      "step = 30000: loss = 3.028372049331665\n",
      "step = 30000: Average Return = 137.24\n",
      "step = 31000: loss = 3.167572498321533\n",
      "step = 32000: loss = 3.091526985168457\n",
      "step = 33000: loss = 3.125584125518799\n",
      "step = 34000: loss = 3.252720355987549\n",
      "step = 35000: loss = 3.182170867919922\n",
      "step = 36000: loss = 3.113597869873047\n",
      "step = 36000: Average Return = -284.33\n",
      "step = 37000: loss = 3.0989127159118652\n",
      "step = 38000: loss = 2.9753034114837646\n",
      "step = 39000: loss = 3.397056818008423\n",
      "step = 40000: loss = 3.249178886413574\n",
      "step = 41000: loss = 3.254913806915283\n",
      "step = 42000: loss = 3.278064250946045\n",
      "step = 42000: Average Return = -183.96\n",
      "step = 43000: loss = 3.305678367614746\n",
      "step = 44000: loss = 2.9442906379699707\n",
      "step = 45000: loss = 3.1052663326263428\n",
      "step = 46000: loss = 3.1551079750061035\n",
      "step = 47000: loss = 3.1635231971740723\n",
      "step = 48000: loss = 3.3037331104278564\n",
      "step = 48000: Average Return = -29.22\n",
      "step = 49000: loss = 2.9642512798309326\n",
      "step = 50000: loss = 3.0702195167541504\n",
      "step = 51000: loss = 2.9796063899993896\n",
      "step = 52000: loss = 3.2025094032287598\n",
      "step = 53000: loss = 3.1504344940185547\n",
      "step = 54000: loss = 3.285957098007202\n",
      "step = 54000: Average Return = -231.87\n",
      "step = 55000: loss = 2.9271936416625977\n",
      "step = 56000: loss = 3.0911219120025635\n",
      "step = 57000: loss = 3.1044704914093018\n",
      "step = 58000: loss = 2.794945240020752\n",
      "step = 59000: loss = 3.1471805572509766\n",
      "step = 60000: loss = 2.885007381439209\n",
      "step = 60000: Average Return = -55.02\n",
      "step = 61000: loss = 3.2001852989196777\n",
      "step = 62000: loss = 2.8854188919067383\n",
      "step = 63000: loss = 2.871511459350586\n",
      "step = 64000: loss = 3.1052279472351074\n",
      "step = 65000: loss = 2.928647041320801\n",
      "step = 66000: loss = 3.0966451168060303\n",
      "step = 66000: Average Return = -286.60\n",
      "step = 67000: loss = 2.7851247787475586\n",
      "step = 68000: loss = 2.729184627532959\n",
      "step = 69000: loss = 2.809863328933716\n",
      "step = 70000: loss = 2.8891425132751465\n",
      "step = 71000: loss = 2.795771598815918\n",
      "step = 72000: loss = 2.758286476135254\n",
      "step = 72000: Average Return = 52.92\n",
      "step = 73000: loss = 2.947284698486328\n",
      "step = 74000: loss = 2.749013900756836\n",
      "step = 75000: loss = 2.6787338256835938\n",
      "step = 76000: loss = 2.6618385314941406\n",
      "step = 77000: loss = 2.904539108276367\n",
      "step = 78000: loss = 3.0821685791015625\n",
      "step = 78000: Average Return = 69.65\n",
      "step = 79000: loss = 2.8494491577148438\n",
      "step = 80000: loss = 2.7965893745422363\n",
      "step = 81000: loss = 2.8905701637268066\n",
      "step = 82000: loss = 2.8723225593566895\n",
      "step = 83000: loss = 2.5544559955596924\n",
      "step = 84000: loss = 2.9050145149230957\n",
      "step = 84000: Average Return = -380.76\n",
      "step = 85000: loss = 2.841926097869873\n",
      "step = 86000: loss = 2.779866933822632\n",
      "step = 87000: loss = 2.649855136871338\n",
      "step = 88000: loss = 3.1571078300476074\n",
      "step = 89000: loss = 2.6018710136413574\n",
      "step = 90000: loss = 2.7885854244232178\n",
      "step = 90000: Average Return = -80.83\n",
      "step = 91000: loss = 2.673555374145508\n",
      "step = 92000: loss = 2.4612960815429688\n",
      "step = 93000: loss = 2.4879674911499023\n",
      "step = 94000: loss = 2.993889808654785\n",
      "step = 95000: loss = 2.4236016273498535\n",
      "step = 96000: loss = 2.8034768104553223\n",
      "step = 96000: Average Return = -37.46\n",
      "step = 97000: loss = 2.6440303325653076\n",
      "step = 98000: loss = 2.4206714630126953\n",
      "step = 99000: loss = 2.5904736518859863\n",
      "step = 100000: loss = 2.939729690551758\n",
      "step = 101000: loss = 2.744166851043701\n",
      "step = 102000: loss = 2.686582565307617\n",
      "step = 102000: Average Return = -120.20\n",
      "step = 103000: loss = 2.6789114475250244\n",
      "step = 104000: loss = 2.450296401977539\n",
      "step = 105000: loss = 2.8178653717041016\n",
      "step = 106000: loss = 2.6636641025543213\n",
      "step = 107000: loss = 2.6948630809783936\n",
      "step = 108000: loss = 2.6829323768615723\n",
      "step = 108000: Average Return = -223.82\n",
      "step = 109000: loss = 2.692750930786133\n",
      "step = 110000: loss = 2.713075637817383\n",
      "step = 111000: loss = 2.694296360015869\n",
      "step = 112000: loss = 2.4339919090270996\n",
      "step = 113000: loss = 2.4943737983703613\n",
      "step = 114000: loss = 2.6405482292175293\n",
      "step = 114000: Average Return = -78.01\n",
      "step = 115000: loss = 2.5188612937927246\n",
      "step = 116000: loss = 2.5612235069274902\n",
      "step = 117000: loss = 2.787173271179199\n",
      "step = 118000: loss = 2.555234909057617\n",
      "step = 119000: loss = 2.6545262336730957\n",
      "step = 120000: loss = 2.621222496032715\n",
      "step = 120000: Average Return = -25.98\n",
      "step = 121000: loss = 2.5806851387023926\n",
      "step = 122000: loss = 2.386763334274292\n",
      "step = 123000: loss = 2.675793409347534\n",
      "step = 124000: loss = 2.602895736694336\n",
      "step = 125000: loss = 2.581442356109619\n",
      "step = 126000: loss = 2.629244327545166\n",
      "step = 126000: Average Return = -194.43\n",
      "step = 127000: loss = 2.4810879230499268\n",
      "step = 128000: loss = 2.236539363861084\n",
      "step = 129000: loss = 2.4334444999694824\n",
      "step = 130000: loss = 2.4109690189361572\n",
      "step = 131000: loss = 2.438694477081299\n",
      "step = 132000: loss = 2.2582290172576904\n",
      "step = 132000: Average Return = -276.47\n",
      "step = 133000: loss = 2.5142288208007812\n",
      "step = 134000: loss = 2.4089550971984863\n",
      "step = 135000: loss = 2.2732083797454834\n",
      "step = 136000: loss = 2.3711719512939453\n",
      "step = 137000: loss = 2.193143367767334\n",
      "step = 138000: loss = 2.4961419105529785\n",
      "step = 138000: Average Return = 22.84\n",
      "step = 139000: loss = 2.1228723526000977\n",
      "step = 140000: loss = 2.477072238922119\n",
      "step = 141000: loss = 2.560382843017578\n",
      "step = 142000: loss = 2.157458782196045\n",
      "step = 143000: loss = 2.309007406234741\n",
      "step = 144000: loss = 2.600572347640991\n",
      "step = 144000: Average Return = -38.03\n",
      "step = 145000: loss = 2.5426950454711914\n",
      "step = 146000: loss = 2.218294143676758\n",
      "step = 147000: loss = 2.3566157817840576\n",
      "step = 148000: loss = 2.130186080932617\n",
      "step = 149000: loss = 2.2581253051757812\n",
      "step = 150000: loss = 2.3717479705810547\n",
      "step = 150000: Average Return = -43.55\n",
      "step = 151000: loss = 2.244689464569092\n",
      "step = 152000: loss = 2.2317333221435547\n",
      "step = 153000: loss = 2.2190558910369873\n",
      "step = 154000: loss = 2.0189507007598877\n"
     ]
    }
   ],
   "source": [
    "#@test {\"skip\": true}\n",
    "try:\n",
    "  %%time\n",
    "except:\n",
    "  pass\n",
    "\n",
    "# (Optional) Optimize by wrapping some of the code in a graph using TF function.\n",
    "agent.train = common.function(agent.train)\n",
    "\n",
    "# Reset the train step\n",
    "agent.train_step_counter.assign(0)\n",
    "\n",
    "# Evaluate the agent's policy once before training.\n",
    "avg_return = compute_avg_return(eval_env, agent.policy, num_eval_episodes)\n",
    "returns = [avg_return]\n",
    "\n",
    "for _ in range(num_iterations):\n",
    "\n",
    "  # Collect a few steps using collect_policy and save to the replay buffer.\n",
    "  for _ in range(collect_steps_per_iteration):\n",
    "    collect_step(train_env, agent.collect_policy)\n",
    "\n",
    "  # Sample a batch of data from the buffer and update the agent's network.\n",
    "  experience, unused_info = next(iterator)\n",
    "  train_loss = agent.train(experience)\n",
    "\n",
    "  step = agent.train_step_counter.numpy()\n",
    "\n",
    "  if step % log_interval == 0:\n",
    "    print('step = {0}: loss = {1}'.format(step, train_loss.loss))\n",
    "\n",
    "  if step % eval_interval == 0:\n",
    "    avg_return = compute_avg_return(eval_env, agent.policy, num_eval_episodes)\n",
    "    print('step = {0}: Average Return = {1:.2f}'.format(step, avg_return))\n",
    "    returns.append(avg_return)"
   ]
  },
  {
   "cell_type": "markdown",
   "metadata": {
    "id": "68jNcA_TiJDq"
   },
   "source": [
    "## Visualization\n"
   ]
  },
  {
   "cell_type": "markdown",
   "metadata": {
    "id": "aO-LWCdbbOIC"
   },
   "source": [
    "### Plots\n",
    "\n",
    "We can plot return vs global steps to see the performance of our agent. In `Cartpole-v1`, the environment gives a reward of +1 for every time step the pole stays up, and since the maximum number of steps is 500, the maximum possible return is also 500."
   ]
  },
  {
   "cell_type": "code",
   "execution_count": null,
   "metadata": {
    "id": "NxtL1mbOYCVO"
   },
   "outputs": [],
   "source": [
    "#@test {\"skip\": true}\n",
    "\n",
    "steps = range(0, num_iterations + 1, eval_interval)\n",
    "plt.plot(steps, returns)\n",
    "plt.ylabel('Average Return')\n",
    "plt.xlabel('Step')\n",
    "plt.ylim(top=50)"
   ]
  },
  {
   "cell_type": "markdown",
   "metadata": {
    "id": "M7-XpPP99Cy7"
   },
   "source": [
    "### Videos"
   ]
  },
  {
   "cell_type": "markdown",
   "metadata": {
    "id": "9pGfGxSH32gn"
   },
   "source": [
    "It is helpful to visualize the performance of an agent by rendering the environment at each step. Before we do that, let us first create a function to embed videos in this colab."
   ]
  },
  {
   "cell_type": "code",
   "execution_count": null,
   "metadata": {
    "id": "ULaGr8pvOKbl"
   },
   "outputs": [],
   "source": [
    "\n",
    "def render_policy_eval(policy, filename):\n",
    "    time_step = eval_env.reset()\n",
    "    while not time_step.is_last():\n",
    "        action_step = policy.action(time_step)\n",
    "        time_step = eval_env.step(action_step.action)\n",
    "    eval_py_env.render('human')\n",
    "    plt.savefig(filename)\n",
    "\n",
    "render_policy_eval(agent.policy, \"trained-agent\")"
   ]
  },
  {
   "cell_type": "markdown",
   "metadata": {
    "id": "9c_PH-pX4Pr5"
   },
   "source": [
    "The following code visualizes the agent's policy for a few episodes:"
   ]
  },
  {
   "cell_type": "code",
   "execution_count": null,
   "metadata": {
    "id": "owOVWB158NlF"
   },
   "outputs": [],
   "source": [
    "render_policy_eval(random_policy, \"random-agent\")"
   ]
  },
  {
   "cell_type": "markdown",
   "metadata": {
    "id": "exziB27hY8ia"
   },
   "source": [
    "C51 tends to do slightly better than DQN on CartPole-v1, but the difference between the two agents becomes more and more significant in increasingly complex environments. For example, on the full Atari 2600 benchmark, C51 demonstrates a mean score improvement of 126% over DQN after normalizing with respect to a random agent. Additional improvements can be gained by including n-step updates.\n",
    "\n",
    "For a deeper dive into the C51 algorithm, see [A Distributional Perspective on Reinforcement Learning (2017)](https://arxiv.org/pdf/1707.06887.pdf)."
   ]
  }
 ],
 "metadata": {
  "colab": {
   "collapsed_sections": [],
   "name": "DQN C51/Rainbow Tutorial.ipynb",
   "private_outputs": true,
   "provenance": [],
   "toc_visible": true
  },
  "kernelspec": {
   "display_name": "Python 3 (ipykernel)",
   "language": "python",
   "name": "python3"
  },
  "language_info": {
   "codemirror_mode": {
    "name": "ipython",
    "version": 3
   },
   "file_extension": ".py",
   "mimetype": "text/x-python",
   "name": "python",
   "nbconvert_exporter": "python",
   "pygments_lexer": "ipython3",
   "version": "3.11.5"
  },
  "pycharm": {
   "stem_cell": {
    "cell_type": "raw",
    "metadata": {
     "collapsed": false
    },
    "source": []
   }
  }
 },
 "nbformat": 4,
 "nbformat_minor": 4
}
