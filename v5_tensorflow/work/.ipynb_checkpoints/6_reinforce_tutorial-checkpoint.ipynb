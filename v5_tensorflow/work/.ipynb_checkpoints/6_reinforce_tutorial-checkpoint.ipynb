{
 "cells": [
  {
   "cell_type": "markdown",
   "metadata": {
    "id": "klGNgWREsvQv"
   },
   "source": [
    "##### Copyright 2023 The TF-Agents Authors."
   ]
  },
  {
   "cell_type": "code",
   "execution_count": 1,
   "metadata": {
    "cellView": "form",
    "id": "nQnmcm0oI1Q-"
   },
   "outputs": [],
   "source": [
    "#@title Licensed under the Apache License, Version 2.0 (the \"License\");\n",
    "# you may not use this file except in compliance with the License.\n",
    "# You may obtain a copy of the License at\n",
    "#\n",
    "# https://www.apache.org/licenses/LICENSE-2.0\n",
    "#\n",
    "# Unless required by applicable law or agreed to in writing, software\n",
    "# distributed under the License is distributed on an \"AS IS\" BASIS,\n",
    "# WITHOUT WARRANTIES OR CONDITIONS OF ANY KIND, either express or implied.\n",
    "# See the License for the specific language governing permissions and\n",
    "# limitations under the License."
   ]
  },
  {
   "cell_type": "markdown",
   "metadata": {
    "id": "HNtBC6Bbb1YU"
   },
   "source": [
    "# REINFORCE agent\n",
    "\n",
    "<table class=\"tfo-notebook-buttons\" align=\"left\">\n",
    "  <td>\n",
    "    <a target=\"_blank\" href=\"https://www.tensorflow.org/agents/tutorials/6_reinforce_tutorial\">\n",
    "    <img src=\"https://www.tensorflow.org/images/tf_logo_32px.png\" />\n",
    "    View on TensorFlow.org</a>\n",
    "  </td>\n",
    "  <td>\n",
    "    <a target=\"_blank\" href=\"https://colab.research.google.com/github/tensorflow/agents/blob/master/docs/tutorials/6_reinforce_tutorial.ipynb\">\n",
    "    <img src=\"https://www.tensorflow.org/images/colab_logo_32px.png\" />\n",
    "    Run in Google Colab</a>\n",
    "  </td>\n",
    "  <td>\n",
    "    <a target=\"_blank\" href=\"https://github.com/tensorflow/agents/blob/master/docs/tutorials/6_reinforce_tutorial.ipynb\">\n",
    "    <img src=\"https://www.tensorflow.org/images/GitHub-Mark-32px.png\" />\n",
    "    View source on GitHub</a>\n",
    "  </td>\n",
    "  <td>\n",
    "    <a href=\"https://storage.googleapis.com/tensorflow_docs/agents/docs/tutorials/6_reinforce_tutorial.ipynb\"><img src=\"https://www.tensorflow.org/images/download_logo_32px.png\" />Download notebook</a>\n",
    "  </td>\n",
    "</table>"
   ]
  },
  {
   "cell_type": "markdown",
   "metadata": {
    "id": "ZOUOQOrFs3zn"
   },
   "source": [
    "## Introduction"
   ]
  },
  {
   "cell_type": "markdown",
   "metadata": {
    "id": "cKOCZlhUgXVK"
   },
   "source": [
    "This example shows how to train a [REINFORCE](https://www-anw.cs.umass.edu/~barto/courses/cs687/williams92simple.pdf) agent on the Cartpole environment using the TF-Agents library, similar to the [DQN tutorial](1_dqn_tutorial.ipynb).\n",
    "\n",
    "![Cartpole environment](images/cartpole.png)\n",
    "\n",
    "We will walk you through all the components in a Reinforcement Learning (RL) pipeline for training, evaluation and data collection.\n"
   ]
  },
  {
   "cell_type": "markdown",
   "metadata": {
    "id": "1u9QVVsShC9X"
   },
   "source": [
    "## Setup"
   ]
  },
  {
   "cell_type": "markdown",
   "metadata": {
    "id": "I5PNmEzIb9t4"
   },
   "source": [
    "If you haven't installed the following dependencies, run:"
   ]
  },
  {
   "cell_type": "code",
   "execution_count": 2,
   "metadata": {
    "id": "KEHR2Ui-lo8O"
   },
   "outputs": [
    {
     "name": "stdout",
     "output_type": "stream",
     "text": [
      "Hit:1 http://security.ubuntu.com/ubuntu jammy-security InRelease\n",
      "Hit:2 http://archive.ubuntu.com/ubuntu jammy InRelease\n",
      "Hit:3 http://archive.ubuntu.com/ubuntu jammy-updates InRelease\n",
      "Hit:4 http://archive.ubuntu.com/ubuntu jammy-backports InRelease\n",
      "Reading package lists... Done\n",
      "Reading package lists... Done\n",
      "Building dependency tree... Done\n",
      "Reading state information... Done\n",
      "freeglut3-dev is already the newest version (2.8.1-6).\n",
      "ffmpeg is already the newest version (7:4.4.2-0ubuntu0.22.04.1).\n",
      "xvfb is already the newest version (2:21.1.4-2ubuntu1.7~22.04.1).\n",
      "0 upgraded, 0 newly installed, 0 to remove and 9 not upgraded.\n",
      "Requirement already satisfied: imageio==2.4.0 in /opt/conda/lib/python3.11/site-packages (2.4.0)\n",
      "Requirement already satisfied: numpy in /opt/conda/lib/python3.11/site-packages (from imageio==2.4.0) (1.24.3)\n",
      "Requirement already satisfied: pillow in /opt/conda/lib/python3.11/site-packages (from imageio==2.4.0) (10.0.0)\n",
      "Requirement already satisfied: pyvirtualdisplay in /opt/conda/lib/python3.11/site-packages (3.0)\n",
      "Requirement already satisfied: tf-agents[reverb] in /opt/conda/lib/python3.11/site-packages (0.17.0)\n",
      "Requirement already satisfied: absl-py>=0.6.1 in /opt/conda/lib/python3.11/site-packages (from tf-agents[reverb]) (1.4.0)\n",
      "Requirement already satisfied: cloudpickle>=1.3 in /opt/conda/lib/python3.11/site-packages (from tf-agents[reverb]) (2.2.1)\n",
      "Requirement already satisfied: gin-config>=0.4.0 in /opt/conda/lib/python3.11/site-packages (from tf-agents[reverb]) (0.5.0)\n",
      "Requirement already satisfied: gym<=0.23.0,>=0.17.0 in /opt/conda/lib/python3.11/site-packages (from tf-agents[reverb]) (0.23.0)\n",
      "Requirement already satisfied: numpy>=1.19.0 in /opt/conda/lib/python3.11/site-packages (from tf-agents[reverb]) (1.24.3)\n",
      "Requirement already satisfied: pillow in /opt/conda/lib/python3.11/site-packages (from tf-agents[reverb]) (10.0.0)\n",
      "Requirement already satisfied: six>=1.10.0 in /opt/conda/lib/python3.11/site-packages (from tf-agents[reverb]) (1.16.0)\n",
      "Requirement already satisfied: protobuf>=3.11.3 in /opt/conda/lib/python3.11/site-packages (from tf-agents[reverb]) (4.23.3)\n",
      "Requirement already satisfied: wrapt>=1.11.1 in /opt/conda/lib/python3.11/site-packages (from tf-agents[reverb]) (1.15.0)\n",
      "Requirement already satisfied: typing-extensions<4.6.0,>=3.7.4.3 in /opt/conda/lib/python3.11/site-packages (from tf-agents[reverb]) (4.5.0)\n",
      "Requirement already satisfied: pygame==2.1.3 in /opt/conda/lib/python3.11/site-packages (from tf-agents[reverb]) (2.1.3)\n",
      "Requirement already satisfied: tensorflow-probability~=0.20.1 in /opt/conda/lib/python3.11/site-packages (from tf-agents[reverb]) (0.20.1)\n",
      "Requirement already satisfied: rlds in /opt/conda/lib/python3.11/site-packages (from tf-agents[reverb]) (0.1.8)\n",
      "Requirement already satisfied: dm-reverb~=0.12.0 in /opt/conda/lib/python3.11/site-packages (from tf-agents[reverb]) (0.12.0)\n",
      "Requirement already satisfied: tensorflow~=2.13.0 in /opt/conda/lib/python3.11/site-packages (from tf-agents[reverb]) (2.13.0)\n",
      "Requirement already satisfied: dm-tree in /opt/conda/lib/python3.11/site-packages (from dm-reverb~=0.12.0->tf-agents[reverb]) (0.1.8)\n",
      "Requirement already satisfied: portpicker in /opt/conda/lib/python3.11/site-packages (from dm-reverb~=0.12.0->tf-agents[reverb]) (1.6.0)\n",
      "Requirement already satisfied: gym-notices>=0.0.4 in /opt/conda/lib/python3.11/site-packages (from gym<=0.23.0,>=0.17.0->tf-agents[reverb]) (0.0.8)\n",
      "Requirement already satisfied: astunparse>=1.6.0 in /opt/conda/lib/python3.11/site-packages (from tensorflow~=2.13.0->tf-agents[reverb]) (1.6.3)\n",
      "Requirement already satisfied: flatbuffers>=23.1.21 in /opt/conda/lib/python3.11/site-packages (from tensorflow~=2.13.0->tf-agents[reverb]) (23.5.26)\n",
      "Requirement already satisfied: gast<=0.4.0,>=0.2.1 in /opt/conda/lib/python3.11/site-packages (from tensorflow~=2.13.0->tf-agents[reverb]) (0.4.0)\n",
      "Requirement already satisfied: google-pasta>=0.1.1 in /opt/conda/lib/python3.11/site-packages (from tensorflow~=2.13.0->tf-agents[reverb]) (0.2.0)\n",
      "Requirement already satisfied: grpcio<2.0,>=1.24.3 in /opt/conda/lib/python3.11/site-packages (from tensorflow~=2.13.0->tf-agents[reverb]) (1.58.0)\n",
      "Requirement already satisfied: h5py>=2.9.0 in /opt/conda/lib/python3.11/site-packages (from tensorflow~=2.13.0->tf-agents[reverb]) (3.9.0)\n",
      "Requirement already satisfied: keras<2.14,>=2.13.1 in /opt/conda/lib/python3.11/site-packages (from tensorflow~=2.13.0->tf-agents[reverb]) (2.13.1)\n",
      "Requirement already satisfied: libclang>=13.0.0 in /opt/conda/lib/python3.11/site-packages (from tensorflow~=2.13.0->tf-agents[reverb]) (16.0.6)\n",
      "Requirement already satisfied: opt-einsum>=2.3.2 in /opt/conda/lib/python3.11/site-packages (from tensorflow~=2.13.0->tf-agents[reverb]) (3.3.0)\n",
      "Requirement already satisfied: packaging in /opt/conda/lib/python3.11/site-packages (from tensorflow~=2.13.0->tf-agents[reverb]) (23.1)\n",
      "Requirement already satisfied: setuptools in /opt/conda/lib/python3.11/site-packages (from tensorflow~=2.13.0->tf-agents[reverb]) (68.1.2)\n",
      "Requirement already satisfied: tensorboard<2.14,>=2.13 in /opt/conda/lib/python3.11/site-packages (from tensorflow~=2.13.0->tf-agents[reverb]) (2.13.0)\n",
      "Requirement already satisfied: tensorflow-estimator<2.14,>=2.13.0 in /opt/conda/lib/python3.11/site-packages (from tensorflow~=2.13.0->tf-agents[reverb]) (2.13.0)\n",
      "Requirement already satisfied: termcolor>=1.1.0 in /opt/conda/lib/python3.11/site-packages (from tensorflow~=2.13.0->tf-agents[reverb]) (2.3.0)\n",
      "Requirement already satisfied: tensorflow-io-gcs-filesystem>=0.23.1 in /opt/conda/lib/python3.11/site-packages (from tensorflow~=2.13.0->tf-agents[reverb]) (0.34.0)\n",
      "Requirement already satisfied: decorator in /opt/conda/lib/python3.11/site-packages (from tensorflow-probability~=0.20.1->tf-agents[reverb]) (5.1.1)\n",
      "Requirement already satisfied: wheel<1.0,>=0.23.0 in /opt/conda/lib/python3.11/site-packages (from astunparse>=1.6.0->tensorflow~=2.13.0->tf-agents[reverb]) (0.41.2)\n",
      "Requirement already satisfied: google-auth<3,>=1.6.3 in /opt/conda/lib/python3.11/site-packages (from tensorboard<2.14,>=2.13->tensorflow~=2.13.0->tf-agents[reverb]) (2.22.0)\n",
      "Requirement already satisfied: google-auth-oauthlib<1.1,>=0.5 in /opt/conda/lib/python3.11/site-packages (from tensorboard<2.14,>=2.13->tensorflow~=2.13.0->tf-agents[reverb]) (1.0.0)\n",
      "Requirement already satisfied: markdown>=2.6.8 in /opt/conda/lib/python3.11/site-packages (from tensorboard<2.14,>=2.13->tensorflow~=2.13.0->tf-agents[reverb]) (3.4.4)\n",
      "Requirement already satisfied: requests<3,>=2.21.0 in /opt/conda/lib/python3.11/site-packages (from tensorboard<2.14,>=2.13->tensorflow~=2.13.0->tf-agents[reverb]) (2.31.0)\n",
      "Requirement already satisfied: tensorboard-data-server<0.8.0,>=0.7.0 in /opt/conda/lib/python3.11/site-packages (from tensorboard<2.14,>=2.13->tensorflow~=2.13.0->tf-agents[reverb]) (0.7.1)\n",
      "Requirement already satisfied: werkzeug>=1.0.1 in /opt/conda/lib/python3.11/site-packages (from tensorboard<2.14,>=2.13->tensorflow~=2.13.0->tf-agents[reverb]) (2.3.7)\n",
      "Requirement already satisfied: psutil in /opt/conda/lib/python3.11/site-packages (from portpicker->dm-reverb~=0.12.0->tf-agents[reverb]) (5.9.5)\n",
      "Requirement already satisfied: cachetools<6.0,>=2.0.0 in /opt/conda/lib/python3.11/site-packages (from google-auth<3,>=1.6.3->tensorboard<2.14,>=2.13->tensorflow~=2.13.0->tf-agents[reverb]) (5.3.1)\n",
      "Requirement already satisfied: pyasn1-modules>=0.2.1 in /opt/conda/lib/python3.11/site-packages (from google-auth<3,>=1.6.3->tensorboard<2.14,>=2.13->tensorflow~=2.13.0->tf-agents[reverb]) (0.3.0)\n",
      "Requirement already satisfied: rsa<5,>=3.1.4 in /opt/conda/lib/python3.11/site-packages (from google-auth<3,>=1.6.3->tensorboard<2.14,>=2.13->tensorflow~=2.13.0->tf-agents[reverb]) (4.9)\n",
      "Requirement already satisfied: urllib3<2.0 in /opt/conda/lib/python3.11/site-packages (from google-auth<3,>=1.6.3->tensorboard<2.14,>=2.13->tensorflow~=2.13.0->tf-agents[reverb]) (1.26.16)\n",
      "Requirement already satisfied: requests-oauthlib>=0.7.0 in /opt/conda/lib/python3.11/site-packages (from google-auth-oauthlib<1.1,>=0.5->tensorboard<2.14,>=2.13->tensorflow~=2.13.0->tf-agents[reverb]) (1.3.1)\n",
      "Requirement already satisfied: charset-normalizer<4,>=2 in /opt/conda/lib/python3.11/site-packages (from requests<3,>=2.21.0->tensorboard<2.14,>=2.13->tensorflow~=2.13.0->tf-agents[reverb]) (3.2.0)\n",
      "Requirement already satisfied: idna<4,>=2.5 in /opt/conda/lib/python3.11/site-packages (from requests<3,>=2.21.0->tensorboard<2.14,>=2.13->tensorflow~=2.13.0->tf-agents[reverb]) (3.4)\n",
      "Requirement already satisfied: certifi>=2017.4.17 in /opt/conda/lib/python3.11/site-packages (from requests<3,>=2.21.0->tensorboard<2.14,>=2.13->tensorflow~=2.13.0->tf-agents[reverb]) (2023.7.22)\n",
      "Requirement already satisfied: MarkupSafe>=2.1.1 in /opt/conda/lib/python3.11/site-packages (from werkzeug>=1.0.1->tensorboard<2.14,>=2.13->tensorflow~=2.13.0->tf-agents[reverb]) (2.1.3)\n",
      "Requirement already satisfied: pyasn1<0.6.0,>=0.4.6 in /opt/conda/lib/python3.11/site-packages (from pyasn1-modules>=0.2.1->google-auth<3,>=1.6.3->tensorboard<2.14,>=2.13->tensorflow~=2.13.0->tf-agents[reverb]) (0.5.0)\n",
      "Requirement already satisfied: oauthlib>=3.0.0 in /opt/conda/lib/python3.11/site-packages (from requests-oauthlib>=0.7.0->google-auth-oauthlib<1.1,>=0.5->tensorboard<2.14,>=2.13->tensorflow~=2.13.0->tf-agents[reverb]) (3.2.2)\n",
      "Requirement already satisfied: pyglet in /opt/conda/lib/python3.11/site-packages (2.0.9)\n",
      "Requirement already satisfied: xvfbwrapper in /opt/conda/lib/python3.11/site-packages (0.2.9)\n"
     ]
    }
   ],
   "source": [
    "!sudo apt-get update\n",
    "!sudo apt-get install -y xvfb ffmpeg freeglut3-dev\n",
    "!pip install 'imageio==2.4.0'\n",
    "!pip install pyvirtualdisplay\n",
    "!pip install tf-agents[reverb]\n",
    "!pip install pyglet xvfbwrapper\n"
   ]
  },
  {
   "cell_type": "code",
   "execution_count": 3,
   "metadata": {
    "id": "sMitx5qSgJk1"
   },
   "outputs": [
    {
     "name": "stderr",
     "output_type": "stream",
     "text": [
      "2023-09-13 01:21:53.432822: I tensorflow/tsl/cuda/cudart_stub.cc:28] Could not find cuda drivers on your machine, GPU will not be used.\n",
      "2023-09-13 01:21:53.491465: I tensorflow/tsl/cuda/cudart_stub.cc:28] Could not find cuda drivers on your machine, GPU will not be used.\n",
      "2023-09-13 01:21:53.493043: I tensorflow/core/platform/cpu_feature_guard.cc:182] This TensorFlow binary is optimized to use available CPU instructions in performance-critical operations.\n",
      "To enable the following instructions: AVX2 FMA, in other operations, rebuild TensorFlow with the appropriate compiler flags.\n",
      "2023-09-13 01:21:55.126718: W tensorflow/compiler/tf2tensorrt/utils/py_utils.cc:38] TF-TRT Warning: Could not find TensorRT\n"
     ]
    }
   ],
   "source": [
    "from __future__ import absolute_import\n",
    "from __future__ import division\n",
    "from __future__ import print_function\n",
    "\n",
    "import base64\n",
    "import imageio\n",
    "import IPython\n",
    "import matplotlib.pyplot as plt\n",
    "import numpy as np\n",
    "import PIL.Image\n",
    "import pyvirtualdisplay\n",
    "import reverb\n",
    "\n",
    "import tensorflow as tf\n",
    "\n",
    "from tf_agents.agents.reinforce import reinforce_agent\n",
    "from tf_agents.drivers import py_driver\n",
    "from tf_agents.environments import suite_gym\n",
    "from tf_agents.environments import tf_py_environment\n",
    "from tf_agents.networks import actor_distribution_network\n",
    "from tf_agents.policies import py_tf_eager_policy\n",
    "from tf_agents.replay_buffers import reverb_replay_buffer\n",
    "from tf_agents.replay_buffers import reverb_utils\n",
    "from tf_agents.specs import tensor_spec\n",
    "from tf_agents.trajectories import trajectory\n",
    "from tf_agents.utils import common\n",
    "\n",
    "# Set up a virtual display for rendering OpenAI gym environments.\n",
    "display = pyvirtualdisplay.Display(visible=0, size=(1400, 900)).start()"
   ]
  },
  {
   "cell_type": "markdown",
   "metadata": {
    "id": "LmC0NDhdLIKY"
   },
   "source": [
    "## Hyperparameters"
   ]
  },
  {
   "cell_type": "code",
   "execution_count": 4,
   "metadata": {
    "id": "HC1kNrOsLSIZ"
   },
   "outputs": [],
   "source": [
    "env_name = \"CartPole-v0\" # @param {type:\"string\"}\n",
    "num_iterations = 500 # @param {type:\"integer\"}\n",
    "collect_episodes_per_iteration = 2 # @param {type:\"integer\"}\n",
    "replay_buffer_capacity = 2000 # @param {type:\"integer\"}\n",
    "\n",
    "fc_layer_params = (100,)\n",
    "\n",
    "learning_rate = 1e-3 # @param {type:\"number\"}\n",
    "log_interval = 25 # @param {type:\"integer\"}\n",
    "num_eval_episodes = 10 # @param {type:\"integer\"}\n",
    "eval_interval = 50 # @param {type:\"integer\"}"
   ]
  },
  {
   "cell_type": "markdown",
   "metadata": {
    "id": "VMsJC3DEgI0x"
   },
   "source": [
    "## Environment\n",
    "\n",
    "Environments in RL represent the task or problem that we are trying to solve. Standard environments can be easily created in TF-Agents using `suites`. We have different `suites` for loading environments from sources such as the OpenAI Gym, Atari, DM Control, etc., given a string environment name.\n",
    "\n",
    "Now let us load the CartPole environment from the OpenAI Gym suite."
   ]
  },
  {
   "cell_type": "code",
   "execution_count": 5,
   "metadata": {
    "id": "pYEz-S9gEv2-"
   },
   "outputs": [],
   "source": [
    "env = suite_gym.load(env_name)"
   ]
  },
  {
   "cell_type": "markdown",
   "metadata": {
    "id": "IIHYVBkuvPNw"
   },
   "source": [
    "We can render this environment to see how it looks. A free-swinging pole is attached to a cart.  The goal is to move the cart right or left in order to keep the pole pointing up."
   ]
  },
  {
   "cell_type": "code",
   "execution_count": 6,
   "metadata": {
    "id": "RlO7WIQHu_7D"
   },
   "outputs": [
    {
     "name": "stderr",
     "output_type": "stream",
     "text": [
      "ALSA lib confmisc.c:855:(parse_card) cannot find card '0'\n",
      "ALSA lib conf.c:5178:(_snd_config_evaluate) function snd_func_card_inum returned error: No such file or directory\n",
      "ALSA lib confmisc.c:422:(snd_func_concat) error evaluating strings\n",
      "ALSA lib conf.c:5178:(_snd_config_evaluate) function snd_func_concat returned error: No such file or directory\n",
      "ALSA lib confmisc.c:1334:(snd_func_refer) error evaluating name\n",
      "ALSA lib conf.c:5178:(_snd_config_evaluate) function snd_func_refer returned error: No such file or directory\n",
      "ALSA lib conf.c:5701:(snd_config_expand) Evaluate error: No such file or directory\n",
      "ALSA lib pcm.c:2664:(snd_pcm_open_noupdate) Unknown PCM default\n"
     ]
    },
    {
     "data": {
      "image/jpeg": "[encoded data removed]",
      "image/png": "[encoded data removed]",
      "text/plain": [
       "<PIL.Image.Image image mode=RGB size=600x400>"
      ]
     },
     "execution_count": 6,
     "metadata": {},
     "output_type": "execute_result"
    }
   ],
   "source": [
    "#@test {\"skip\": true}\n",
    "env.reset()\n",
    "PIL.Image.fromarray(env.render())"
   ]
  },
  {
   "cell_type": "markdown",
   "metadata": {
    "id": "B9_lskPOey18"
   },
   "source": [
    "The `time_step = environment.step(action)` statement takes `action` in the environment.  The `TimeStep` tuple returned contains the environment's next observation and reward for that action. The `time_step_spec()` and `action_spec()` methods in the environment return the specifications (types, shapes, bounds) of the `time_step` and `action` respectively."
   ]
  },
  {
   "cell_type": "code",
   "execution_count": 7,
   "metadata": {
    "id": "exDv57iHfwQV"
   },
   "outputs": [
    {
     "name": "stdout",
     "output_type": "stream",
     "text": [
      "Observation Spec:\n",
      "BoundedArraySpec(shape=(4,), dtype=dtype('float32'), name='observation', minimum=[-4.8000002e+00 -3.4028235e+38 -4.1887903e-01 -3.4028235e+38], maximum=[4.8000002e+00 3.4028235e+38 4.1887903e-01 3.4028235e+38])\n",
      "Action Spec:\n",
      "BoundedArraySpec(shape=(), dtype=dtype('int64'), name='action', minimum=0, maximum=1)\n"
     ]
    }
   ],
   "source": [
    "print('Observation Spec:')\n",
    "print(env.time_step_spec().observation)\n",
    "print('Action Spec:')\n",
    "print(env.action_spec())"
   ]
  },
  {
   "cell_type": "markdown",
   "metadata": {
    "id": "eJCgJnx3g0yY"
   },
   "source": [
    "So, we see that observation is an array of 4 floats: the position and velocity of the cart, and the angular position and velocity of the pole. Since only two actions are possible (move left or move right), the `action_spec` is a scalar where 0 means \"move left\" and 1 means \"move right.\""
   ]
  },
  {
   "cell_type": "code",
   "execution_count": 8,
   "metadata": {
    "id": "V2UGR5t_iZX-"
   },
   "outputs": [
    {
     "name": "stdout",
     "output_type": "stream",
     "text": [
      "Time step:\n",
      "TimeStep(\n",
      "{'discount': array(1., dtype=float32),\n",
      " 'observation': array([ 0.04248409,  0.01073463,  0.03054363, -0.03121146], dtype=float32),\n",
      " 'reward': array(0., dtype=float32),\n",
      " 'step_type': array(0, dtype=int32)})\n",
      "Next time step:\n",
      "TimeStep(\n",
      "{'discount': array(1., dtype=float32),\n",
      " 'observation': array([ 0.04269879,  0.20540556,  0.0299194 , -0.31410322], dtype=float32),\n",
      " 'reward': array(1., dtype=float32),\n",
      " 'step_type': array(1, dtype=int32)})\n"
     ]
    }
   ],
   "source": [
    "time_step = env.reset()\n",
    "print('Time step:')\n",
    "print(time_step)\n",
    "\n",
    "action = np.array(1, dtype=np.int32)\n",
    "\n",
    "next_time_step = env.step(action)\n",
    "print('Next time step:')\n",
    "print(next_time_step)"
   ]
  },
  {
   "cell_type": "markdown",
   "metadata": {
    "id": "zuUqXAVmecTU"
   },
   "source": [
    "Usually we create two environments: one for training and one for evaluation. Most environments are written in pure python, but they can be easily converted to TensorFlow using the `TFPyEnvironment` wrapper. The original environment's API uses numpy arrays, the `TFPyEnvironment` converts these to/from `Tensors` for you to more easily interact with TensorFlow policies and agents.\n"
   ]
  },
  {
   "cell_type": "code",
   "execution_count": 9,
   "metadata": {
    "id": "Xp-Y4mD6eDhF"
   },
   "outputs": [],
   "source": [
    "train_py_env = suite_gym.load(env_name)\n",
    "eval_py_env = suite_gym.load(env_name)\n",
    "\n",
    "train_env = tf_py_environment.TFPyEnvironment(train_py_env)\n",
    "eval_env = tf_py_environment.TFPyEnvironment(eval_py_env)"
   ]
  },
  {
   "cell_type": "markdown",
   "metadata": {
    "id": "E9lW_OZYFR8A"
   },
   "source": [
    "## Agent\n",
    "\n",
    "The algorithm that we use to solve an RL problem is represented as an `Agent`. In addition to the REINFORCE agent, TF-Agents provides standard implementations of a variety of `Agents` such as [DQN](https://storage.googleapis.com/deepmind-media/dqn/DQNNaturePaper.pdf), [DDPG](https://arxiv.org/pdf/1509.02971.pdf), [TD3](https://arxiv.org/pdf/1802.09477.pdf), [PPO](https://arxiv.org/abs/1707.06347) and [SAC](https://arxiv.org/abs/1801.01290).\n",
    "\n",
    "To create a REINFORCE Agent, we first need an `Actor Network` that can learn to predict the action given an observation from the environment.\n",
    "\n",
    "We can easily create an `Actor Network` using the specs of the observations and actions. We can specify the layers in the network which, in this example, is the `fc_layer_params` argument set to a tuple of `ints` representing the sizes of each hidden layer (see the Hyperparameters section above).\n"
   ]
  },
  {
   "cell_type": "code",
   "execution_count": 10,
   "metadata": {
    "id": "TgkdEPg_muzV"
   },
   "outputs": [],
   "source": [
    "actor_net = actor_distribution_network.ActorDistributionNetwork(\n",
    "    train_env.observation_spec(),\n",
    "    train_env.action_spec(),\n",
    "    fc_layer_params=fc_layer_params)"
   ]
  },
  {
   "cell_type": "markdown",
   "metadata": {
    "id": "z62u55hSmviJ"
   },
   "source": [
    "We also need an `optimizer` to train the network we just created, and a `train_step_counter` variable to keep track of how many times the network was updated.\n"
   ]
  },
  {
   "cell_type": "code",
   "execution_count": 11,
   "metadata": {
    "id": "jbY4yrjTEyc9"
   },
   "outputs": [],
   "source": [
    "optimizer = tf.keras.optimizers.Adam(learning_rate=learning_rate)\n",
    "\n",
    "train_step_counter = tf.Variable(0)\n",
    "\n",
    "tf_agent = reinforce_agent.ReinforceAgent(\n",
    "    train_env.time_step_spec(),\n",
    "    train_env.action_spec(),\n",
    "    actor_network=actor_net,\n",
    "    optimizer=optimizer,\n",
    "    normalize_returns=True,\n",
    "    train_step_counter=train_step_counter)\n",
    "tf_agent.initialize()"
   ]
  },
  {
   "cell_type": "markdown",
   "metadata": {
    "id": "I0KLrEPwkn5x"
   },
   "source": [
    "## Policies\n",
    "\n",
    "In TF-Agents, policies represent the standard notion of policies in RL: given a `time_step` produce an action or a distribution over actions. The main method is `policy_step = policy.action(time_step)` where `policy_step` is a named tuple `PolicyStep(action, state, info)`.  The `policy_step.action` is the `action` to be applied to the environment, `state` represents the state for stateful (RNN) policies and `info` may contain auxiliary information such as log probabilities of the actions.\n",
    "\n",
    "Agents contain two policies: the main policy that is used for evaluation/deployment (agent.policy) and another policy that is used for data collection (agent.collect_policy)."
   ]
  },
  {
   "cell_type": "code",
   "execution_count": 12,
   "metadata": {
    "id": "BwY7StuMkuV4"
   },
   "outputs": [],
   "source": [
    "eval_policy = tf_agent.policy\n",
    "collect_policy = tf_agent.collect_policy"
   ]
  },
  {
   "cell_type": "markdown",
   "metadata": {
    "id": "94rCXQtbUbXv"
   },
   "source": [
    "## Metrics and Evaluation\n",
    "\n",
    "The most common metric used to evaluate a policy is the average return. The return is the sum of rewards obtained while running a policy in an environment for an episode, and we usually average this over a few episodes. We can compute the average return metric as follows.\n"
   ]
  },
  {
   "cell_type": "code",
   "execution_count": 13,
   "metadata": {
    "id": "bitzHo5_UbXy"
   },
   "outputs": [],
   "source": [
    "#@test {\"skip\": true}\n",
    "def compute_avg_return(environment, policy, num_episodes=10):\n",
    "\n",
    "  total_return = 0.0\n",
    "  for _ in range(num_episodes):\n",
    "\n",
    "    time_step = environment.reset()\n",
    "    episode_return = 0.0\n",
    "\n",
    "    while not time_step.is_last():\n",
    "      action_step = policy.action(time_step)\n",
    "      time_step = environment.step(action_step.action)\n",
    "      episode_return += time_step.reward\n",
    "    total_return += episode_return\n",
    "\n",
    "  avg_return = total_return / num_episodes\n",
    "  return avg_return.numpy()[0]\n",
    "\n",
    "\n",
    "# Please also see the metrics module for standard implementations of different\n",
    "# metrics."
   ]
  },
  {
   "cell_type": "markdown",
   "metadata": {
    "id": "NLva6g2jdWgr"
   },
   "source": [
    "## Replay Buffer\n",
    "\n",
    "In order to keep track of the data collected from the environment, we will use [Reverb](https://deepmind.com/research/open-source/Reverb), an efficient, extensible, and easy-to-use replay system by Deepmind. It stores experience data when we collect trajectories and is consumed during training.\n",
    "\n",
    "This replay buffer is constructed using specs describing the tensors that are to be stored, which can be obtained from the agent using `tf_agent.collect_data_spec`."
   ]
  },
  {
   "cell_type": "code",
   "execution_count": 14,
   "metadata": {
    "id": "vX2zGUWJGWAl"
   },
   "outputs": [
    {
     "name": "stderr",
     "output_type": "stream",
     "text": [
      "[reverb/cc/platform/tfrecord_checkpointer.cc:162]  Initializing TFRecordCheckpointer in /tmp/tmpxdji7asx.\n",
      "[reverb/cc/platform/tfrecord_checkpointer.cc:567] Loading latest checkpoint from /tmp/tmpxdji7asx\n",
      "[reverb/cc/platform/default/server.cc:71] Started replay server on port 33523\n"
     ]
    }
   ],
   "source": [
    "table_name = 'uniform_table'\n",
    "replay_buffer_signature = tensor_spec.from_spec(\n",
    "      tf_agent.collect_data_spec)\n",
    "replay_buffer_signature = tensor_spec.add_outer_dim(\n",
    "      replay_buffer_signature)\n",
    "table = reverb.Table(\n",
    "    table_name,\n",
    "    max_size=replay_buffer_capacity,\n",
    "    sampler=reverb.selectors.Uniform(),\n",
    "    remover=reverb.selectors.Fifo(),\n",
    "    rate_limiter=reverb.rate_limiters.MinSize(1),\n",
    "    signature=replay_buffer_signature)\n",
    "\n",
    "reverb_server = reverb.Server([table])\n",
    "\n",
    "replay_buffer = reverb_replay_buffer.ReverbReplayBuffer(\n",
    "    tf_agent.collect_data_spec,\n",
    "    table_name=table_name,\n",
    "    sequence_length=None,\n",
    "    local_server=reverb_server)\n",
    "\n",
    "rb_observer = reverb_utils.ReverbAddEpisodeObserver(\n",
    "    replay_buffer.py_client,\n",
    "    table_name,\n",
    "    replay_buffer_capacity\n",
    ")"
   ]
  },
  {
   "cell_type": "markdown",
   "metadata": {
    "id": "ZGNTDJpZs4NN"
   },
   "source": [
    "For most agents, the `collect_data_spec` is a `Trajectory` named tuple containing the observation, action, reward etc."
   ]
  },
  {
   "cell_type": "markdown",
   "metadata": {
    "id": "rVD5nQ9ZGo8_"
   },
   "source": [
    "## Data Collection\n",
    "\n",
    "As REINFORCE learns from whole episodes, we define a function to collect an episode using the given data collection policy and save the data (observations, actions, rewards etc.) as trajectories in the replay buffer. Here we are using 'PyDriver' to run the experience collecting loop. You can learn more about TF Agents driver in our [drivers tutorial](https://www.tensorflow.org/agents/tutorials/4_drivers_tutorial)."
   ]
  },
  {
   "cell_type": "code",
   "execution_count": 15,
   "metadata": {
    "id": "wr1KSAEGG4h9"
   },
   "outputs": [],
   "source": [
    "#@test {\"skip\": true}\n",
    "\n",
    "def collect_episode(environment, policy, num_episodes):\n",
    "\n",
    "  driver = py_driver.PyDriver(\n",
    "    environment,\n",
    "    py_tf_eager_policy.PyTFEagerPolicy(\n",
    "      policy, use_tf_function=True),\n",
    "    [rb_observer],\n",
    "    max_episodes=num_episodes)\n",
    "  initial_time_step = environment.reset()\n",
    "  driver.run(initial_time_step)"
   ]
  },
  {
   "cell_type": "markdown",
   "metadata": {
    "id": "hBc9lj9VWWtZ"
   },
   "source": [
    "## Training the agent\n",
    "\n",
    "The training loop involves both collecting data from the environment and optimizing the agent's networks. Along the way, we will occasionally evaluate the agent's policy to see how we are doing.\n",
    "\n",
    "The following will take ~3 minutes to run."
   ]
  },
  {
   "cell_type": "code",
   "execution_count": 16,
   "metadata": {
    "id": "0pTbJ3PeyF-u"
   },
   "outputs": [
    {
     "name": "stderr",
     "output_type": "stream",
     "text": [
      "[reverb/cc/client.cc:165] Sampler and server are owned by the same process (7279) so Table uniform_table is accessed directly without gRPC.\n",
      "[reverb/cc/client.cc:165] Sampler and server are owned by the same process (7279) so Table uniform_table is accessed directly without gRPC.\n",
      "[reverb/cc/client.cc:165] Sampler and server are owned by the same process (7279) so Table uniform_table is accessed directly without gRPC.\n",
      "[reverb/cc/client.cc:165] Sampler and server are owned by the same process (7279) so Table uniform_table is accessed directly without gRPC.\n",
      "[reverb/cc/client.cc:165] Sampler and server are owned by the same process (7279) so Table uniform_table is accessed directly without gRPC.\n"
     ]
    },
    {
     "name": "stdout",
     "output_type": "stream",
     "text": [
      "step = 25: loss = 1.1561598777770996\n"
     ]
    },
    {
     "name": "stderr",
     "output_type": "stream",
     "text": [
      "[reverb/cc/client.cc:165] Sampler and server are owned by the same process (7279) so Table uniform_table is accessed directly without gRPC.\n"
     ]
    },
    {
     "name": "stdout",
     "output_type": "stream",
     "text": [
      "step = 50: loss = 1.2616770267486572\n",
      "step = 50: Average Return = 72.5\n"
     ]
    },
    {
     "name": "stderr",
     "output_type": "stream",
     "text": [
      "[reverb/cc/client.cc:165] Sampler and server are owned by the same process (7279) so Table uniform_table is accessed directly without gRPC.\n"
     ]
    },
    {
     "name": "stdout",
     "output_type": "stream",
     "text": [
      "step = 75: loss = 1.3364214897155762\n",
      "step = 100: loss = 1.1098086833953857\n",
      "step = 100: Average Return = 74.80000305175781\n",
      "step = 125: loss = 1.2001838684082031\n"
     ]
    },
    {
     "name": "stderr",
     "output_type": "stream",
     "text": [
      "[reverb/cc/client.cc:165] Sampler and server are owned by the same process (7279) so Table uniform_table is accessed directly without gRPC.\n"
     ]
    },
    {
     "name": "stdout",
     "output_type": "stream",
     "text": [
      "step = 150: loss = 0.009887158870697021\n",
      "step = 150: Average Return = 187.5\n",
      "step = 175: loss = -2.9644203186035156\n",
      "step = 200: loss = 2.324007987976074\n",
      "step = 200: Average Return = 179.0\n",
      "step = 225: loss = 1.518868327140808\n",
      "step = 250: loss = 2.695218086242676\n",
      "step = 250: Average Return = 172.89999389648438\n"
     ]
    }
   ],
   "source": [
    "#@test {\"skip\": true}\n",
    "try:\n",
    "  %%time\n",
    "except:\n",
    "  pass\n",
    "\n",
    "# (Optional) Optimize by wrapping some of the code in a graph using TF function.\n",
    "tf_agent.train = common.function(tf_agent.train)\n",
    "\n",
    "# Reset the train step\n",
    "tf_agent.train_step_counter.assign(0)\n",
    "\n",
    "# Evaluate the agent's policy once before training.\n",
    "avg_return = compute_avg_return(eval_env, tf_agent.policy, num_eval_episodes)\n",
    "returns = [avg_return]\n",
    "\n",
    "for _ in range(num_iterations):\n",
    "\n",
    "  # Collect a few episodes using collect_policy and save to the replay buffer.\n",
    "  collect_episode(\n",
    "      train_py_env, tf_agent.collect_policy, collect_episodes_per_iteration)\n",
    "\n",
    "  # Use data from the buffer and update the agent's network.\n",
    "  iterator = iter(replay_buffer.as_dataset(sample_batch_size=1))\n",
    "  trajectories, _ = next(iterator)\n",
    "  train_loss = tf_agent.train(experience=trajectories)  \n",
    "\n",
    "  replay_buffer.clear()\n",
    "\n",
    "  step = tf_agent.train_step_counter.numpy()\n",
    "\n",
    "  if step % log_interval == 0:\n",
    "    print('step = {0}: loss = {1}'.format(step, train_loss.loss))\n",
    "\n",
    "  if step % eval_interval == 0:\n",
    "    avg_return = compute_avg_return(eval_env, tf_agent.policy, num_eval_episodes)\n",
    "    print('step = {0}: Average Return = {1}'.format(step, avg_return))\n",
    "    returns.append(avg_return)"
   ]
  },
  {
   "cell_type": "markdown",
   "metadata": {
    "id": "68jNcA_TiJDq"
   },
   "source": [
    "## Visualization\n"
   ]
  },
  {
   "cell_type": "markdown",
   "metadata": {
    "id": "aO-LWCdbbOIC"
   },
   "source": [
    "### Plots\n",
    "\n",
    "We can plot return vs global steps to see the performance of our agent. In `Cartpole-v0`, the environment gives a reward of +1 for every time step the pole stays up, and since the maximum number of steps is 200, the maximum possible return is also 200."
   ]
  },
  {
   "cell_type": "code",
   "execution_count": 17,
   "metadata": {
    "id": "NxtL1mbOYCVO"
   },
   "outputs": [
    {
     "data": {
      "text/plain": [
       "(3.75, 250.0)"
      ]
     },
     "execution_count": 17,
     "metadata": {},
     "output_type": "execute_result"
    },
    {
     "data": {
      "image/png": "[encoded data removed]",
      "text/plain": [
       "<Figure size 640x480 with 1 Axes>"
      ]
     },
     "metadata": {},
     "output_type": "display_data"
    }
   ],
   "source": [
    "#@test {\"skip\": true}\n",
    "\n",
    "steps = range(0, num_iterations + 1, eval_interval)\n",
    "plt.plot(steps, returns)\n",
    "plt.ylabel('Average Return')\n",
    "plt.xlabel('Step')\n",
    "plt.ylim(top=250)"
   ]
  },
  {
   "cell_type": "markdown",
   "metadata": {
    "id": "M7-XpPP99Cy7"
   },
   "source": [
    "### Videos"
   ]
  },
  {
   "cell_type": "markdown",
   "metadata": {
    "id": "9pGfGxSH32gn"
   },
   "source": [
    "It is helpful to visualize the performance of an agent by rendering the environment at each step. Before we do that, let us first create a function to embed videos in this colab."
   ]
  },
  {
   "cell_type": "code",
   "execution_count": 18,
   "metadata": {
    "id": "ULaGr8pvOKbl"
   },
   "outputs": [],
   "source": [
    "def embed_mp4(filename):\n",
    "  \"\"\"Embeds an mp4 file in the notebook.\"\"\"\n",
    "  video = open(filename,'rb').read()\n",
    "  b64 = base64.b64encode(video)\n",
    "  tag = '''\n",
    "  <video width=\"640\" height=\"480\" controls>\n",
    "    <source src=\"data:video/mp4;base64,{0}\" type=\"video/mp4\">\n",
    "  Your browser does not support the video tag.\n",
    "  </video>'''.format(b64.decode())\n",
    "\n",
    "  return IPython.display.HTML(tag)"
   ]
  },
  {
   "cell_type": "markdown",
   "metadata": {
    "id": "9c_PH-pX4Pr5"
   },
   "source": [
    "The following code visualizes the agent's policy for a few episodes:"
   ]
  },
  {
   "cell_type": "code",
   "execution_count": 19,
   "metadata": {
    "id": "owOVWB158NlF"
   },
   "outputs": [
    {
     "name": "stderr",
     "output_type": "stream",
     "text": [
      "ALSA lib confmisc.c:855:(parse_card) cannot find card '0'\n",
      "ALSA lib conf.c:5178:(_snd_config_evaluate) function snd_func_card_inum returned error: No such file or directory\n",
      "ALSA lib confmisc.c:422:(snd_func_concat) error evaluating strings\n",
      "ALSA lib conf.c:5178:(_snd_config_evaluate) function snd_func_concat returned error: No such file or directory\n",
      "ALSA lib confmisc.c:1334:(snd_func_refer) error evaluating name\n",
      "ALSA lib conf.c:5178:(_snd_config_evaluate) function snd_func_refer returned error: No such file or directory\n",
      "ALSA lib conf.c:5701:(snd_config_expand) Evaluate error: No such file or directory\n",
      "ALSA lib pcm.c:2664:(snd_pcm_open_noupdate) Unknown PCM default\n",
      "WARNING:root:IMAGEIO FFMPEG_WRITER WARNING: input image is not divisible by macro_block_size=16, resizing from (400, 600) to (400, 608) to ensure video compatibility with most codecs and players. To prevent resizing, make your input image divisible by the macro_block_size or set the macro_block_size to None (risking incompatibility). You may also see a FFMPEG warning concerning speedloss due to data not being aligned.\n",
      "[swscaler @ 0x55da85bb2240] Warning: data is not aligned! This can lead to a speed loss\n"
     ]
    },
    {
     "data": {
      "text/html": [
       "\n",
       "  <video width=\"640\" height=\"480\" controls>\n",
       "    <source src=\"data:video/mp4;base64,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\" type=\"video/mp4\">\n",
       "  Your browser does not support the video tag.\n",
       "  </video>"
      ],
      "text/plain": [
       "<IPython.core.display.HTML object>"
      ]
     },
     "execution_count": 19,
     "metadata": {},
     "output_type": "execute_result"
    }
   ],
   "source": [
    "num_episodes = 1\n",
    "video_filename = 'imageio.mp4'\n",
    "with imageio.get_writer(video_filename, fps=60) as video:\n",
    "  for _ in range(num_episodes):\n",
    "    time_step = eval_env.reset()\n",
    "    video.append_data(eval_py_env.render())\n",
    "    while not time_step.is_last():\n",
    "      action_step = tf_agent.policy.action(time_step)\n",
    "      time_step = eval_env.step(action_step.action)\n",
    "      video.append_data(eval_py_env.render())\n",
    "\n",
    "embed_mp4(video_filename)"
   ]
  }
 ],
 "metadata": {
  "accelerator": "GPU",
  "colab": {
   "collapsed_sections": [],
   "name": "6_reinforce_tutorial.ipynb",
   "provenance": [],
   "toc_visible": true
  },
  "kernelspec": {
   "display_name": "Python 3 (ipykernel)",
   "language": "python",
   "name": "python3"
  },
  "language_info": {
   "codemirror_mode": {
    "name": "ipython",
    "version": 3
   },
   "file_extension": ".py",
   "mimetype": "text/x-python",
   "name": "python",
   "nbconvert_exporter": "python",
   "pygments_lexer": "ipython3",
   "version": "3.11.5"
  }
 },
 "nbformat": 4,
 "nbformat_minor": 4
}
