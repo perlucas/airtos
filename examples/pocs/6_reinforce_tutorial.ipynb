{
 "cells": [
  {
   "cell_type": "markdown",
   "metadata": {
    "id": "klGNgWREsvQv"
   },
   "source": [
    "##### Copyright 2023 The TF-Agents Authors."
   ]
  },
  {
   "cell_type": "code",
   "execution_count": 1,
   "metadata": {
    "cellView": "form",
    "id": "nQnmcm0oI1Q-"
   },
   "outputs": [],
   "source": [
    "#@title Licensed under the Apache License, Version 2.0 (the \"License\");\n",
    "# you may not use this file except in compliance with the License.\n",
    "# You may obtain a copy of the License at\n",
    "#\n",
    "# https://www.apache.org/licenses/LICENSE-2.0\n",
    "#\n",
    "# Unless required by applicable law or agreed to in writing, software\n",
    "# distributed under the License is distributed on an \"AS IS\" BASIS,\n",
    "# WITHOUT WARRANTIES OR CONDITIONS OF ANY KIND, either express or implied.\n",
    "# See the License for the specific language governing permissions and\n",
    "# limitations under the License."
   ]
  },
  {
   "cell_type": "markdown",
   "metadata": {
    "id": "HNtBC6Bbb1YU"
   },
   "source": [
    "# REINFORCE agent\n",
    "\n",
    "<table class=\"tfo-notebook-buttons\" align=\"left\">\n",
    "  <td>\n",
    "    <a target=\"_blank\" href=\"https://www.tensorflow.org/agents/tutorials/6_reinforce_tutorial\">\n",
    "    <img src=\"https://www.tensorflow.org/images/tf_logo_32px.png\" />\n",
    "    View on TensorFlow.org</a>\n",
    "  </td>\n",
    "  <td>\n",
    "    <a target=\"_blank\" href=\"https://colab.research.google.com/github/tensorflow/agents/blob/master/docs/tutorials/6_reinforce_tutorial.ipynb\">\n",
    "    <img src=\"https://www.tensorflow.org/images/colab_logo_32px.png\" />\n",
    "    Run in Google Colab</a>\n",
    "  </td>\n",
    "  <td>\n",
    "    <a target=\"_blank\" href=\"https://github.com/tensorflow/agents/blob/master/docs/tutorials/6_reinforce_tutorial.ipynb\">\n",
    "    <img src=\"https://www.tensorflow.org/images/GitHub-Mark-32px.png\" />\n",
    "    View source on GitHub</a>\n",
    "  </td>\n",
    "  <td>\n",
    "    <a href=\"https://storage.googleapis.com/tensorflow_docs/agents/docs/tutorials/6_reinforce_tutorial.ipynb\"><img src=\"https://www.tensorflow.org/images/download_logo_32px.png\" />Download notebook</a>\n",
    "  </td>\n",
    "</table>"
   ]
  },
  {
   "cell_type": "markdown",
   "metadata": {
    "id": "ZOUOQOrFs3zn"
   },
   "source": [
    "## Introduction"
   ]
  },
  {
   "cell_type": "markdown",
   "metadata": {
    "id": "cKOCZlhUgXVK"
   },
   "source": [
    "This example shows how to train a [REINFORCE](https://www-anw.cs.umass.edu/~barto/courses/cs687/williams92simple.pdf) agent on the Cartpole environment using the TF-Agents library, similar to the [DQN tutorial](1_dqn_tutorial.ipynb).\n",
    "\n",
    "![Cartpole environment](images/cartpole.png)\n",
    "\n",
    "We will walk you through all the components in a Reinforcement Learning (RL) pipeline for training, evaluation and data collection.\n"
   ]
  },
  {
   "cell_type": "markdown",
   "metadata": {
    "id": "1u9QVVsShC9X"
   },
   "source": [
    "## Setup"
   ]
  },
  {
   "cell_type": "markdown",
   "metadata": {
    "id": "I5PNmEzIb9t4"
   },
   "source": [
    "If you haven't installed the following dependencies, run:"
   ]
  },
  {
   "cell_type": "code",
   "execution_count": 2,
   "metadata": {
    "id": "KEHR2Ui-lo8O"
   },
   "outputs": [
    {
     "name": "stdout",
     "output_type": "stream",
     "text": [
      "Hit:1 http://archive.ubuntu.com/ubuntu jammy InRelease\n",
      "Hit:2 http://archive.ubuntu.com/ubuntu jammy-updates InRelease\n",
      "Hit:3 http://archive.ubuntu.com/ubuntu jammy-backports InRelease\n",
      "Hit:4 http://security.ubuntu.com/ubuntu jammy-security InRelease\n",
      "Reading package lists... Done\n",
      "Reading package lists... Done\n",
      "Building dependency tree... Done\n",
      "Reading state information... Done\n",
      "freeglut3-dev is already the newest version (2.8.1-6).\n",
      "ffmpeg is already the newest version (7:4.4.2-0ubuntu0.22.04.1).\n",
      "xvfb is already the newest version (2:21.1.4-2ubuntu1.7~22.04.1).\n",
      "0 upgraded, 0 newly installed, 0 to remove and 9 not upgraded.\n",
      "Requirement already satisfied: imageio==2.4.0 in /opt/conda/lib/python3.11/site-packages (2.4.0)\n",
      "Requirement already satisfied: numpy in /opt/conda/lib/python3.11/site-packages (from imageio==2.4.0) (1.24.3)\n",
      "Requirement already satisfied: pillow in /opt/conda/lib/python3.11/site-packages (from imageio==2.4.0) (10.0.0)\n",
      "Requirement already satisfied: pyvirtualdisplay in /opt/conda/lib/python3.11/site-packages (3.0)\n",
      "Requirement already satisfied: tf-agents[reverb] in /opt/conda/lib/python3.11/site-packages (0.17.0)\n",
      "Requirement already satisfied: absl-py>=0.6.1 in /opt/conda/lib/python3.11/site-packages (from tf-agents[reverb]) (1.4.0)\n",
      "Requirement already satisfied: cloudpickle>=1.3 in /opt/conda/lib/python3.11/site-packages (from tf-agents[reverb]) (2.2.1)\n",
      "Requirement already satisfied: gin-config>=0.4.0 in /opt/conda/lib/python3.11/site-packages (from tf-agents[reverb]) (0.5.0)\n",
      "Requirement already satisfied: gym<=0.23.0,>=0.17.0 in /opt/conda/lib/python3.11/site-packages (from tf-agents[reverb]) (0.23.0)\n",
      "Requirement already satisfied: numpy>=1.19.0 in /opt/conda/lib/python3.11/site-packages (from tf-agents[reverb]) (1.24.3)\n",
      "Requirement already satisfied: pillow in /opt/conda/lib/python3.11/site-packages (from tf-agents[reverb]) (10.0.0)\n",
      "Requirement already satisfied: six>=1.10.0 in /opt/conda/lib/python3.11/site-packages (from tf-agents[reverb]) (1.16.0)\n",
      "Requirement already satisfied: protobuf>=3.11.3 in /opt/conda/lib/python3.11/site-packages (from tf-agents[reverb]) (4.23.3)\n",
      "Requirement already satisfied: wrapt>=1.11.1 in /opt/conda/lib/python3.11/site-packages (from tf-agents[reverb]) (1.15.0)\n",
      "Requirement already satisfied: typing-extensions<4.6.0,>=3.7.4.3 in /opt/conda/lib/python3.11/site-packages (from tf-agents[reverb]) (4.5.0)\n",
      "Requirement already satisfied: pygame==2.1.3 in /opt/conda/lib/python3.11/site-packages (from tf-agents[reverb]) (2.1.3)\n",
      "Requirement already satisfied: tensorflow-probability~=0.20.1 in /opt/conda/lib/python3.11/site-packages (from tf-agents[reverb]) (0.20.1)\n",
      "Requirement already satisfied: rlds in /opt/conda/lib/python3.11/site-packages (from tf-agents[reverb]) (0.1.8)\n",
      "Requirement already satisfied: dm-reverb~=0.12.0 in /opt/conda/lib/python3.11/site-packages (from tf-agents[reverb]) (0.12.0)\n",
      "Requirement already satisfied: tensorflow~=2.13.0 in /opt/conda/lib/python3.11/site-packages (from tf-agents[reverb]) (2.13.0)\n",
      "Requirement already satisfied: dm-tree in /opt/conda/lib/python3.11/site-packages (from dm-reverb~=0.12.0->tf-agents[reverb]) (0.1.8)\n",
      "Requirement already satisfied: portpicker in /opt/conda/lib/python3.11/site-packages (from dm-reverb~=0.12.0->tf-agents[reverb]) (1.6.0)\n",
      "Requirement already satisfied: gym-notices>=0.0.4 in /opt/conda/lib/python3.11/site-packages (from gym<=0.23.0,>=0.17.0->tf-agents[reverb]) (0.0.8)\n",
      "Requirement already satisfied: astunparse>=1.6.0 in /opt/conda/lib/python3.11/site-packages (from tensorflow~=2.13.0->tf-agents[reverb]) (1.6.3)\n",
      "Requirement already satisfied: flatbuffers>=23.1.21 in /opt/conda/lib/python3.11/site-packages (from tensorflow~=2.13.0->tf-agents[reverb]) (23.5.26)\n",
      "Requirement already satisfied: gast<=0.4.0,>=0.2.1 in /opt/conda/lib/python3.11/site-packages (from tensorflow~=2.13.0->tf-agents[reverb]) (0.4.0)\n",
      "Requirement already satisfied: google-pasta>=0.1.1 in /opt/conda/lib/python3.11/site-packages (from tensorflow~=2.13.0->tf-agents[reverb]) (0.2.0)\n",
      "Requirement already satisfied: grpcio<2.0,>=1.24.3 in /opt/conda/lib/python3.11/site-packages (from tensorflow~=2.13.0->tf-agents[reverb]) (1.58.0)\n",
      "Requirement already satisfied: h5py>=2.9.0 in /opt/conda/lib/python3.11/site-packages (from tensorflow~=2.13.0->tf-agents[reverb]) (3.9.0)\n",
      "Requirement already satisfied: keras<2.14,>=2.13.1 in /opt/conda/lib/python3.11/site-packages (from tensorflow~=2.13.0->tf-agents[reverb]) (2.13.1)\n",
      "Requirement already satisfied: libclang>=13.0.0 in /opt/conda/lib/python3.11/site-packages (from tensorflow~=2.13.0->tf-agents[reverb]) (16.0.6)\n",
      "Requirement already satisfied: opt-einsum>=2.3.2 in /opt/conda/lib/python3.11/site-packages (from tensorflow~=2.13.0->tf-agents[reverb]) (3.3.0)\n",
      "Requirement already satisfied: packaging in /opt/conda/lib/python3.11/site-packages (from tensorflow~=2.13.0->tf-agents[reverb]) (23.1)\n",
      "Requirement already satisfied: setuptools in /opt/conda/lib/python3.11/site-packages (from tensorflow~=2.13.0->tf-agents[reverb]) (68.1.2)\n",
      "Requirement already satisfied: tensorboard<2.14,>=2.13 in /opt/conda/lib/python3.11/site-packages (from tensorflow~=2.13.0->tf-agents[reverb]) (2.13.0)\n",
      "Requirement already satisfied: tensorflow-estimator<2.14,>=2.13.0 in /opt/conda/lib/python3.11/site-packages (from tensorflow~=2.13.0->tf-agents[reverb]) (2.13.0)\n",
      "Requirement already satisfied: termcolor>=1.1.0 in /opt/conda/lib/python3.11/site-packages (from tensorflow~=2.13.0->tf-agents[reverb]) (2.3.0)\n",
      "Requirement already satisfied: tensorflow-io-gcs-filesystem>=0.23.1 in /opt/conda/lib/python3.11/site-packages (from tensorflow~=2.13.0->tf-agents[reverb]) (0.34.0)\n",
      "Requirement already satisfied: decorator in /opt/conda/lib/python3.11/site-packages (from tensorflow-probability~=0.20.1->tf-agents[reverb]) (5.1.1)\n",
      "Requirement already satisfied: wheel<1.0,>=0.23.0 in /opt/conda/lib/python3.11/site-packages (from astunparse>=1.6.0->tensorflow~=2.13.0->tf-agents[reverb]) (0.41.2)\n",
      "Requirement already satisfied: google-auth<3,>=1.6.3 in /opt/conda/lib/python3.11/site-packages (from tensorboard<2.14,>=2.13->tensorflow~=2.13.0->tf-agents[reverb]) (2.22.0)\n",
      "Requirement already satisfied: google-auth-oauthlib<1.1,>=0.5 in /opt/conda/lib/python3.11/site-packages (from tensorboard<2.14,>=2.13->tensorflow~=2.13.0->tf-agents[reverb]) (1.0.0)\n",
      "Requirement already satisfied: markdown>=2.6.8 in /opt/conda/lib/python3.11/site-packages (from tensorboard<2.14,>=2.13->tensorflow~=2.13.0->tf-agents[reverb]) (3.4.4)\n",
      "Requirement already satisfied: requests<3,>=2.21.0 in /opt/conda/lib/python3.11/site-packages (from tensorboard<2.14,>=2.13->tensorflow~=2.13.0->tf-agents[reverb]) (2.31.0)\n",
      "Requirement already satisfied: tensorboard-data-server<0.8.0,>=0.7.0 in /opt/conda/lib/python3.11/site-packages (from tensorboard<2.14,>=2.13->tensorflow~=2.13.0->tf-agents[reverb]) (0.7.1)\n",
      "Requirement already satisfied: werkzeug>=1.0.1 in /opt/conda/lib/python3.11/site-packages (from tensorboard<2.14,>=2.13->tensorflow~=2.13.0->tf-agents[reverb]) (2.3.7)\n",
      "Requirement already satisfied: psutil in /opt/conda/lib/python3.11/site-packages (from portpicker->dm-reverb~=0.12.0->tf-agents[reverb]) (5.9.5)\n",
      "Requirement already satisfied: cachetools<6.0,>=2.0.0 in /opt/conda/lib/python3.11/site-packages (from google-auth<3,>=1.6.3->tensorboard<2.14,>=2.13->tensorflow~=2.13.0->tf-agents[reverb]) (5.3.1)\n",
      "Requirement already satisfied: pyasn1-modules>=0.2.1 in /opt/conda/lib/python3.11/site-packages (from google-auth<3,>=1.6.3->tensorboard<2.14,>=2.13->tensorflow~=2.13.0->tf-agents[reverb]) (0.3.0)\n",
      "Requirement already satisfied: rsa<5,>=3.1.4 in /opt/conda/lib/python3.11/site-packages (from google-auth<3,>=1.6.3->tensorboard<2.14,>=2.13->tensorflow~=2.13.0->tf-agents[reverb]) (4.9)\n",
      "Requirement already satisfied: urllib3<2.0 in /opt/conda/lib/python3.11/site-packages (from google-auth<3,>=1.6.3->tensorboard<2.14,>=2.13->tensorflow~=2.13.0->tf-agents[reverb]) (1.26.16)\n",
      "Requirement already satisfied: requests-oauthlib>=0.7.0 in /opt/conda/lib/python3.11/site-packages (from google-auth-oauthlib<1.1,>=0.5->tensorboard<2.14,>=2.13->tensorflow~=2.13.0->tf-agents[reverb]) (1.3.1)\n",
      "Requirement already satisfied: charset-normalizer<4,>=2 in /opt/conda/lib/python3.11/site-packages (from requests<3,>=2.21.0->tensorboard<2.14,>=2.13->tensorflow~=2.13.0->tf-agents[reverb]) (3.2.0)\n",
      "Requirement already satisfied: idna<4,>=2.5 in /opt/conda/lib/python3.11/site-packages (from requests<3,>=2.21.0->tensorboard<2.14,>=2.13->tensorflow~=2.13.0->tf-agents[reverb]) (3.4)\n",
      "Requirement already satisfied: certifi>=2017.4.17 in /opt/conda/lib/python3.11/site-packages (from requests<3,>=2.21.0->tensorboard<2.14,>=2.13->tensorflow~=2.13.0->tf-agents[reverb]) (2023.7.22)\n",
      "Requirement already satisfied: MarkupSafe>=2.1.1 in /opt/conda/lib/python3.11/site-packages (from werkzeug>=1.0.1->tensorboard<2.14,>=2.13->tensorflow~=2.13.0->tf-agents[reverb]) (2.1.3)\n",
      "Requirement already satisfied: pyasn1<0.6.0,>=0.4.6 in /opt/conda/lib/python3.11/site-packages (from pyasn1-modules>=0.2.1->google-auth<3,>=1.6.3->tensorboard<2.14,>=2.13->tensorflow~=2.13.0->tf-agents[reverb]) (0.5.0)\n",
      "Requirement already satisfied: oauthlib>=3.0.0 in /opt/conda/lib/python3.11/site-packages (from requests-oauthlib>=0.7.0->google-auth-oauthlib<1.1,>=0.5->tensorboard<2.14,>=2.13->tensorflow~=2.13.0->tf-agents[reverb]) (3.2.2)\n",
      "Requirement already satisfied: pyglet in /opt/conda/lib/python3.11/site-packages (2.0.9)\n",
      "Requirement already satisfied: xvfbwrapper in /opt/conda/lib/python3.11/site-packages (0.2.9)\n"
     ]
    }
   ],
   "source": [
    "!sudo apt-get update\n",
    "!sudo apt-get install -y xvfb ffmpeg freeglut3-dev\n",
    "!pip install 'imageio==2.4.0'\n",
    "!pip install pyvirtualdisplay\n",
    "!pip install tf-agents[reverb]\n",
    "!pip install pyglet xvfbwrapper\n"
   ]
  },
  {
   "cell_type": "code",
   "execution_count": 3,
   "metadata": {
    "id": "sMitx5qSgJk1"
   },
   "outputs": [
    {
     "name": "stderr",
     "output_type": "stream",
     "text": [
      "2023-09-13 01:33:51.752912: I tensorflow/tsl/cuda/cudart_stub.cc:28] Could not find cuda drivers on your machine, GPU will not be used.\n",
      "2023-09-13 01:33:51.811939: I tensorflow/tsl/cuda/cudart_stub.cc:28] Could not find cuda drivers on your machine, GPU will not be used.\n",
      "2023-09-13 01:33:51.812981: I tensorflow/core/platform/cpu_feature_guard.cc:182] This TensorFlow binary is optimized to use available CPU instructions in performance-critical operations.\n",
      "To enable the following instructions: AVX2 FMA, in other operations, rebuild TensorFlow with the appropriate compiler flags.\n",
      "2023-09-13 01:33:52.927138: W tensorflow/compiler/tf2tensorrt/utils/py_utils.cc:38] TF-TRT Warning: Could not find TensorRT\n"
     ]
    }
   ],
   "source": [
    "from __future__ import absolute_import\n",
    "from __future__ import division\n",
    "from __future__ import print_function\n",
    "\n",
    "import base64\n",
    "import imageio\n",
    "import IPython\n",
    "import matplotlib.pyplot as plt\n",
    "import numpy as np\n",
    "import PIL.Image\n",
    "import pyvirtualdisplay\n",
    "import reverb\n",
    "\n",
    "import tensorflow as tf\n",
    "\n",
    "from tf_agents.agents.reinforce import reinforce_agent\n",
    "from tf_agents.drivers import py_driver\n",
    "from tf_agents.environments import suite_gym\n",
    "from tf_agents.environments import tf_py_environment\n",
    "from tf_agents.networks import actor_distribution_network\n",
    "from tf_agents.policies import py_tf_eager_policy\n",
    "from tf_agents.replay_buffers import reverb_replay_buffer\n",
    "from tf_agents.replay_buffers import reverb_utils\n",
    "from tf_agents.specs import tensor_spec\n",
    "from tf_agents.trajectories import trajectory\n",
    "from tf_agents.utils import common\n",
    "\n",
    "# Set up a virtual display for rendering OpenAI gym environments.\n",
    "display = pyvirtualdisplay.Display(visible=0, size=(1400, 900)).start()"
   ]
  },
  {
   "cell_type": "markdown",
   "metadata": {
    "id": "LmC0NDhdLIKY"
   },
   "source": [
    "## Hyperparameters"
   ]
  },
  {
   "cell_type": "code",
   "execution_count": 4,
   "metadata": {
    "id": "HC1kNrOsLSIZ"
   },
   "outputs": [],
   "source": [
    "env_name = \"CartPole-v0\" # @param {type:\"string\"}\n",
    "num_iterations = 500 # @param {type:\"integer\"}\n",
    "collect_episodes_per_iteration = 2 # @param {type:\"integer\"}\n",
    "replay_buffer_capacity = 2000 # @param {type:\"integer\"}\n",
    "\n",
    "fc_layer_params = (100,)\n",
    "\n",
    "learning_rate = 1e-3 # @param {type:\"number\"}\n",
    "log_interval = 25 # @param {type:\"integer\"}\n",
    "num_eval_episodes = 10 # @param {type:\"integer\"}\n",
    "eval_interval = 50 # @param {type:\"integer\"}"
   ]
  },
  {
   "cell_type": "markdown",
   "metadata": {
    "id": "VMsJC3DEgI0x"
   },
   "source": [
    "## Environment\n",
    "\n",
    "Environments in RL represent the task or problem that we are trying to solve. Standard environments can be easily created in TF-Agents using `suites`. We have different `suites` for loading environments from sources such as the OpenAI Gym, Atari, DM Control, etc., given a string environment name.\n",
    "\n",
    "Now let us load the CartPole environment from the OpenAI Gym suite."
   ]
  },
  {
   "cell_type": "code",
   "execution_count": 5,
   "metadata": {
    "id": "pYEz-S9gEv2-"
   },
   "outputs": [],
   "source": [
    "env = suite_gym.load(env_name)"
   ]
  },
  {
   "cell_type": "markdown",
   "metadata": {
    "id": "IIHYVBkuvPNw"
   },
   "source": [
    "We can render this environment to see how it looks. A free-swinging pole is attached to a cart.  The goal is to move the cart right or left in order to keep the pole pointing up."
   ]
  },
  {
   "cell_type": "code",
   "execution_count": 6,
   "metadata": {
    "id": "RlO7WIQHu_7D"
   },
   "outputs": [
    {
     "name": "stderr",
     "output_type": "stream",
     "text": [
      "ALSA lib confmisc.c:855:(parse_card) cannot find card '0'\n",
      "ALSA lib conf.c:5178:(_snd_config_evaluate) function snd_func_card_inum returned error: No such file or directory\n",
      "ALSA lib confmisc.c:422:(snd_func_concat) error evaluating strings\n",
      "ALSA lib conf.c:5178:(_snd_config_evaluate) function snd_func_concat returned error: No such file or directory\n",
      "ALSA lib confmisc.c:1334:(snd_func_refer) error evaluating name\n",
      "ALSA lib conf.c:5178:(_snd_config_evaluate) function snd_func_refer returned error: No such file or directory\n",
      "ALSA lib conf.c:5701:(snd_config_expand) Evaluate error: No such file or directory\n",
      "ALSA lib pcm.c:2664:(snd_pcm_open_noupdate) Unknown PCM default\n"
     ]
    },
    {
     "data": {
      "image/jpeg": "[encoded data removed]",
      "image/png": "[encoded data removed]",
      "text/plain": [
       "<PIL.Image.Image image mode=RGB size=600x400>"
      ]
     },
     "execution_count": 6,
     "metadata": {},
     "output_type": "execute_result"
    }
   ],
   "source": [
    "#@test {\"skip\": true}\n",
    "env.reset()\n",
    "PIL.Image.fromarray(env.render())"
   ]
  },
  {
   "cell_type": "markdown",
   "metadata": {
    "id": "B9_lskPOey18"
   },
   "source": [
    "The `time_step = environment.step(action)` statement takes `action` in the environment.  The `TimeStep` tuple returned contains the environment's next observation and reward for that action. The `time_step_spec()` and `action_spec()` methods in the environment return the specifications (types, shapes, bounds) of the `time_step` and `action` respectively."
   ]
  },
  {
   "cell_type": "code",
   "execution_count": 7,
   "metadata": {
    "id": "exDv57iHfwQV"
   },
   "outputs": [
    {
     "name": "stdout",
     "output_type": "stream",
     "text": [
      "Observation Spec:\n",
      "BoundedArraySpec(shape=(4,), dtype=dtype('float32'), name='observation', minimum=[-4.8000002e+00 -3.4028235e+38 -4.1887903e-01 -3.4028235e+38], maximum=[4.8000002e+00 3.4028235e+38 4.1887903e-01 3.4028235e+38])\n",
      "Action Spec:\n",
      "BoundedArraySpec(shape=(), dtype=dtype('int64'), name='action', minimum=0, maximum=1)\n"
     ]
    }
   ],
   "source": [
    "print('Observation Spec:')\n",
    "print(env.time_step_spec().observation)\n",
    "print('Action Spec:')\n",
    "print(env.action_spec())"
   ]
  },
  {
   "cell_type": "markdown",
   "metadata": {
    "id": "eJCgJnx3g0yY"
   },
   "source": [
    "So, we see that observation is an array of 4 floats: the position and velocity of the cart, and the angular position and velocity of the pole. Since only two actions are possible (move left or move right), the `action_spec` is a scalar where 0 means \"move left\" and 1 means \"move right.\""
   ]
  },
  {
   "cell_type": "code",
   "execution_count": 8,
   "metadata": {
    "id": "V2UGR5t_iZX-"
   },
   "outputs": [
    {
     "name": "stdout",
     "output_type": "stream",
     "text": [
      "Time step:\n",
      "TimeStep(\n",
      "{'discount': array(1., dtype=float32),\n",
      " 'observation': array([-0.01034022, -0.01253319, -0.00227474, -0.0180205 ], dtype=float32),\n",
      " 'reward': array(0., dtype=float32),\n",
      " 'step_type': array(0, dtype=int32)})\n",
      "Next time step:\n",
      "TimeStep(\n",
      "{'discount': array(1., dtype=float32),\n",
      " 'observation': array([-0.01059089,  0.18262132, -0.00263515, -0.31142026], dtype=float32),\n",
      " 'reward': array(1., dtype=float32),\n",
      " 'step_type': array(1, dtype=int32)})\n"
     ]
    }
   ],
   "source": [
    "time_step = env.reset()\n",
    "print('Time step:')\n",
    "print(time_step)\n",
    "\n",
    "action = np.array(1, dtype=np.int32)\n",
    "\n",
    "next_time_step = env.step(action)\n",
    "print('Next time step:')\n",
    "print(next_time_step)"
   ]
  },
  {
   "cell_type": "markdown",
   "metadata": {
    "id": "zuUqXAVmecTU"
   },
   "source": [
    "Usually we create two environments: one for training and one for evaluation. Most environments are written in pure python, but they can be easily converted to TensorFlow using the `TFPyEnvironment` wrapper. The original environment's API uses numpy arrays, the `TFPyEnvironment` converts these to/from `Tensors` for you to more easily interact with TensorFlow policies and agents.\n"
   ]
  },
  {
   "cell_type": "code",
   "execution_count": 9,
   "metadata": {
    "id": "Xp-Y4mD6eDhF"
   },
   "outputs": [],
   "source": [
    "train_py_env = suite_gym.load(env_name)\n",
    "eval_py_env = suite_gym.load(env_name)\n",
    "\n",
    "train_env = tf_py_environment.TFPyEnvironment(train_py_env)\n",
    "eval_env = tf_py_environment.TFPyEnvironment(eval_py_env)"
   ]
  },
  {
   "cell_type": "markdown",
   "metadata": {
    "id": "E9lW_OZYFR8A"
   },
   "source": [
    "## Agent\n",
    "\n",
    "The algorithm that we use to solve an RL problem is represented as an `Agent`. In addition to the REINFORCE agent, TF-Agents provides standard implementations of a variety of `Agents` such as [DQN](https://storage.googleapis.com/deepmind-media/dqn/DQNNaturePaper.pdf), [DDPG](https://arxiv.org/pdf/1509.02971.pdf), [TD3](https://arxiv.org/pdf/1802.09477.pdf), [PPO](https://arxiv.org/abs/1707.06347) and [SAC](https://arxiv.org/abs/1801.01290).\n",
    "\n",
    "To create a REINFORCE Agent, we first need an `Actor Network` that can learn to predict the action given an observation from the environment.\n",
    "\n",
    "We can easily create an `Actor Network` using the specs of the observations and actions. We can specify the layers in the network which, in this example, is the `fc_layer_params` argument set to a tuple of `ints` representing the sizes of each hidden layer (see the Hyperparameters section above).\n"
   ]
  },
  {
   "cell_type": "code",
   "execution_count": 10,
   "metadata": {
    "id": "TgkdEPg_muzV"
   },
   "outputs": [],
   "source": [
    "actor_net = actor_distribution_network.ActorDistributionNetwork(\n",
    "    train_env.observation_spec(),\n",
    "    train_env.action_spec(),\n",
    "    fc_layer_params=fc_layer_params)"
   ]
  },
  {
   "cell_type": "markdown",
   "metadata": {
    "id": "z62u55hSmviJ"
   },
   "source": [
    "We also need an `optimizer` to train the network we just created, and a `train_step_counter` variable to keep track of how many times the network was updated.\n"
   ]
  },
  {
   "cell_type": "code",
   "execution_count": 11,
   "metadata": {
    "id": "jbY4yrjTEyc9"
   },
   "outputs": [],
   "source": [
    "optimizer = tf.keras.optimizers.Adam(learning_rate=learning_rate)\n",
    "\n",
    "train_step_counter = tf.Variable(0)\n",
    "\n",
    "tf_agent = reinforce_agent.ReinforceAgent(\n",
    "    train_env.time_step_spec(),\n",
    "    train_env.action_spec(),\n",
    "    actor_network=actor_net,\n",
    "    optimizer=optimizer,\n",
    "    normalize_returns=True,\n",
    "    train_step_counter=train_step_counter)\n",
    "tf_agent.initialize()"
   ]
  },
  {
   "cell_type": "markdown",
   "metadata": {
    "id": "I0KLrEPwkn5x"
   },
   "source": [
    "## Policies\n",
    "\n",
    "In TF-Agents, policies represent the standard notion of policies in RL: given a `time_step` produce an action or a distribution over actions. The main method is `policy_step = policy.action(time_step)` where `policy_step` is a named tuple `PolicyStep(action, state, info)`.  The `policy_step.action` is the `action` to be applied to the environment, `state` represents the state for stateful (RNN) policies and `info` may contain auxiliary information such as log probabilities of the actions.\n",
    "\n",
    "Agents contain two policies: the main policy that is used for evaluation/deployment (agent.policy) and another policy that is used for data collection (agent.collect_policy)."
   ]
  },
  {
   "cell_type": "code",
   "execution_count": 12,
   "metadata": {
    "id": "BwY7StuMkuV4"
   },
   "outputs": [],
   "source": [
    "eval_policy = tf_agent.policy\n",
    "collect_policy = tf_agent.collect_policy"
   ]
  },
  {
   "cell_type": "markdown",
   "metadata": {
    "id": "94rCXQtbUbXv"
   },
   "source": [
    "## Metrics and Evaluation\n",
    "\n",
    "The most common metric used to evaluate a policy is the average return. The return is the sum of rewards obtained while running a policy in an environment for an episode, and we usually average this over a few episodes. We can compute the average return metric as follows.\n"
   ]
  },
  {
   "cell_type": "code",
   "execution_count": 13,
   "metadata": {
    "id": "bitzHo5_UbXy"
   },
   "outputs": [],
   "source": [
    "#@test {\"skip\": true}\n",
    "def compute_avg_return(environment, policy, num_episodes=10):\n",
    "\n",
    "  total_return = 0.0\n",
    "  for _ in range(num_episodes):\n",
    "\n",
    "    time_step = environment.reset()\n",
    "    episode_return = 0.0\n",
    "\n",
    "    while not time_step.is_last():\n",
    "      action_step = policy.action(time_step)\n",
    "      time_step = environment.step(action_step.action)\n",
    "      episode_return += time_step.reward\n",
    "    total_return += episode_return\n",
    "\n",
    "  avg_return = total_return / num_episodes\n",
    "  return avg_return.numpy()[0]\n",
    "\n",
    "\n",
    "# Please also see the metrics module for standard implementations of different\n",
    "# metrics."
   ]
  },
  {
   "cell_type": "markdown",
   "metadata": {
    "id": "NLva6g2jdWgr"
   },
   "source": [
    "## Replay Buffer\n",
    "\n",
    "In order to keep track of the data collected from the environment, we will use [Reverb](https://deepmind.com/research/open-source/Reverb), an efficient, extensible, and easy-to-use replay system by Deepmind. It stores experience data when we collect trajectories and is consumed during training.\n",
    "\n",
    "This replay buffer is constructed using specs describing the tensors that are to be stored, which can be obtained from the agent using `tf_agent.collect_data_spec`."
   ]
  },
  {
   "cell_type": "code",
   "execution_count": 14,
   "metadata": {
    "id": "vX2zGUWJGWAl"
   },
   "outputs": [
    {
     "name": "stderr",
     "output_type": "stream",
     "text": [
      "[reverb/cc/platform/tfrecord_checkpointer.cc:162]  Initializing TFRecordCheckpointer in /tmp/tmp667bn_e9.\n",
      "[reverb/cc/platform/tfrecord_checkpointer.cc:567] Loading latest checkpoint from /tmp/tmp667bn_e9\n",
      "[reverb/cc/platform/default/server.cc:71] Started replay server on port 38673\n"
     ]
    }
   ],
   "source": [
    "table_name = 'uniform_table'\n",
    "replay_buffer_signature = tensor_spec.from_spec(\n",
    "      tf_agent.collect_data_spec)\n",
    "replay_buffer_signature = tensor_spec.add_outer_dim(\n",
    "      replay_buffer_signature)\n",
    "table = reverb.Table(\n",
    "    table_name,\n",
    "    max_size=replay_buffer_capacity,\n",
    "    sampler=reverb.selectors.Uniform(),\n",
    "    remover=reverb.selectors.Fifo(),\n",
    "    rate_limiter=reverb.rate_limiters.MinSize(1),\n",
    "    signature=replay_buffer_signature)\n",
    "\n",
    "reverb_server = reverb.Server([table])\n",
    "\n",
    "replay_buffer = reverb_replay_buffer.ReverbReplayBuffer(\n",
    "    tf_agent.collect_data_spec,\n",
    "    table_name=table_name,\n",
    "    sequence_length=None,\n",
    "    local_server=reverb_server)\n",
    "\n",
    "rb_observer = reverb_utils.ReverbAddEpisodeObserver(\n",
    "    replay_buffer.py_client,\n",
    "    table_name,\n",
    "    replay_buffer_capacity\n",
    ")"
   ]
  },
  {
   "cell_type": "markdown",
   "metadata": {
    "id": "ZGNTDJpZs4NN"
   },
   "source": [
    "For most agents, the `collect_data_spec` is a `Trajectory` named tuple containing the observation, action, reward etc."
   ]
  },
  {
   "cell_type": "markdown",
   "metadata": {
    "id": "rVD5nQ9ZGo8_"
   },
   "source": [
    "## Data Collection\n",
    "\n",
    "As REINFORCE learns from whole episodes, we define a function to collect an episode using the given data collection policy and save the data (observations, actions, rewards etc.) as trajectories in the replay buffer. Here we are using 'PyDriver' to run the experience collecting loop. You can learn more about TF Agents driver in our [drivers tutorial](https://www.tensorflow.org/agents/tutorials/4_drivers_tutorial)."
   ]
  },
  {
   "cell_type": "code",
   "execution_count": 15,
   "metadata": {
    "id": "wr1KSAEGG4h9"
   },
   "outputs": [],
   "source": [
    "#@test {\"skip\": true}\n",
    "\n",
    "def collect_episode(environment, policy, num_episodes):\n",
    "\n",
    "  driver = py_driver.PyDriver(\n",
    "    environment,\n",
    "    py_tf_eager_policy.PyTFEagerPolicy(\n",
    "      policy, use_tf_function=True),\n",
    "    [rb_observer],\n",
    "    max_episodes=num_episodes)\n",
    "  initial_time_step = environment.reset()\n",
    "  driver.run(initial_time_step)"
   ]
  },
  {
   "cell_type": "markdown",
   "metadata": {
    "id": "hBc9lj9VWWtZ"
   },
   "source": [
    "## Training the agent\n",
    "\n",
    "The training loop involves both collecting data from the environment and optimizing the agent's networks. Along the way, we will occasionally evaluate the agent's policy to see how we are doing.\n",
    "\n",
    "The following will take ~3 minutes to run."
   ]
  },
  {
   "cell_type": "code",
   "execution_count": 16,
   "metadata": {
    "id": "0pTbJ3PeyF-u"
   },
   "outputs": [
    {
     "name": "stderr",
     "output_type": "stream",
     "text": [
      "[reverb/cc/client.cc:165] Sampler and server are owned by the same process (13064) so Table uniform_table is accessed directly without gRPC.\n",
      "[reverb/cc/client.cc:165] Sampler and server are owned by the same process (13064) so Table uniform_table is accessed directly without gRPC.\n",
      "[reverb/cc/client.cc:165] Sampler and server are owned by the same process (13064) so Table uniform_table is accessed directly without gRPC.\n",
      "[reverb/cc/client.cc:165] Sampler and server are owned by the same process (13064) so Table uniform_table is accessed directly without gRPC.\n",
      "[reverb/cc/client.cc:165] Sampler and server are owned by the same process (13064) so Table uniform_table is accessed directly without gRPC.\n"
     ]
    },
    {
     "name": "stdout",
     "output_type": "stream",
     "text": [
      "step = 25: loss = 0.9430840015411377\n"
     ]
    },
    {
     "name": "stderr",
     "output_type": "stream",
     "text": [
      "[reverb/cc/client.cc:165] Sampler and server are owned by the same process (13064) so Table uniform_table is accessed directly without gRPC.\n"
     ]
    },
    {
     "name": "stdout",
     "output_type": "stream",
     "text": [
      "step = 50: loss = 0.7529584765434265\n",
      "step = 50: Average Return = 93.5\n"
     ]
    },
    {
     "name": "stderr",
     "output_type": "stream",
     "text": [
      "[reverb/cc/client.cc:165] Sampler and server are owned by the same process (13064) so Table uniform_table is accessed directly without gRPC.\n"
     ]
    },
    {
     "name": "stdout",
     "output_type": "stream",
     "text": [
      "step = 75: loss = 1.0319714546203613\n",
      "step = 100: loss = 0.8629424571990967\n",
      "step = 100: Average Return = 129.89999389648438\n",
      "step = 125: loss = 1.1972036361694336\n"
     ]
    },
    {
     "name": "stderr",
     "output_type": "stream",
     "text": [
      "[reverb/cc/client.cc:165] Sampler and server are owned by the same process (13064) so Table uniform_table is accessed directly without gRPC.\n"
     ]
    },
    {
     "name": "stdout",
     "output_type": "stream",
     "text": [
      "step = 150: loss = 0.11587154865264893\n",
      "step = 150: Average Return = 176.10000610351562\n",
      "step = 175: loss = 0.6486690044403076\n",
      "step = 200: loss = -2.8479809761047363\n",
      "step = 200: Average Return = 200.0\n",
      "step = 225: loss = 3.463806390762329\n",
      "step = 250: loss = -2.4984242916107178\n",
      "step = 250: Average Return = 196.1999969482422\n"
     ]
    },
    {
     "name": "stderr",
     "output_type": "stream",
     "text": [
      "[reverb/cc/client.cc:165] Sampler and server are owned by the same process (13064) so Table uniform_table is accessed directly without gRPC.\n"
     ]
    },
    {
     "name": "stdout",
     "output_type": "stream",
     "text": [
      "step = 275: loss = 0.4304049015045166\n",
      "step = 300: loss = -6.309297561645508\n",
      "step = 300: Average Return = 200.0\n",
      "step = 325: loss = -4.898589134216309\n",
      "step = 350: loss = -2.8828420639038086\n",
      "step = 350: Average Return = 200.0\n",
      "step = 375: loss = -2.7257819175720215\n",
      "step = 400: loss = -0.398809552192688\n",
      "step = 400: Average Return = 175.3000030517578\n",
      "step = 425: loss = 0.9548473954200745\n",
      "step = 450: loss = -2.834502696990967\n",
      "step = 450: Average Return = 172.60000610351562\n",
      "step = 475: loss = -1.1307395696640015\n",
      "step = 500: loss = -1.1884710788726807\n",
      "step = 500: Average Return = 200.0\n"
     ]
    }
   ],
   "source": [
    "#@test {\"skip\": true}\n",
    "try:\n",
    "  %%time\n",
    "except:\n",
    "  pass\n",
    "\n",
    "# (Optional) Optimize by wrapping some of the code in a graph using TF function.\n",
    "tf_agent.train = common.function(tf_agent.train)\n",
    "\n",
    "# Reset the train step\n",
    "tf_agent.train_step_counter.assign(0)\n",
    "\n",
    "# Evaluate the agent's policy once before training.\n",
    "avg_return = compute_avg_return(eval_env, tf_agent.policy, num_eval_episodes)\n",
    "returns = [avg_return]\n",
    "\n",
    "for _ in range(num_iterations):\n",
    "\n",
    "  # Collect a few episodes using collect_policy and save to the replay buffer.\n",
    "  collect_episode(\n",
    "      train_py_env, tf_agent.collect_policy, collect_episodes_per_iteration)\n",
    "\n",
    "  # Use data from the buffer and update the agent's network.\n",
    "  iterator = iter(replay_buffer.as_dataset(sample_batch_size=1))\n",
    "  trajectories, _ = next(iterator)\n",
    "  train_loss = tf_agent.train(experience=trajectories)  \n",
    "\n",
    "  replay_buffer.clear()\n",
    "\n",
    "  step = tf_agent.train_step_counter.numpy()\n",
    "\n",
    "  if step % log_interval == 0:\n",
    "    print('step = {0}: loss = {1}'.format(step, train_loss.loss))\n",
    "\n",
    "  if step % eval_interval == 0:\n",
    "    avg_return = compute_avg_return(eval_env, tf_agent.policy, num_eval_episodes)\n",
    "    print('step = {0}: Average Return = {1}'.format(step, avg_return))\n",
    "    returns.append(avg_return)"
   ]
  },
  {
   "cell_type": "markdown",
   "metadata": {
    "id": "68jNcA_TiJDq"
   },
   "source": [
    "## Visualization\n"
   ]
  },
  {
   "cell_type": "markdown",
   "metadata": {
    "id": "aO-LWCdbbOIC"
   },
   "source": [
    "### Plots\n",
    "\n",
    "We can plot return vs global steps to see the performance of our agent. In `Cartpole-v0`, the environment gives a reward of +1 for every time step the pole stays up, and since the maximum number of steps is 200, the maximum possible return is also 200."
   ]
  },
  {
   "cell_type": "code",
   "execution_count": 17,
   "metadata": {
    "id": "NxtL1mbOYCVO"
   },
   "outputs": [
    {
     "data": {
      "text/plain": [
       "(0.08000040054321289, 250.0)"
      ]
     },
     "execution_count": 17,
     "metadata": {},
     "output_type": "execute_result"
    },
    {
     "data": {
      "image/png": "[encoded data removed]",
      "text/plain": [
       "<Figure size 640x480 with 1 Axes>"
      ]
     },
     "metadata": {},
     "output_type": "display_data"
    }
   ],
   "source": [
    "#@test {\"skip\": true}\n",
    "\n",
    "steps = range(0, num_iterations + 1, eval_interval)\n",
    "plt.plot(steps, returns)\n",
    "plt.ylabel('Average Return')\n",
    "plt.xlabel('Step')\n",
    "plt.ylim(top=250)"
   ]
  },
  {
   "cell_type": "markdown",
   "metadata": {
    "id": "M7-XpPP99Cy7"
   },
   "source": [
    "### Videos"
   ]
  },
  {
   "cell_type": "markdown",
   "metadata": {
    "id": "9pGfGxSH32gn"
   },
   "source": [
    "It is helpful to visualize the performance of an agent by rendering the environment at each step. Before we do that, let us first create a function to embed videos in this colab."
   ]
  },
  {
   "cell_type": "code",
   "execution_count": 18,
   "metadata": {
    "id": "ULaGr8pvOKbl"
   },
   "outputs": [],
   "source": [
    "def embed_mp4(filename):\n",
    "  \"\"\"Embeds an mp4 file in the notebook.\"\"\"\n",
    "  video = open(filename,'rb').read()\n",
    "  b64 = base64.b64encode(video)\n",
    "  tag = '''\n",
    "  <video width=\"640\" height=\"480\" controls>\n",
    "    <source src=\"data:video/mp4;base64,{0}\" type=\"video/mp4\">\n",
    "  Your browser does not support the video tag.\n",
    "  </video>'''.format(b64.decode())\n",
    "\n",
    "  return IPython.display.HTML(tag)"
   ]
  },
  {
   "cell_type": "markdown",
   "metadata": {
    "id": "9c_PH-pX4Pr5"
   },
   "source": [
    "The following code visualizes the agent's policy for a few episodes:"
   ]
  },
  {
   "cell_type": "code",
   "execution_count": 21,
   "metadata": {
    "id": "owOVWB158NlF"
   },
   "outputs": [
    {
     "name": "stderr",
     "output_type": "stream",
     "text": [
      "WARNING:root:IMAGEIO FFMPEG_WRITER WARNING: input image is not divisible by macro_block_size=16, resizing from (400, 600) to (400, 608) to ensure video compatibility with most codecs and players. To prevent resizing, make your input image divisible by the macro_block_size or set the macro_block_size to None (risking incompatibility). You may also see a FFMPEG warning concerning speedloss due to data not being aligned.\n",
      "[swscaler @ 0x561376574240] Warning: data is not aligned! This can lead to a speed loss\n"
     ]
    },
    {
     "data": {
      "text/html": [
       "\n",
       "  <video width=\"640\" height=\"480\" controls>\n",
       "    <source src=\"data:video/mp4;base64,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\" type=\"video/mp4\">\n",
       "  Your browser does not support the video tag.\n",
       "  </video>"
      ],
      "text/plain": [
       "<IPython.core.display.HTML object>"
      ]
     },
     "execution_count": 21,
     "metadata": {},
     "output_type": "execute_result"
    }
   ],
   "source": [
    "num_episodes = 2\n",
    "video_filename = 'imageio.mp4'\n",
    "with imageio.get_writer(video_filename, fps=60) as video:\n",
    "  for _ in range(num_episodes):\n",
    "    time_step = eval_env.reset()\n",
    "    video.append_data(eval_py_env.render())\n",
    "    while not time_step.is_last():\n",
    "      action_step = tf_agent.policy.action(time_step)\n",
    "      time_step = eval_env.step(action_step.action)\n",
    "      video.append_data(eval_py_env.render())\n",
    "\n",
    "embed_mp4(video_filename)"
   ]
  },
  {
   "cell_type": "code",
   "execution_count": null,
   "metadata": {},
   "outputs": [],
   "source": []
  }
 ],
 "metadata": {
  "accelerator": "GPU",
  "colab": {
   "collapsed_sections": [],
   "name": "6_reinforce_tutorial.ipynb",
   "provenance": [],
   "toc_visible": true
  },
  "kernelspec": {
   "display_name": "Python 3 (ipykernel)",
   "language": "python",
   "name": "python3"
  },
  "language_info": {
   "codemirror_mode": {
    "name": "ipython",
    "version": 3
   },
   "file_extension": ".py",
   "mimetype": "text/x-python",
   "name": "python",
   "nbconvert_exporter": "python",
   "pygments_lexer": "ipython3",
   "version": "3.11.5"
  }
 },
 "nbformat": 4,
 "nbformat_minor": 4
}
